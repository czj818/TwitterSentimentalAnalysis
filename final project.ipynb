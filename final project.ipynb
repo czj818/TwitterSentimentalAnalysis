{
 "cells": [
  {
   "cell_type": "code",
   "execution_count": 1,
   "metadata": {},
   "outputs": [],
   "source": [
    "import pandas as pd\n",
    "import re\n",
    "import matplotlib.pyplot as plt\n",
    "import numpy as np"
   ]
  },
  {
   "cell_type": "code",
   "execution_count": 2,
   "metadata": {},
   "outputs": [],
   "source": [
    "from sklearn.svm import LinearSVC\n",
    "from sklearn.pipeline import Pipeline\n",
    "from sklearn import metrics, linear_model\n",
    "from sklearn.feature_extraction.text import CountVectorizer\n",
    "from sklearn.feature_extraction.text import TfidfVectorizer\n",
    "from sklearn.feature_extraction.text import TfidfTransformer\n",
    "from sklearn.model_selection import train_test_split\n",
    "from sklearn.naive_bayes import MultinomialNB"
   ]
  },
  {
   "cell_type": "markdown",
   "metadata": {},
   "source": [
    "# Data Inspection"
   ]
  },
  {
   "cell_type": "markdown",
   "metadata": {},
   "source": [
    "In this section, we are going to inspect the quality of data we have and talk about approach we are going to take"
   ]
  },
  {
   "cell_type": "markdown",
   "metadata": {},
   "source": [
    "## Read Data"
   ]
  },
  {
   "cell_type": "markdown",
   "metadata": {},
   "source": [
    "We are going to classify on tweets of five different languages: Arabic, Danish, Greek, Turkish, and English. Here we are going to read them and study the basic information of our data."
   ]
  },
  {
   "cell_type": "code",
   "execution_count": 3,
   "metadata": {},
   "outputs": [],
   "source": [
    "def read_file(filename):\n",
    "    global file,labels\n",
    "    file = pd.read_csv(filename, sep='\\t')\n",
    "    file['class'] = file['subtask_a'].factorize()[0]\n",
    "    x_train = file['tweet'].to_list()\n",
    "    y_train = [x for x in file['class']]\n",
    "    return file\n"
   ]
  },
  {
   "cell_type": "markdown",
   "metadata": {},
   "source": [
    "### Arabic"
   ]
  },
  {
   "cell_type": "code",
   "execution_count": 4,
   "metadata": {},
   "outputs": [],
   "source": [
    "train_ar = read_file('offenseval-ar-training-v1.tsv')\n",
    "#eng = read_file('task_a_distant.tsv')"
   ]
  },
  {
   "cell_type": "code",
   "execution_count": 5,
   "metadata": {},
   "outputs": [],
   "source": [
    "test_ar=read_file('offenseval-ar-dev-v1.tsv')"
   ]
  },
  {
   "cell_type": "code",
   "execution_count": 6,
   "metadata": {},
   "outputs": [
    {
     "data": {
      "text/plain": [
       "class\n",
       "0    5468\n",
       "1    1371\n",
       "Name: tweet, dtype: int64"
      ]
     },
     "execution_count": 6,
     "metadata": {},
     "output_type": "execute_result"
    }
   ],
   "source": [
    "#Data is unbalaced\n",
    "train_ar.groupby('class').tweet.count()"
   ]
  },
  {
   "cell_type": "code",
   "execution_count": 7,
   "metadata": {},
   "outputs": [
    {
     "data": {
      "text/plain": [
       "class\n",
       "0    821\n",
       "1    179\n",
       "Name: tweet, dtype: int64"
      ]
     },
     "execution_count": 7,
     "metadata": {},
     "output_type": "execute_result"
    }
   ],
   "source": [
    "test_ar.groupby('class').tweet.count()"
   ]
  },
  {
   "cell_type": "markdown",
   "metadata": {},
   "source": [
    "### Danish"
   ]
  },
  {
   "cell_type": "code",
   "execution_count": 8,
   "metadata": {},
   "outputs": [],
   "source": [
    "da=read_file('offenseval-da-training-v1.tsv')"
   ]
  },
  {
   "cell_type": "code",
   "execution_count": 9,
   "metadata": {},
   "outputs": [
    {
     "data": {
      "text/plain": [
       "class\n",
       "-1       0\n",
       " 0    2576\n",
       " 1     384\n",
       "Name: tweet, dtype: int64"
      ]
     },
     "execution_count": 9,
     "metadata": {},
     "output_type": "execute_result"
    }
   ],
   "source": [
    "da.groupby('class').tweet.count()"
   ]
  },
  {
   "cell_type": "markdown",
   "metadata": {},
   "source": [
    "### Greek"
   ]
  },
  {
   "cell_type": "markdown",
   "metadata": {},
   "source": [
    "gr = read_file('offenseval-greek-training-v1.tsv')"
   ]
  },
  {
   "cell_type": "code",
   "execution_count": 10,
   "metadata": {},
   "outputs": [],
   "source": [
    "gr = read_file('offenseval-greek-training-v1.tsv')"
   ]
  },
  {
   "cell_type": "code",
   "execution_count": 11,
   "metadata": {
    "scrolled": false
   },
   "outputs": [
    {
     "data": {
      "text/html": [
       "<div>\n",
       "<style scoped>\n",
       "    .dataframe tbody tr th:only-of-type {\n",
       "        vertical-align: middle;\n",
       "    }\n",
       "\n",
       "    .dataframe tbody tr th {\n",
       "        vertical-align: top;\n",
       "    }\n",
       "\n",
       "    .dataframe thead th {\n",
       "        text-align: right;\n",
       "    }\n",
       "</style>\n",
       "<table border=\"1\" class=\"dataframe\">\n",
       "  <thead>\n",
       "    <tr style=\"text-align: right;\">\n",
       "      <th></th>\n",
       "      <th>id</th>\n",
       "      <th>tweet</th>\n",
       "      <th>subtask_a</th>\n",
       "      <th>class</th>\n",
       "    </tr>\n",
       "  </thead>\n",
       "  <tbody>\n",
       "    <tr>\n",
       "      <th>0</th>\n",
       "      <td>1172</td>\n",
       "      <td>@USER Οι μουσουλμάνες που τις βιάζουν έτσι κ α...</td>\n",
       "      <td>OFF</td>\n",
       "      <td>0</td>\n",
       "    </tr>\n",
       "    <tr>\n",
       "      <th>1</th>\n",
       "      <td>4078</td>\n",
       "      <td>Η Κάτια προσπαθεί να πείσει οτι δεν είναι ελέφ...</td>\n",
       "      <td>NOT</td>\n",
       "      <td>1</td>\n",
       "    </tr>\n",
       "    <tr>\n",
       "      <th>2</th>\n",
       "      <td>135</td>\n",
       "      <td>Καλά γιατί λες ότι, είσαι νέος αφού γεννήθηκες...</td>\n",
       "      <td>NOT</td>\n",
       "      <td>1</td>\n",
       "    </tr>\n",
       "    <tr>\n",
       "      <th>3</th>\n",
       "      <td>9056</td>\n",
       "      <td>Με Φατσεα ξεκινησαμε...... #Kokkinopotami</td>\n",
       "      <td>NOT</td>\n",
       "      <td>1</td>\n",
       "    </tr>\n",
       "    <tr>\n",
       "      <th>4</th>\n",
       "      <td>5344</td>\n",
       "      <td>#gntmgr Κάτια πόσο γλυκιά, εμετός</td>\n",
       "      <td>NOT</td>\n",
       "      <td>1</td>\n",
       "    </tr>\n",
       "  </tbody>\n",
       "</table>\n",
       "</div>"
      ],
      "text/plain": [
       "     id                                              tweet subtask_a  class\n",
       "0  1172  @USER Οι μουσουλμάνες που τις βιάζουν έτσι κ α...       OFF      0\n",
       "1  4078  Η Κάτια προσπαθεί να πείσει οτι δεν είναι ελέφ...       NOT      1\n",
       "2   135  Καλά γιατί λες ότι, είσαι νέος αφού γεννήθηκες...       NOT      1\n",
       "3  9056          Με Φατσεα ξεκινησαμε...... #Kokkinopotami       NOT      1\n",
       "4  5344                  #gntmgr Κάτια πόσο γλυκιά, εμετός       NOT      1"
      ]
     },
     "execution_count": 11,
     "metadata": {},
     "output_type": "execute_result"
    }
   ],
   "source": [
    "gr.head()"
   ]
  },
  {
   "cell_type": "code",
   "execution_count": 12,
   "metadata": {},
   "outputs": [],
   "source": [
    "#Since in gr 0 is OFF and 1 is NOT, which does not correspond to other datasets, we swap the value\n",
    "gr=gr.replace([0, 1,], [1, 0])"
   ]
  },
  {
   "cell_type": "code",
   "execution_count": 13,
   "metadata": {},
   "outputs": [
    {
     "data": {
      "text/plain": [
       "class\n",
       "0    6257\n",
       "1    2486\n",
       "Name: tweet, dtype: int64"
      ]
     },
     "execution_count": 13,
     "metadata": {},
     "output_type": "execute_result"
    }
   ],
   "source": [
    "gr.groupby('class').tweet.count()"
   ]
  },
  {
   "cell_type": "markdown",
   "metadata": {},
   "source": [
    "### Turkish"
   ]
  },
  {
   "cell_type": "code",
   "execution_count": 14,
   "metadata": {},
   "outputs": [],
   "source": [
    "tr = read_file('offenseval-tr-training-v1.tsv')"
   ]
  },
  {
   "cell_type": "code",
   "execution_count": 15,
   "metadata": {},
   "outputs": [
    {
     "data": {
      "text/plain": [
       "class\n",
       "0    25231\n",
       "1     6046\n",
       "Name: tweet, dtype: int64"
      ]
     },
     "execution_count": 15,
     "metadata": {},
     "output_type": "execute_result"
    }
   ],
   "source": [
    "tr.groupby('class').tweet.count()"
   ]
  },
  {
   "cell_type": "markdown",
   "metadata": {},
   "source": [
    "### English"
   ]
  },
  {
   "cell_type": "code",
   "execution_count": 16,
   "metadata": {},
   "outputs": [],
   "source": [
    "engfile = pd.read_csv('task_a_distant.tsv', sep='\\t')"
   ]
  },
  {
   "cell_type": "code",
   "execution_count": 17,
   "metadata": {},
   "outputs": [],
   "source": [
    "engfile['average'].values[engfile['average'].values>0.5]=1\n",
    "engfile['average'].values[engfile['average'].values<=0.5]=0"
   ]
  },
  {
   "cell_type": "code",
   "execution_count": 18,
   "metadata": {},
   "outputs": [],
   "source": [
    "engfile['tweet'] = engfile['text']\n",
    "engfile['class'] = engfile['average']"
   ]
  },
  {
   "cell_type": "code",
   "execution_count": 19,
   "metadata": {},
   "outputs": [
    {
     "data": {
      "text/plain": [
       "class\n",
       "0.0    7628650\n",
       "1.0    1446768\n",
       "Name: tweet, dtype: int64"
      ]
     },
     "execution_count": 19,
     "metadata": {},
     "output_type": "execute_result"
    }
   ],
   "source": [
    "engfile.groupby('class').tweet.count()"
   ]
  },
  {
   "cell_type": "code",
   "execution_count": 20,
   "metadata": {},
   "outputs": [],
   "source": [
    "eng = engfile.sample(n = 50000)"
   ]
  },
  {
   "cell_type": "code",
   "execution_count": 21,
   "metadata": {},
   "outputs": [
    {
     "data": {
      "text/plain": [
       "class\n",
       "0.0    42064\n",
       "1.0     7936\n",
       "Name: tweet, dtype: int64"
      ]
     },
     "execution_count": 21,
     "metadata": {},
     "output_type": "execute_result"
    }
   ],
   "source": [
    "eng.groupby('class').tweet.count()"
   ]
  },
  {
   "cell_type": "code",
   "execution_count": 22,
   "metadata": {},
   "outputs": [],
   "source": [
    "def clean_text(s):\n",
    "    emoji_pattern = re.compile(\"[\"\n",
    "        u\"\\U0001F600-\\U0001F64F\"  \n",
    "        u\"\\U0001F300-\\U0001F5FF\"  \n",
    "        u\"\\U0001F680-\\U0001F6FF\"  \n",
    "        u\"\\U0001F1E0-\\U0001F1FF\"  \n",
    "        u\"\\U0001F1F2-\\U0001F1F4\"  \n",
    "        u\"\\U0001F1E6-\\U0001F1FF\"  \n",
    "        u\"\\U0001F600-\\U0001F64F\"\n",
    "        u\"\\U00002702-\\U000027B0\"\n",
    "        u\"\\U000024C2-\\U0001F251\"\n",
    "        u\"\\U0001f926-\\U0001f937\"\n",
    "        u\"\\U0001F1F2\"\n",
    "        u\"\\U0001F1F4\"\n",
    "        u\"\\U0001F620\"\n",
    "        u\"\\u200d\"\n",
    "        u\"\\u2640-\\u2642\"\n",
    "        \"]+\", flags=re.UNICODE)\n",
    "    c = emoji_pattern.sub(r'',s)\n",
    "    #c = re.sub(r'http[s]?://(?:[a-zA-Z]|[0-9]|[$-_@.&+]|''[!*\\(\\),]|(?:%[0-9a-fA-F][0-9a-fA-F]))+','',c)\n",
    "    c = c.lower()\n",
    "    #c = re.sub('[^\\w\\s]+',' ', c)\n",
    "    c = re.sub(r'[0-9]+','',c)\n",
    "    #c = c.split()\n",
    "       \n",
    "    return c\n",
    "\n"
   ]
  },
  {
   "cell_type": "markdown",
   "metadata": {},
   "source": [
    "## Imbalanced data"
   ]
  },
  {
   "cell_type": "markdown",
   "metadata": {},
   "source": [
    "Since we already observed that we have imbalanced data, we want to use visualization to understand it."
   ]
  },
  {
   "cell_type": "code",
   "execution_count": 23,
   "metadata": {},
   "outputs": [],
   "source": [
    "barwidth = 0.25\n",
    "bar0 = [5468,2576,6257,25231]\n",
    "bar1 = [1371,384,2486,6046]\n",
    "\n",
    "#position for bar\n",
    "r1 = np.arange(len(bar0))\n",
    "r2 = [x + barwidth for x in r1]\n",
    "#r3 = [x + barwidth for x in r2]\n",
    "#r4 = [x + barwidth for x in r3]"
   ]
  },
  {
   "cell_type": "code",
   "execution_count": 24,
   "metadata": {},
   "outputs": [
    {
     "data": {
      "image/png": "[encoded data removed]",
      "text/plain": [
       "<Figure size 576x432 with 1 Axes>"
      ]
     },
     "metadata": {
      "needs_background": "light"
     },
     "output_type": "display_data"
    }
   ],
   "source": [
    "fig = plt.figure(figsize=(8,6))\n",
    "plt.bar(r1, bar0, color='palevioletred', width=barwidth, edgecolor='white', label='NOT')\n",
    "plt.bar(r2, bar1, color='maroon', width=barwidth, edgecolor='white', label='OFF')\n",
    "plt.xlabel('languages', fontweight='bold')\n",
    "plt.xticks([r + barwidth for r in range(len(bar1))], ['Arabic', 'Danish', 'Greek', 'Turkish'])\n",
    "plt.title('Number of tweets in 0 and 1 classes')\n",
    "plt.legend()\n",
    "plt.show()\n",
    "fig.savefig('EDA_boxplot.jpeg')"
   ]
  },
  {
   "cell_type": "markdown",
   "metadata": {},
   "source": [
    "The number of tweets of two classes are imbalanced. There are more non-offensive tweets than offensive tweets. Also, we can observe that the percentage of offensive tweets are extremely lwo in Danish. We need to consider down-sampling or up-sampling in our analysis"
   ]
  },
  {
   "cell_type": "markdown",
   "metadata": {},
   "source": [
    "## Missing Value"
   ]
  },
  {
   "cell_type": "code",
   "execution_count": 27,
   "metadata": {},
   "outputs": [
    {
     "data": {
      "text/plain": [
       "False"
      ]
     },
     "execution_count": 27,
     "metadata": {},
     "output_type": "execute_result"
    }
   ],
   "source": [
    "train_ar.isnull().values.any()"
   ]
  },
  {
   "cell_type": "code",
   "execution_count": 28,
   "metadata": {},
   "outputs": [
    {
     "data": {
      "text/plain": [
       "False"
      ]
     },
     "execution_count": 28,
     "metadata": {},
     "output_type": "execute_result"
    }
   ],
   "source": [
    "test_ar.isnull().values.any()"
   ]
  },
  {
   "cell_type": "code",
   "execution_count": 29,
   "metadata": {},
   "outputs": [
    {
     "data": {
      "text/plain": [
       "True"
      ]
     },
     "execution_count": 29,
     "metadata": {},
     "output_type": "execute_result"
    }
   ],
   "source": [
    "da.isnull().values.any()"
   ]
  },
  {
   "cell_type": "code",
   "execution_count": 30,
   "metadata": {
    "scrolled": true
   },
   "outputs": [
    {
     "data": {
      "text/plain": [
       "False"
      ]
     },
     "execution_count": 30,
     "metadata": {},
     "output_type": "execute_result"
    }
   ],
   "source": [
    "gr.isnull().values.any()"
   ]
  },
  {
   "cell_type": "code",
   "execution_count": 31,
   "metadata": {},
   "outputs": [
    {
     "data": {
      "text/plain": [
       "False"
      ]
     },
     "execution_count": 31,
     "metadata": {},
     "output_type": "execute_result"
    }
   ],
   "source": [
    "tr.isnull().values.any()"
   ]
  },
  {
   "cell_type": "code",
   "execution_count": 32,
   "metadata": {
    "scrolled": true
   },
   "outputs": [
    {
     "data": {
      "text/plain": [
       "id           0\n",
       "tweet        1\n",
       "subtask_a    1\n",
       "class        0\n",
       "dtype: int64"
      ]
     },
     "execution_count": 32,
     "metadata": {},
     "output_type": "execute_result"
    }
   ],
   "source": [
    "#We see that da dataset has null values. We see that only 1 row has null value.\n",
    "#We choose to filter out that row for convinience\n",
    "da.isnull().sum()"
   ]
  },
  {
   "cell_type": "code",
   "execution_count": 33,
   "metadata": {},
   "outputs": [],
   "source": [
    "da=da.dropna()"
   ]
  },
  {
   "cell_type": "markdown",
   "metadata": {},
   "source": [
    "# Data Engineering"
   ]
  },
  {
   "cell_type": "markdown",
   "metadata": {},
   "source": [
    "In this part we are going to arrange our dataset into a format ready for classfication"
   ]
  },
  {
   "cell_type": "markdown",
   "metadata": {},
   "source": [
    "## Create a function using Arabic Dataset"
   ]
  },
  {
   "cell_type": "markdown",
   "metadata": {},
   "source": [
    "Since all the dataset we are given having the identical columns and format, we want to use one of the dataset to create a standard function which we can apply to other dataset"
   ]
  },
  {
   "cell_type": "code",
   "execution_count": 25,
   "metadata": {},
   "outputs": [],
   "source": [
    "ar=train_ar.append(test_ar)"
   ]
  },
  {
   "cell_type": "code",
   "execution_count": 26,
   "metadata": {},
   "outputs": [],
   "source": [
    "#Since nltk has the stopwords list for all languages we are working on here, we can create a comprehensive\n",
    "#stopwords list\n",
    "from nltk.corpus import stopwords\n",
    "stopwords_list = stopwords.words('arabic') + stopwords.words('danish') \\\n",
    "    +stopwords.words('greek') + stopwords.words('turkish') + stopwords.words('english')"
   ]
  },
  {
   "cell_type": "code",
   "execution_count": 27,
   "metadata": {},
   "outputs": [],
   "source": [
    "tfidf_vect = TfidfVectorizer(sublinear_tf=True, min_df=5, norm='l2', encoding='latin-1',\n",
    "                             ngram_range=(1, 2), stop_words= stopwords_list)"
   ]
  },
  {
   "cell_type": "code",
   "execution_count": 28,
   "metadata": {},
   "outputs": [],
   "source": [
    "x = ar['tweet'].to_list()\n",
    "y = [x for x in ar['class']]"
   ]
  },
  {
   "cell_type": "code",
   "execution_count": 29,
   "metadata": {},
   "outputs": [
    {
     "name": "stderr",
     "output_type": "stream",
     "text": [
      "/Users/zhijuncai/anaconda3/lib/python3.7/site-packages/sklearn/feature_extraction/text.py:386: UserWarning: Your stop_words may be inconsistent with your preprocessing. Tokenizing the stop words generated tokens ['δι', 'ἀλλ'] not in stop_words.\n",
      "  'stop_words.' % sorted(inconsistent))\n"
     ]
    }
   ],
   "source": [
    "#tfidf_vect = TfidfVectorizer(analyzer='word', token_pattern=r'\\w{1,}', max_features=5000)\n",
    "tfidf_vect.fit(ar['tweet'])\n",
    "x_tfidf =  tfidf_vect.transform(x)"
   ]
  },
  {
   "cell_type": "code",
   "execution_count": 30,
   "metadata": {},
   "outputs": [
    {
     "data": {
      "text/plain": [
       "<7839x4023 sparse matrix of type '<class 'numpy.float64'>'\n",
       "\twith 70292 stored elements in Compressed Sparse Row format>"
      ]
     },
     "execution_count": 30,
     "metadata": {},
     "output_type": "execute_result"
    }
   ],
   "source": [
    "#We can see that we have a \n",
    "x_tfidf"
   ]
  },
  {
   "cell_type": "code",
   "execution_count": 31,
   "metadata": {},
   "outputs": [],
   "source": [
    "def get_data(dataset):\n",
    "    x = dataset.iloc[:,:-1]\n",
    "    y = [x for x in dataset['class']]\n",
    "    X_train, X_test, y_train, y_test = train_test_split(x, y, test_size=0.33, random_state=42)\n",
    "    tfidf_vect.fit(X_train['tweet'])\n",
    "    X_train=X_train['tweet'].to_list()\n",
    "    X_test=X_test['tweet'].to_list()\n",
    "    x_tfidf_train =  tfidf_vect.transform(X_train)\n",
    "    x_tfidf_test =  tfidf_vect.transform(X_test)\n",
    "    return x_tfidf_train, x_tfidf_test, y_train, y_test"
   ]
  },
  {
   "cell_type": "code",
   "execution_count": 32,
   "metadata": {},
   "outputs": [],
   "source": [
    "a,b,c,d=get_data(ar)"
   ]
  },
  {
   "cell_type": "code",
   "execution_count": 33,
   "metadata": {},
   "outputs": [
    {
     "data": {
      "text/plain": [
       "<5252x2456 sparse matrix of type '<class 'numpy.float64'>'\n",
       "\twith 41630 stored elements in Compressed Sparse Row format>"
      ]
     },
     "execution_count": 33,
     "metadata": {},
     "output_type": "execute_result"
    }
   ],
   "source": [
    "a"
   ]
  },
  {
   "cell_type": "markdown",
   "metadata": {},
   "source": [
    "## Get dataset for classification"
   ]
  },
  {
   "cell_type": "markdown",
   "metadata": {},
   "source": [
    "Now we can simply use the function we created to get dataframe we need for modeling"
   ]
  },
  {
   "cell_type": "code",
   "execution_count": 34,
   "metadata": {},
   "outputs": [],
   "source": [
    "from sklearn.utils import resample"
   ]
  },
  {
   "cell_type": "code",
   "execution_count": 35,
   "metadata": {},
   "outputs": [],
   "source": [
    "x = ar.iloc[:,:-1]\n",
    "y = [x for x in ar['class']]\n",
    "X_train, X_test, y_train, y_test = train_test_split(x, y, test_size=0.33, random_state=42)"
   ]
  },
  {
   "cell_type": "code",
   "execution_count": 36,
   "metadata": {},
   "outputs": [
    {
     "name": "stderr",
     "output_type": "stream",
     "text": [
      "/Users/zhijuncai/anaconda3/lib/python3.7/site-packages/ipykernel_launcher.py:1: SettingWithCopyWarning: \n",
      "A value is trying to be set on a copy of a slice from a DataFrame.\n",
      "Try using .loc[row_indexer,col_indexer] = value instead\n",
      "\n",
      "See the caveats in the documentation: http://pandas.pydata.org/pandas-docs/stable/indexing.html#indexing-view-versus-copy\n",
      "  \"\"\"Entry point for launching an IPython kernel.\n"
     ]
    }
   ],
   "source": [
    "X_train['class']=y_train"
   ]
  },
  {
   "cell_type": "code",
   "execution_count": 37,
   "metadata": {},
   "outputs": [],
   "source": [
    "data=X_train"
   ]
  },
  {
   "cell_type": "code",
   "execution_count": 38,
   "metadata": {},
   "outputs": [],
   "source": [
    "df_majority = data[data['class']==0]\n",
    "df_minority = data[data['class']==1]"
   ]
  },
  {
   "cell_type": "code",
   "execution_count": 39,
   "metadata": {},
   "outputs": [],
   "source": [
    "df_majority_downsampled = resample(df_majority, \n",
    "                                 replace=False,    # sample without replacement\n",
    "                                 n_samples=len(df_minority),     # to match minority class\n",
    "                                 random_state=123) # reproducible results"
   ]
  },
  {
   "cell_type": "code",
   "execution_count": 40,
   "metadata": {},
   "outputs": [],
   "source": [
    "df_downsampled = pd.concat([df_majority_downsampled, df_minority])"
   ]
  },
  {
   "cell_type": "code",
   "execution_count": 41,
   "metadata": {},
   "outputs": [],
   "source": [
    "x = df_downsampled['tweet'].to_list()\n",
    "y = [x for x in df_downsampled['class']]"
   ]
  },
  {
   "cell_type": "code",
   "execution_count": 42,
   "metadata": {},
   "outputs": [
    {
     "data": {
      "text/plain": [
       "2044"
      ]
     },
     "execution_count": 42,
     "metadata": {},
     "output_type": "execute_result"
    }
   ],
   "source": [
    "len(y)"
   ]
  },
  {
   "cell_type": "code",
   "execution_count": 43,
   "metadata": {},
   "outputs": [
    {
     "data": {
      "text/plain": [
       "TfidfVectorizer(encoding='latin-1', min_df=5, ngram_range=(1, 2),\n",
       "                stop_words=['إذ', 'إذا', 'إذما', 'إذن', 'أف', 'أقل', 'أكثر',\n",
       "                            'ألا', 'إلا', 'التي', 'الذي', 'الذين', 'اللاتي',\n",
       "                            'اللائي', 'اللتان', 'اللتيا', 'اللتين', 'اللذان',\n",
       "                            'اللذين', 'اللواتي', 'إلى', 'إليك', 'إليكم',\n",
       "                            'إليكما', 'إليكن', 'أم', 'أما', 'أما', 'إما', 'أن', ...],\n",
       "                sublinear_tf=True)"
      ]
     },
     "execution_count": 43,
     "metadata": {},
     "output_type": "execute_result"
    }
   ],
   "source": [
    "tfidf_vect.fit(X_train['tweet'])"
   ]
  },
  {
   "cell_type": "code",
   "execution_count": null,
   "metadata": {},
   "outputs": [],
   "source": []
  },
  {
   "cell_type": "code",
   "execution_count": 44,
   "metadata": {},
   "outputs": [],
   "source": [
    "def get_data_downsample(dataset):\n",
    "    x = dataset.iloc[:,:-1]\n",
    "    y = [x for x in dataset['class']]\n",
    "    X_train, X_test, y_train, y_test = train_test_split(x, y, test_size=0.33, random_state=42)\n",
    "    X_train['class']=y_train\n",
    "    data=X_train\n",
    "    df_majority = data[data['class']==0]\n",
    "    df_minority = data[data['class']==1]\n",
    " \n",
    "#Downsample majority class\n",
    "    df_majority_downsampled = resample(df_majority, \n",
    "                                 replace=False,    # sample without replacement\n",
    "                                 n_samples=len(df_minority),     # to match minority class\n",
    "                                 random_state=123) # reproducible results\n",
    " \n",
    "#Combine minority class with downsampled majority class\n",
    "    df_downsampled = pd.concat([df_majority_downsampled, df_minority])\n",
    "    x = df_downsampled['tweet'].to_list()\n",
    "    y = [x for x in df_downsampled['class']]\n",
    "    tfidf_vect.fit(X_train['tweet'])\n",
    "    X_test=X_test['tweet'].to_list()\n",
    "    x_tfidf_train =  tfidf_vect.transform(x)\n",
    "    x_tfidf_test =  tfidf_vect.transform(X_test)\n",
    "    return x_tfidf_train, x_tfidf_test, y, y_test"
   ]
  },
  {
   "cell_type": "code",
   "execution_count": 45,
   "metadata": {},
   "outputs": [
    {
     "name": "stderr",
     "output_type": "stream",
     "text": [
      "/Users/zhijuncai/anaconda3/lib/python3.7/site-packages/ipykernel_launcher.py:5: SettingWithCopyWarning: \n",
      "A value is trying to be set on a copy of a slice from a DataFrame.\n",
      "Try using .loc[row_indexer,col_indexer] = value instead\n",
      "\n",
      "See the caveats in the documentation: http://pandas.pydata.org/pandas-docs/stable/indexing.html#indexing-view-versus-copy\n",
      "  \"\"\"\n"
     ]
    }
   ],
   "source": [
    "a,b,c,d=get_data_downsample(ar)"
   ]
  },
  {
   "cell_type": "code",
   "execution_count": 46,
   "metadata": {},
   "outputs": [
    {
     "data": {
      "text/plain": [
       "<2044x2456 sparse matrix of type '<class 'numpy.float64'>'\n",
       "\twith 16627 stored elements in Compressed Sparse Row format>"
      ]
     },
     "execution_count": 46,
     "metadata": {},
     "output_type": "execute_result"
    }
   ],
   "source": [
    "a"
   ]
  },
  {
   "cell_type": "code",
   "execution_count": 47,
   "metadata": {},
   "outputs": [
    {
     "data": {
      "text/plain": [
       "2587"
      ]
     },
     "execution_count": 47,
     "metadata": {},
     "output_type": "execute_result"
    }
   ],
   "source": [
    "len(d)"
   ]
  },
  {
   "cell_type": "code",
   "execution_count": 48,
   "metadata": {},
   "outputs": [],
   "source": [
    "def get_data_upsample(dataset):\n",
    "    x = dataset.iloc[:,:-1]\n",
    "    y = [x for x in dataset['class']]\n",
    "    X_train, X_test, y_train, y_test = train_test_split(x, y, test_size=0.4, random_state=42)\n",
    "    X_train['class']=y_train\n",
    "    data=X_train\n",
    "    df_majority = data[data['class']==0]\n",
    "    df_minority = data[data['class']==1]\n",
    " \n",
    "#Downsample majority class\n",
    "    df_minority_upsampled = resample(df_minority, \n",
    "                                 replace=True,     # sample with replacement\n",
    "                                 n_samples=len(df_majority),    # to match majority class\n",
    "                                 random_state=123) # reproducible results\n",
    " \n",
    "#Combine minority class with downsampled majority class\n",
    "    df_upsampled = pd.concat([df_majority, df_minority_upsampled])\n",
    "    x = df_upsampled['tweet'].to_list()\n",
    "    y = [x for x in df_upsampled['class']]\n",
    "    tfidf_vect.fit(X_train['tweet'])\n",
    "    X_test=X_test['tweet'].to_list()\n",
    "    x_tfidf_train =  tfidf_vect.transform(x)\n",
    "    x_tfidf_test =  tfidf_vect.transform(X_test)\n",
    "    return x_tfidf_train, x_tfidf_test, y, y_test"
   ]
  },
  {
   "cell_type": "code",
   "execution_count": 49,
   "metadata": {},
   "outputs": [
    {
     "name": "stderr",
     "output_type": "stream",
     "text": [
      "/Users/zhijuncai/anaconda3/lib/python3.7/site-packages/ipykernel_launcher.py:5: SettingWithCopyWarning: \n",
      "A value is trying to be set on a copy of a slice from a DataFrame.\n",
      "Try using .loc[row_indexer,col_indexer] = value instead\n",
      "\n",
      "See the caveats in the documentation: http://pandas.pydata.org/pandas-docs/stable/indexing.html#indexing-view-versus-copy\n",
      "  \"\"\"\n"
     ]
    }
   ],
   "source": [
    "a,b,c,d=get_data_upsample(ar)"
   ]
  },
  {
   "cell_type": "code",
   "execution_count": 50,
   "metadata": {},
   "outputs": [
    {
     "data": {
      "text/plain": [
       "7590"
      ]
     },
     "execution_count": 50,
     "metadata": {},
     "output_type": "execute_result"
    }
   ],
   "source": [
    "len(c)"
   ]
  },
  {
   "cell_type": "markdown",
   "metadata": {},
   "source": [
    "# Modeling"
   ]
  },
  {
   "cell_type": "code",
   "execution_count": 51,
   "metadata": {},
   "outputs": [],
   "source": [
    "\n",
    "from numpy import mean\n",
    "from numpy import std\n",
    "from sklearn.datasets import make_classification\n",
    "from sklearn.model_selection import cross_val_score\n",
    "from sklearn.model_selection import RepeatedStratifiedKFold\n",
    "from sklearn.linear_model import LogisticRegression\n",
    "from sklearn.neighbors import KNeighborsClassifier\n",
    "from sklearn.ensemble import RandomForestClassifier\n",
    "from sklearn.ensemble import RandomForestClassifier\n",
    "from sklearn.svm import LinearSVC\n",
    "import xgboost as xgb\n",
    "from matplotlib import pyplot\n",
    "import warnings\n",
    "\n",
    "warnings.simplefilter('ignore')"
   ]
  },
  {
   "cell_type": "code",
   "execution_count": 61,
   "metadata": {},
   "outputs": [
    {
     "name": "stdout",
     "output_type": "stream",
     "text": [
      ">lr 0.838 (0.033)\n",
      ">bayes 0.825 (0.032)\n",
      ">rf 0.788 (0.040)\n",
      ">xgb 0.761 (0.034)\n",
      ">lsvc 0.825 (0.030)\n"
     ]
    },
    {
     "data": {
      "image/png": "[encoded data removed]",
      "text/plain": [
       "<Figure size 432x288 with 1 Axes>"
      ]
     },
     "metadata": {
      "needs_background": "light"
     },
     "output_type": "display_data"
    }
   ],
   "source": [
    "\n",
    "def get_models():\n",
    "\tmodels = dict()\n",
    "\tmodels['lr'] = LogisticRegression()\n",
    "\tmodels['bayes'] = MultinomialNB()\n",
    "\tmodels['rf'] = RandomForestClassifier()\n",
    "\tmodels['xgb'] = xgb.XGBClassifier()\n",
    "\tmodels['lsvc'] = LinearSVC()\n",
    "\treturn models\n",
    " \n",
    "# evaluate a given model using cross-validation\n",
    "def evaluate_model(model):\n",
    "    cv = RepeatedStratifiedKFold(n_splits=10, n_repeats=3, random_state=1)\n",
    "    model.fit(X_train,y_train)\n",
    "    scores = cross_val_score(model, X_test, y_test, scoring='roc_auc', cv=cv, error_score='raise')\n",
    "    return scores\n",
    " \n",
    "# define dataset\n",
    "X_train, X_test, y_train, y_test = get_data(ar)\n",
    "# get the models to evaluate\n",
    "models = get_models()\n",
    "# evaluate the models and store results\n",
    "results, names = list(), list()\n",
    "for name, model in models.items():\n",
    "\tscores = evaluate_model(model)\n",
    "\tresults.append(scores)\n",
    "\tnames.append(name)\n",
    "\tprint('>%s %.3f (%.3f)' % (name, mean(scores), std(scores)))\n",
    "# plot model performance for comparison\n",
    "pyplot.boxplot(results, labels=names, showmeans=True)\n",
    "pyplot.show()"
   ]
  },
  {
   "cell_type": "code",
   "execution_count": 62,
   "metadata": {},
   "outputs": [
    {
     "name": "stdout",
     "output_type": "stream",
     "text": [
      ">lr 0.825 (0.012)\n",
      ">bayes 0.838 (0.012)\n",
      ">rf 0.839 (0.012)\n",
      ">xgb 0.828 (0.014)\n",
      ">lsvc 0.843 (0.014)\n"
     ]
    },
    {
     "data": {
      "image/png": "[encoded data removed]",
      "text/plain": [
       "<Figure size 432x288 with 1 Axes>"
      ]
     },
     "metadata": {
      "needs_background": "light"
     },
     "output_type": "display_data"
    }
   ],
   "source": [
    "def get_models():\n",
    "\tmodels = dict()\n",
    "\tmodels['lr'] = LogisticRegression()\n",
    "\tmodels['bayes'] = MultinomialNB()\n",
    "\tmodels['rf'] = RandomForestClassifier()\n",
    "\tmodels['xgb'] = xgb.XGBClassifier()\n",
    "\tmodels['lsvc'] = LinearSVC()\n",
    "\treturn models\n",
    " \n",
    "# evaluate a given model using cross-validation\n",
    "def evaluate_model(model):\n",
    "    cv = RepeatedStratifiedKFold(n_splits=10, n_repeats=3, random_state=1)\n",
    "    model.fit(X_train,y_train)\n",
    "    scores = cross_val_score(model, X_test, y_test, scoring='accuracy', cv=cv, error_score='raise')\n",
    "    return scores\n",
    " \n",
    "# define dataset\n",
    "X_train, X_test, y_train, y_test = get_data(ar)\n",
    "# get the models to evaluate\n",
    "models = get_models()\n",
    "# evaluate the models and store results\n",
    "results, names = list(), list()\n",
    "for name, model in models.items():\n",
    "\tscores = evaluate_model(model)\n",
    "\tresults.append(scores)\n",
    "\tnames.append(name)\n",
    "\tprint('>%s %.3f (%.3f)' % (name, mean(scores), std(scores)))\n",
    "# plot model performance for comparison\n",
    "pyplot.boxplot(results, labels=names, showmeans=True)\n",
    "pyplot.show()"
   ]
  },
  {
   "cell_type": "code",
   "execution_count": 63,
   "metadata": {},
   "outputs": [],
   "source": [
    "\n",
    "from mlxtend.classifier import StackingClassifier"
   ]
  },
  {
   "cell_type": "code",
   "execution_count": 64,
   "metadata": {
    "scrolled": true
   },
   "outputs": [],
   "source": [
    "def stacking(dataset):\n",
    "    X_train, X_test, y_train, y_test=get_data(dataset)\n",
    "    clf1 = LogisticRegression()\n",
    "    clf2 = MultinomialNB()\n",
    "    clf3 = RandomForestClassifier()\n",
    "    clf4 = xgb.XGBClassifier()\n",
    "    clf5 = LinearSVC()\n",
    "    lr = LogisticRegression()\n",
    "    sclf = StackingClassifier(classifiers=[clf1, clf2, clf3,clf4,clf5], \n",
    "                          meta_classifier=lr)\n",
    "\n",
    "    print('3-fold cross validation:\\n')\n",
    "\n",
    "    for clf, label in zip([clf1, clf2, clf3,clf4,clf5, sclf], \n",
    "                          ['Logistic', \n",
    "                           'Naive Bayes', \n",
    "                           'RandomForest',\n",
    "                           'XGB',\n",
    "                           'LinearSVC',\n",
    "                           'StackingClassifier']):\n",
    "        clf.fit(X_train,y_train)\n",
    "        scores = cross_val_score(clf, X_test, y_test, scoring='f1_macro', error_score='raise')\n",
    "        \n",
    "        print(\"Marco_F1: %0.2f (+/- %0.2f) [%s]\" \n",
    "              % (scores.mean(), scores.std(), label))"
   ]
  },
  {
   "cell_type": "code",
   "execution_count": 65,
   "metadata": {},
   "outputs": [
    {
     "name": "stdout",
     "output_type": "stream",
     "text": [
      "3-fold cross validation:\n",
      "\n",
      "Marco_F1: 0.56 (+/- 0.02) [Logistic]\n",
      "Marco_F1: 0.59 (+/- 0.02) [Naive Bayes]\n",
      "Marco_F1: 0.65 (+/- 0.01) [RandomForest]\n",
      "Marco_F1: 0.61 (+/- 0.00) [XGB]\n",
      "Marco_F1: 0.70 (+/- 0.01) [LinearSVC]\n",
      "Marco_F1: 0.71 (+/- 0.01) [StackingClassifier]\n"
     ]
    }
   ],
   "source": [
    "stacking(ar)"
   ]
  },
  {
   "cell_type": "code",
   "execution_count": 66,
   "metadata": {},
   "outputs": [
    {
     "name": "stdout",
     "output_type": "stream",
     "text": [
      "3-fold cross validation:\n",
      "\n",
      "Marco_F1: 0.48 (+/- 0.01) [Logistic]\n",
      "Marco_F1: 0.49 (+/- 0.02) [Naive Bayes]\n",
      "Marco_F1: 0.67 (+/- 0.02) [RandomForest]\n",
      "Marco_F1: 0.63 (+/- 0.02) [XGB]\n",
      "Marco_F1: 0.67 (+/- 0.04) [LinearSVC]\n",
      "Marco_F1: 0.66 (+/- 0.03) [StackingClassifier]\n"
     ]
    }
   ],
   "source": [
    "stacking(da)"
   ]
  },
  {
   "cell_type": "code",
   "execution_count": 67,
   "metadata": {},
   "outputs": [
    {
     "name": "stdout",
     "output_type": "stream",
     "text": [
      "3-fold cross validation:\n",
      "\n",
      "Marco_F1: 0.54 (+/- 0.01) [Logistic]\n",
      "Marco_F1: 0.48 (+/- 0.00) [Naive Bayes]\n",
      "Marco_F1: 0.62 (+/- 0.01) [RandomForest]\n",
      "Marco_F1: 0.57 (+/- 0.01) [XGB]\n",
      "Marco_F1: 0.66 (+/- 0.00) [LinearSVC]\n",
      "Marco_F1: 0.67 (+/- 0.00) [StackingClassifier]\n"
     ]
    }
   ],
   "source": [
    "stacking(tr)"
   ]
  },
  {
   "cell_type": "code",
   "execution_count": 68,
   "metadata": {},
   "outputs": [
    {
     "name": "stdout",
     "output_type": "stream",
     "text": [
      "3-fold cross validation:\n",
      "\n",
      "Marco_F1: 0.62 (+/- 0.02) [Logistic]\n",
      "Marco_F1: 0.58 (+/- 0.00) [Naive Bayes]\n",
      "Marco_F1: 0.68 (+/- 0.03) [RandomForest]\n",
      "Marco_F1: 0.68 (+/- 0.02) [XGB]\n",
      "Marco_F1: 0.69 (+/- 0.01) [LinearSVC]\n",
      "Marco_F1: 0.70 (+/- 0.01) [StackingClassifier]\n"
     ]
    }
   ],
   "source": [
    "stacking(gr)"
   ]
  },
  {
   "cell_type": "code",
   "execution_count": 69,
   "metadata": {},
   "outputs": [
    {
     "name": "stdout",
     "output_type": "stream",
     "text": [
      "3-fold cross validation:\n",
      "\n",
      "Marco_F1: 0.75 (+/- 0.01) [Logistic]\n",
      "Marco_F1: 0.59 (+/- 0.01) [Naive Bayes]\n",
      "Marco_F1: 0.86 (+/- 0.00) [RandomForest]\n",
      "Marco_F1: 0.79 (+/- 0.01) [XGB]\n",
      "Marco_F1: 0.86 (+/- 0.00) [LinearSVC]\n",
      "Marco_F1: 0.88 (+/- 0.01) [StackingClassifier]\n"
     ]
    }
   ],
   "source": [
    "stacking(eng)"
   ]
  },
  {
   "cell_type": "code",
   "execution_count": 70,
   "metadata": {},
   "outputs": [],
   "source": [
    "def upsampling_stacking(dataset):\n",
    "    X_train, X_test, y_train, y_test = get_data_upsample(dataset)\n",
    "    clf1 = LogisticRegression()\n",
    "    clf2 = MultinomialNB()\n",
    "    clf3 = RandomForestClassifier()\n",
    "    clf4 = xgb.XGBClassifier()\n",
    "    clf5 = LinearSVC()\n",
    "    lr = RandomForestClassifier()\n",
    "    sclf = StackingClassifier(classifiers=[clf1, clf2, clf3,clf4,clf5], \n",
    "                          meta_classifier=lr)\n",
    "\n",
    "    print('3-fold cross validation:\\n')\n",
    "\n",
    "    for clf, label in zip([clf1, clf2, clf3,clf4,clf5, sclf], \n",
    "                          ['Logistic', \n",
    "                           'Naive Bayes', \n",
    "                           'RandomForest',\n",
    "                           'XGB',\n",
    "                           'LinearSVC',\n",
    "                           'StackingClassifier']):\n",
    "\n",
    "        clf.fit(X_train,y_train)\n",
    "        scores = cross_val_score(clf, X_test, y_test, scoring='f1_macro',  error_score='raise')\n",
    "        print(\"Marco_F1: %0.2f (+/- %0.2f) [%s]\" \n",
    "              % (scores.mean(), scores.std(), label))"
   ]
  },
  {
   "cell_type": "code",
   "execution_count": 71,
   "metadata": {},
   "outputs": [
    {
     "name": "stdout",
     "output_type": "stream",
     "text": [
      "3-fold cross validation:\n",
      "\n",
      "Marco_F1: 0.60 (+/- 0.02) [Logistic]\n",
      "Marco_F1: 0.63 (+/- 0.02) [Naive Bayes]\n",
      "Marco_F1: 0.65 (+/- 0.01) [RandomForest]\n",
      "Marco_F1: 0.61 (+/- 0.01) [XGB]\n",
      "Marco_F1: 0.72 (+/- 0.01) [LinearSVC]\n",
      "Marco_F1: 0.73 (+/- 0.01) [StackingClassifier]\n"
     ]
    }
   ],
   "source": [
    "upsampling_stacking(ar)"
   ]
  },
  {
   "cell_type": "code",
   "execution_count": 72,
   "metadata": {},
   "outputs": [
    {
     "name": "stdout",
     "output_type": "stream",
     "text": [
      "3-fold cross validation:\n",
      "\n",
      "Marco_F1: 0.48 (+/- 0.01) [Logistic]\n",
      "Marco_F1: 0.49 (+/- 0.02) [Naive Bayes]\n",
      "Marco_F1: 0.64 (+/- 0.06) [RandomForest]\n",
      "Marco_F1: 0.63 (+/- 0.03) [XGB]\n",
      "Marco_F1: 0.64 (+/- 0.03) [LinearSVC]\n",
      "Marco_F1: 0.65 (+/- 0.05) [StackingClassifier]\n"
     ]
    }
   ],
   "source": [
    "upsampling_stacking(da)"
   ]
  },
  {
   "cell_type": "code",
   "execution_count": 73,
   "metadata": {},
   "outputs": [
    {
     "name": "stdout",
     "output_type": "stream",
     "text": [
      "3-fold cross validation:\n",
      "\n",
      "Marco_F1: 0.55 (+/- 0.01) [Logistic]\n",
      "Marco_F1: 0.50 (+/- 0.00) [Naive Bayes]\n",
      "Marco_F1: 0.62 (+/- 0.00) [RandomForest]\n",
      "Marco_F1: 0.57 (+/- 0.01) [XGB]\n",
      "Marco_F1: 0.66 (+/- 0.01) [LinearSVC]\n",
      "Marco_F1: 0.67 (+/- 0.01) [StackingClassifier]\n"
     ]
    }
   ],
   "source": [
    "upsampling_stacking(tr)"
   ]
  },
  {
   "cell_type": "code",
   "execution_count": 74,
   "metadata": {},
   "outputs": [
    {
     "name": "stdout",
     "output_type": "stream",
     "text": [
      "3-fold cross validation:\n",
      "\n",
      "Marco_F1: 0.66 (+/- 0.01) [Logistic]\n",
      "Marco_F1: 0.61 (+/- 0.01) [Naive Bayes]\n",
      "Marco_F1: 0.69 (+/- 0.01) [RandomForest]\n",
      "Marco_F1: 0.67 (+/- 0.01) [XGB]\n",
      "Marco_F1: 0.71 (+/- 0.01) [LinearSVC]\n",
      "Marco_F1: 0.71 (+/- 0.01) [StackingClassifier]\n"
     ]
    }
   ],
   "source": [
    "upsampling_stacking(gr)"
   ]
  },
  {
   "cell_type": "code",
   "execution_count": 75,
   "metadata": {},
   "outputs": [
    {
     "name": "stdout",
     "output_type": "stream",
     "text": [
      "3-fold cross validation:\n",
      "\n",
      "Marco_F1: 0.77 (+/- 0.01) [Logistic]\n",
      "Marco_F1: 0.62 (+/- 0.01) [Naive Bayes]\n",
      "Marco_F1: 0.86 (+/- 0.01) [RandomForest]\n",
      "Marco_F1: 0.79 (+/- 0.00) [XGB]\n",
      "Marco_F1: 0.87 (+/- 0.00) [LinearSVC]\n",
      "Marco_F1: 0.87 (+/- 0.00) [StackingClassifier]\n"
     ]
    }
   ],
   "source": [
    "upsampling_stacking(eng)"
   ]
  },
  {
   "cell_type": "code",
   "execution_count": 76,
   "metadata": {},
   "outputs": [],
   "source": [
    "def down_stacking(dataset):\n",
    "    X_train, X_test, y_train, y_test=get_data_downsample(dataset)\n",
    "    clf1 = LogisticRegression()\n",
    "    clf2 = MultinomialNB()\n",
    "    clf3 = RandomForestClassifier()\n",
    "    clf4 = xgb.XGBClassifier()\n",
    "    clf5 = LinearSVC()\n",
    "    lr = RandomForestClassifier()\n",
    "    sclf = StackingClassifier(classifiers=[clf1, clf2, clf3,clf4,clf5], \n",
    "                          meta_classifier=lr)\n",
    "\n",
    "    print('3-fold cross validation:\\n')\n",
    "\n",
    "    for clf, label in zip([clf1, clf2, clf3,clf4,clf5, sclf], \n",
    "                          ['Logistic', \n",
    "                           'Naive Bayes', \n",
    "                           'RandomForest',\n",
    "                           'XGB',\n",
    "                           'LinearSVC',\n",
    "                           'StackingClassifier']):\n",
    "        clf.fit(X_train,y_train)\n",
    "        scores = cross_val_score(clf, X_test, y_test, scoring='f1_macro',  error_score='raise')\n",
    "        \n",
    "        print(\"Marco_F1: %0.2f (+/- %0.2f) [%s]\" \n",
    "              % (scores.mean(), scores.std(), label))"
   ]
  },
  {
   "cell_type": "code",
   "execution_count": 77,
   "metadata": {},
   "outputs": [
    {
     "name": "stdout",
     "output_type": "stream",
     "text": [
      "3-fold cross validation:\n",
      "\n",
      "Marco_F1: 0.56 (+/- 0.02) [Logistic]\n",
      "Marco_F1: 0.59 (+/- 0.02) [Naive Bayes]\n",
      "Marco_F1: 0.64 (+/- 0.01) [RandomForest]\n",
      "Marco_F1: 0.61 (+/- 0.00) [XGB]\n",
      "Marco_F1: 0.70 (+/- 0.01) [LinearSVC]\n",
      "Marco_F1: 0.71 (+/- 0.01) [StackingClassifier]\n"
     ]
    }
   ],
   "source": [
    "down_stacking(ar)"
   ]
  },
  {
   "cell_type": "code",
   "execution_count": 78,
   "metadata": {},
   "outputs": [
    {
     "name": "stdout",
     "output_type": "stream",
     "text": [
      "3-fold cross validation:\n",
      "\n",
      "Marco_F1: 0.48 (+/- 0.01) [Logistic]\n",
      "Marco_F1: 0.49 (+/- 0.02) [Naive Bayes]\n",
      "Marco_F1: 0.65 (+/- 0.05) [RandomForest]\n",
      "Marco_F1: 0.63 (+/- 0.02) [XGB]\n",
      "Marco_F1: 0.67 (+/- 0.04) [LinearSVC]\n",
      "Marco_F1: 0.69 (+/- 0.03) [StackingClassifier]\n"
     ]
    }
   ],
   "source": [
    "down_stacking(da)"
   ]
  },
  {
   "cell_type": "code",
   "execution_count": 79,
   "metadata": {},
   "outputs": [
    {
     "name": "stdout",
     "output_type": "stream",
     "text": [
      "3-fold cross validation:\n",
      "\n",
      "Marco_F1: 0.54 (+/- 0.01) [Logistic]\n",
      "Marco_F1: 0.48 (+/- 0.00) [Naive Bayes]\n",
      "Marco_F1: 0.62 (+/- 0.01) [RandomForest]\n",
      "Marco_F1: 0.57 (+/- 0.01) [XGB]\n",
      "Marco_F1: 0.66 (+/- 0.00) [LinearSVC]\n",
      "Marco_F1: 0.67 (+/- 0.00) [StackingClassifier]\n"
     ]
    }
   ],
   "source": [
    "down_stacking(tr)"
   ]
  },
  {
   "cell_type": "code",
   "execution_count": 80,
   "metadata": {},
   "outputs": [
    {
     "name": "stdout",
     "output_type": "stream",
     "text": [
      "3-fold cross validation:\n",
      "\n",
      "Marco_F1: 0.62 (+/- 0.02) [Logistic]\n",
      "Marco_F1: 0.58 (+/- 0.00) [Naive Bayes]\n",
      "Marco_F1: 0.67 (+/- 0.01) [RandomForest]\n",
      "Marco_F1: 0.68 (+/- 0.02) [XGB]\n",
      "Marco_F1: 0.69 (+/- 0.01) [LinearSVC]\n",
      "Marco_F1: 0.70 (+/- 0.01) [StackingClassifier]\n"
     ]
    }
   ],
   "source": [
    "down_stacking(gr)"
   ]
  },
  {
   "cell_type": "code",
   "execution_count": null,
   "metadata": {},
   "outputs": [],
   "source": [
    "down_stacking(eng)"
   ]
  },
  {
   "cell_type": "code",
   "execution_count": 82,
   "metadata": {
    "scrolled": true
   },
   "outputs": [],
   "source": [
    "def stacking_probas(dataset):\n",
    "    X_train, X_test, y_train, y_test = get_data(dataset)\n",
    "    clf1 = LogisticRegression()\n",
    "    clf2 = MultinomialNB()\n",
    "    clf3 = RandomForestClassifier()\n",
    "    clf4 = xgb.XGBClassifier()\n",
    "    lr = RandomForestClassifier()\n",
    "    sclf = StackingClassifier(classifiers=[clf1, clf2, clf3,clf4],\n",
    "                          use_probas=True,\n",
    "                          average_probas=False,\n",
    "                          meta_classifier=lr)\n",
    "\n",
    "    print('3-fold cross validation:\\n')\n",
    "\n",
    "    for clf, label in zip([clf1, clf2, clf3,clf4, sclf], \n",
    "                          ['Logistic', \n",
    "                           'Naive Bayes', \n",
    "                           'RandomForest',\n",
    "                           'XGB',\n",
    "                           'StackingClassifier']):\n",
    "\n",
    "        clf.fit(X_train,y_train)\n",
    "        scores = cross_val_score(clf, X_test, y_test, scoring='f1_macro',  error_score='raise')\n",
    "        print(\"F1_marco: %0.2f (+/- %0.2f) [%s]\" \n",
    "              % (scores.mean(), scores.std(), label))"
   ]
  },
  {
   "cell_type": "code",
   "execution_count": 54,
   "metadata": {},
   "outputs": [
    {
     "name": "stdout",
     "output_type": "stream",
     "text": [
      "3-fold cross validation:\n",
      "\n",
      "F1_marco: 0.56 (+/- 0.02) [Logistic]\n",
      "F1_marco: 0.59 (+/- 0.02) [Naive Bayes]\n",
      "F1_marco: 0.64 (+/- 0.03) [RandomForest]\n",
      "F1_marco: 0.61 (+/- 0.00) [XGB]\n",
      "F1_marco: 0.70 (+/- 0.01) [StackingClassifier]\n"
     ]
    }
   ],
   "source": [
    "stacking_probas(ar)"
   ]
  },
  {
   "cell_type": "code",
   "execution_count": 89,
   "metadata": {},
   "outputs": [],
   "source": [
    "from sklearn import model_selection"
   ]
  },
  {
   "cell_type": "code",
   "execution_count": 101,
   "metadata": {},
   "outputs": [],
   "source": [
    "from sklearn.model_selection import GridSearchCV"
   ]
  },
  {
   "cell_type": "code",
   "execution_count": 103,
   "metadata": {},
   "outputs": [
    {
     "name": "stdout",
     "output_type": "stream",
     "text": [
      "3-fold cross validation:\n",
      "\n",
      "Accuracy: 0.80 (+/- 0.00) [KNN]\n",
      "Accuracy: 0.85 (+/- 0.00) [Random Forest]\n"
     ]
    },
    {
     "name": "stderr",
     "output_type": "stream",
     "text": [
      "C:\\Games\\anaconoda\\lib\\site-packages\\sklearn\\linear_model\\logistic.py:433: FutureWarning: Default solver will be changed to 'lbfgs' in 0.22. Specify a solver to silence this warning.\n"
     ]
    },
    {
     "name": "stdout",
     "output_type": "stream",
     "text": [
      "Accuracy: 0.82 (+/- 0.00) [Naive Bayes]\n"
     ]
    },
    {
     "name": "stderr",
     "output_type": "stream",
     "text": [
      "C:\\Games\\anaconoda\\lib\\site-packages\\sklearn\\linear_model\\logistic.py:433: FutureWarning: Default solver will be changed to 'lbfgs' in 0.22. Specify a solver to silence this warning.\n",
      "C:\\Games\\anaconoda\\lib\\site-packages\\sklearn\\linear_model\\logistic.py:433: FutureWarning: Default solver will be changed to 'lbfgs' in 0.22. Specify a solver to silence this warning.\n",
      "C:\\Games\\anaconoda\\lib\\site-packages\\sklearn\\linear_model\\logistic.py:433: FutureWarning: Default solver will be changed to 'lbfgs' in 0.22. Specify a solver to silence this warning.\n",
      "C:\\Games\\anaconoda\\lib\\site-packages\\sklearn\\linear_model\\logistic.py:433: FutureWarning: Default solver will be changed to 'lbfgs' in 0.22. Specify a solver to silence this warning.\n",
      "C:\\Games\\anaconoda\\lib\\site-packages\\sklearn\\linear_model\\logistic.py:433: FutureWarning: Default solver will be changed to 'lbfgs' in 0.22. Specify a solver to silence this warning.\n",
      "C:\\Games\\anaconoda\\lib\\site-packages\\sklearn\\linear_model\\logistic.py:433: FutureWarning: Default solver will be changed to 'lbfgs' in 0.22. Specify a solver to silence this warning.\n"
     ]
    },
    {
     "name": "stdout",
     "output_type": "stream",
     "text": [
      "Accuracy: 0.82 (+/- 0.00) [StackingClassifier]\n"
     ]
    }
   ],
   "source": [
    "clf1 = KNeighborsClassifier()\n",
    "clf2 = LogisticRegression()\n",
    "clf3 = DecisionTreeClassifier()\n",
    "lr = LogisticRegression()\n",
    "sclf = StackingClassifier(classifiers=[clf1, clf2, clf3],\n",
    "                          use_probas=True,\n",
    "                          average_probas=False,\n",
    "                          meta_classifier=lr)\n",
    "\n",
    "print('3-fold cross validation:\\n')\n",
    "\n",
    "for clf, label in zip([clf1, clf2, clf3, sclf], \n",
    "                      ['KNN', \n",
    "                       'Random Forest', \n",
    "                       'Naive Bayes',\n",
    "                       'StackingClassifier']):\n",
    "\n",
    "    scores = model_selection.cross_val_score(clf, X, y, \n",
    "                                              cv=3, scoring='accuracy')\n",
    "    print(\"Accuracy: %0.2f (+/- %0.2f) [%s]\" \n",
    "          % (scores.mean(), scores.std(), label))"
   ]
  },
  {
   "cell_type": "code",
   "execution_count": 52,
   "metadata": {},
   "outputs": [
    {
     "ename": "TypeError",
     "evalue": "sparse matrix length is ambiguous; use getnnz() or shape[0]",
     "output_type": "error",
     "traceback": [
      "\u001b[0;31m---------------------------------------------------------------------------\u001b[0m",
      "\u001b[0;31mTypeError\u001b[0m                                 Traceback (most recent call last)",
      "\u001b[0;32m<ipython-input-52-0522d79be7cb>\u001b[0m in \u001b[0;36m<module>\u001b[0;34m\u001b[0m\n\u001b[0;32m----> 1\u001b[0;31m \u001b[0mvocab_size\u001b[0m \u001b[0;34m=\u001b[0m \u001b[0mlen\u001b[0m\u001b[0;34m(\u001b[0m\u001b[0ma\u001b[0m\u001b[0;34m)\u001b[0m\u001b[0;34m\u001b[0m\u001b[0;34m\u001b[0m\u001b[0m\n\u001b[0m",
      "\u001b[0;32m~/anaconda3/lib/python3.7/site-packages/scipy/sparse/base.py\u001b[0m in \u001b[0;36m__len__\u001b[0;34m(self)\u001b[0m\n\u001b[1;32m    293\u001b[0m     \u001b[0;31m# non-zeros is more important.  For now, raise an exception!\u001b[0m\u001b[0;34m\u001b[0m\u001b[0;34m\u001b[0m\u001b[0;34m\u001b[0m\u001b[0m\n\u001b[1;32m    294\u001b[0m     \u001b[0;32mdef\u001b[0m \u001b[0m__len__\u001b[0m\u001b[0;34m(\u001b[0m\u001b[0mself\u001b[0m\u001b[0;34m)\u001b[0m\u001b[0;34m:\u001b[0m\u001b[0;34m\u001b[0m\u001b[0;34m\u001b[0m\u001b[0m\n\u001b[0;32m--> 295\u001b[0;31m         raise TypeError(\"sparse matrix length is ambiguous; use getnnz()\"\n\u001b[0m\u001b[1;32m    296\u001b[0m                         \" or shape[0]\")\n\u001b[1;32m    297\u001b[0m \u001b[0;34m\u001b[0m\u001b[0m\n",
      "\u001b[0;31mTypeError\u001b[0m: sparse matrix length is ambiguous; use getnnz() or shape[0]"
     ]
    }
   ],
   "source": [
    "vocab_size = len(a)"
   ]
  },
  {
   "cell_type": "code",
   "execution_count": 55,
   "metadata": {},
   "outputs": [
    {
     "data": {
      "text/plain": [
       "7590"
      ]
     },
     "execution_count": 55,
     "metadata": {},
     "output_type": "execute_result"
    }
   ],
   "source": [
    "a.shape[0]"
   ]
  },
  {
   "cell_type": "markdown",
   "metadata": {},
   "source": [
    "## Draft/Baseline"
   ]
  },
  {
   "cell_type": "markdown",
   "metadata": {},
   "source": [
    "### Logistic Regression"
   ]
  },
  {
   "cell_type": "code",
   "execution_count": 18,
   "metadata": {},
   "outputs": [],
   "source": [
    "clf2 = linear_model.LogisticRegression()"
   ]
  },
  {
   "cell_type": "code",
   "execution_count": null,
   "metadata": {},
   "outputs": [],
   "source": [
    "clf2.fit(x_train_tfidf, y_train)"
   ]
  },
  {
   "cell_type": "code",
   "execution_count": 20,
   "metadata": {},
   "outputs": [],
   "source": [
    "predicted2 = clf2.predict(x_valid_tfidf)"
   ]
  },
  {
   "cell_type": "code",
   "execution_count": 21,
   "metadata": {},
   "outputs": [
    {
     "data": {
      "text/plain": [
       "0.878"
      ]
     },
     "execution_count": 21,
     "metadata": {},
     "output_type": "execute_result"
    }
   ],
   "source": [
    "metrics.accuracy_score(predicted2, y_test)"
   ]
  },
  {
   "cell_type": "code",
   "execution_count": 22,
   "metadata": {},
   "outputs": [],
   "source": [
    "report = metrics.classification_report(y_test, predicted2,output_dict = True)"
   ]
  },
  {
   "cell_type": "code",
   "execution_count": 31,
   "metadata": {},
   "outputs": [
    {
     "name": "stdout",
     "output_type": "stream",
     "text": [
      "              precision    recall  f1-score   support\n",
      "\n",
      "           0       0.87      1.00      0.93       821\n",
      "           1       0.94      0.34      0.50       179\n",
      "\n",
      "    accuracy                           0.88      1000\n",
      "   macro avg       0.91      0.67      0.72      1000\n",
      "weighted avg       0.89      0.88      0.85      1000\n",
      "\n"
     ]
    }
   ],
   "source": [
    "print(metrics.classification_report(y_test, predicted2))"
   ]
  },
  {
   "cell_type": "code",
   "execution_count": 25,
   "metadata": {},
   "outputs": [],
   "source": [
    "baseline_eva = pd.DataFrame(report).transpose()"
   ]
  },
  {
   "cell_type": "code",
   "execution_count": 27,
   "metadata": {},
   "outputs": [],
   "source": [
    "baseline_eva.to_csv (r'baseline_report.csv', index = False, header=True)\n"
   ]
  },
  {
   "cell_type": "markdown",
   "metadata": {},
   "source": [
    "### Linear Support Vector Classification"
   ]
  },
  {
   "cell_type": "code",
   "execution_count": 160,
   "metadata": {},
   "outputs": [],
   "source": [
    "clf3 = LinearSVC()"
   ]
  },
  {
   "cell_type": "code",
   "execution_count": 161,
   "metadata": {},
   "outputs": [
    {
     "data": {
      "text/plain": [
       "LinearSVC(C=1.0, class_weight=None, dual=True, fit_intercept=True,\n",
       "          intercept_scaling=1, loss='squared_hinge', max_iter=1000,\n",
       "          multi_class='ovr', penalty='l2', random_state=None, tol=0.0001,\n",
       "          verbose=0)"
      ]
     },
     "execution_count": 161,
     "metadata": {},
     "output_type": "execute_result"
    }
   ],
   "source": [
    "clf3.fit(x_train_tfidf, y_train)"
   ]
  },
  {
   "cell_type": "code",
   "execution_count": 162,
   "metadata": {},
   "outputs": [],
   "source": [
    "predicted3 = clf3.predict(x_valid_tfidf)"
   ]
  },
  {
   "cell_type": "code",
   "execution_count": 163,
   "metadata": {},
   "outputs": [
    {
     "name": "stdout",
     "output_type": "stream",
     "text": [
      "              precision    recall  f1-score   support\n",
      "\n",
      "           0       0.91      0.95      0.93       821\n",
      "           1       0.74      0.58      0.65       179\n",
      "\n",
      "    accuracy                           0.89      1000\n",
      "   macro avg       0.83      0.77      0.79      1000\n",
      "weighted avg       0.88      0.89      0.88      1000\n",
      "\n"
     ]
    }
   ],
   "source": [
    "print(metrics.classification_report(y_test, predicted3))"
   ]
  },
  {
   "cell_type": "code",
   "execution_count": 164,
   "metadata": {},
   "outputs": [
    {
     "data": {
      "text/plain": [
       "0.888"
      ]
     },
     "execution_count": 164,
     "metadata": {},
     "output_type": "execute_result"
    }
   ],
   "source": [
    "metrics.accuracy_score(predicted3, y_test)"
   ]
  },
  {
   "cell_type": "markdown",
   "metadata": {},
   "source": [
    "### bert"
   ]
  },
  {
   "cell_type": "code",
   "execution_count": 105,
   "metadata": {},
   "outputs": [
    {
     "ename": "NameError",
     "evalue": "name 'x_train' is not defined",
     "output_type": "error",
     "traceback": [
      "\u001b[0;31m---------------------------------------------------------------------------\u001b[0m",
      "\u001b[0;31mNameError\u001b[0m                                 Traceback (most recent call last)",
      "\u001b[0;32m<ipython-input-105-5703acc7a47e>\u001b[0m in \u001b[0;36m<module>\u001b[0;34m\u001b[0m\n\u001b[1;32m      1\u001b[0m \u001b[0mlst\u001b[0m \u001b[0;34m=\u001b[0m \u001b[0;34m[\u001b[0m\u001b[0;34m]\u001b[0m\u001b[0;34m\u001b[0m\u001b[0;34m\u001b[0m\u001b[0m\n\u001b[0;32m----> 2\u001b[0;31m \u001b[0;32mfor\u001b[0m \u001b[0mx\u001b[0m \u001b[0;32min\u001b[0m \u001b[0mx_train\u001b[0m\u001b[0;34m:\u001b[0m\u001b[0;34m\u001b[0m\u001b[0;34m\u001b[0m\u001b[0m\n\u001b[0m\u001b[1;32m      3\u001b[0m     \u001b[0mlst\u001b[0m\u001b[0;34m.\u001b[0m\u001b[0mappend\u001b[0m\u001b[0;34m(\u001b[0m\u001b[0mclean_text\u001b[0m\u001b[0;34m(\u001b[0m\u001b[0mx\u001b[0m\u001b[0;34m)\u001b[0m\u001b[0;34m)\u001b[0m\u001b[0;34m\u001b[0m\u001b[0;34m\u001b[0m\u001b[0m\n",
      "\u001b[0;31mNameError\u001b[0m: name 'x_train' is not defined"
     ]
    }
   ],
   "source": [
    "lst = []\n",
    "for x in x_train:\n",
    "    lst.append(clean_text(x))"
   ]
  },
  {
   "cell_type": "code",
   "execution_count": 35,
   "metadata": {},
   "outputs": [
    {
     "data": {
      "text/plain": [
       "['الحمدلله يارب فوز مهم يا زمالك.. كل الدعم ليكم يا رجالة <lf>الدوري يا زمالك .. الدوري يا زمالك<lf>#صدارة_بس',\n",
       " 'فدوه يا بخت فدوه يا زمن واحد منكم يجيبه',\n",
       " 'rt @user: يا رب يا واحد يا أحد بحق يوم الاحد ان تهلك بني سعود المجرمين. لاجل اطفال اليمن شاركوا.',\n",
       " 'rt @user: #هوا_الحرية يا وجع قلبي عليكي يا امي...<lf>الله لا يحرق قلبك ويكسر بخاطرك للمرة الف نقف إجلال لعظمة وقدرة لين قلب الأم ال…',\n",
       " 'يا بكون بحياتك الأهم يا إما ما بدي أكون ',\n",
       " '@user اخخ يا قلببي يا هالحلقه  متعه على بكاء على حماس كل المشاعر داخله ببعض',\n",
       " 'والله الزول السوداني أثبت أنه سابق بالتحضّر عن كل العرب:<lf>٤٠٪ التمثيل النسائي في المجلس التشريعي السوداني ما بعد الثورة. <lf>الكلام إلك يا جارة لتسمعي يا كنّة!<lf>#السودان #سوريا #الجزائر',\n",
       " 'rt @user: جالس أسمع أحمد قاسم يغني: \"أحبك من كل قلبي يا بلادي يا يمن\". حتى أنا والله أحب اليمن من كل قلبي أحب بلادي من طرفها لطرفها \"ب…',\n",
       " 'في قلبي يا مغلاك<lf>وبعيني يا محلاك ..',\n",
       " 'يا التاج ع الراس يا السادة<lf>يا مالك الروح وراعيها',\n",
       " 'rt @user: @user البراب عندى بيقولى بيخيروك يا كرتونة يا خمسين جنيه واستأذن يروح ياخد كرتونة ',\n",
       " 'أموتُ شوقاً ولا ألقاكُمُ أبداً .. يا حسرتا ثمّ يا شوقا و يا أسَفا',\n",
       " '@user @user @user يا لطيف.. يا ساتر ..أحمدوا ربكم إنها مستقعدةكيف لو إنها واقفه',\n",
       " '@user يا مريوووم كل سنة و انتي طيبة يا قلبي و يا رب دايما مبسوطة كدا و عقبال العمر كله يا قمر لاڤ يو ',\n",
       " 'هلا يا حبي الاول<lf>هلا يا غايتي مشتااااااق',\n",
       " 'rt @user: يا ماجد مساعد يا نائب يا رجال <lf>ما يجي مثل شرواك ايْت اشكُوك<lf>حتى لو قالو تضخمت عندك الأموال<lf>انت ملكت من الطيب حزمة صكوك<lf>@user…',\n",
       " 'rt @user: يا زول يا رائع ومهموم<lf>يا مضيع ضي عينيك وراك<lf>واقف حاحاي النوم<lf>يا مستف رئة الدنيا شهيق<lf>ومشحتف روح الخرطوم<lf>#اعتصام_القياده_ا…',\n",
       " 'في وجودك ليه انا اكمل كلامي اعشقك من الفرح لين العنا .. اشبهك في كل شي الا الاسامي يا انا يا انت يا انت انا ',\n",
       " 'rt @user: #صباح_الثلاثاء<lf>حبيبي يا ساحر البسمة يا أهلي <lf>سلطان الهيبة .<lf>فلتسمع صدق اقوالي<lf>همس كلما تي <lf>انت ملك الأندية <lf>انت سيد الأندية <lf>و…',\n",
       " 'أبي يا نعمتي الراحله و يا أطهر قلب ذهب بلا عودة لقد تركت فراغ بقلبي لا يسّده أحد، رحم الله روحاً هزّني الحنين إليها اللهم ارحم أغلى ما فقدت.',\n",
       " 'يالليله يا كئيبه يا حزينه يا ثقيله عديييييي .',\n",
       " 'rt @user: #الاتحاد_النصر<lf>يا اتهاد يا اتهاد يا اتهاد ياتهاد <lf>باكلك هبه هبه باكلك اكل البرشومي<lf>',\n",
       " '@user <lf>فين got يا حرامية يا نصابين يا لصوص!؟',\n",
       " 'rt @user: يا ليتكم يا اهل الوفا ما تموتون <lf>و لا الردي حتى .. المنايا تعافه',\n",
       " 'rt @user: @user |  -  <lf>شهرج ياشعاع الضوّ في ظلماي يا آخر طريقي ياحقيقي في زمن كذاب يا أجمل فرج // يا أكبر الأبواب في تاريخ ضيقي',\n",
       " 'يا عمرررررررري يا بو شعر ثاير ',\n",
       " 'rt @user: هي مش هتلحق تكمل باقي طلباتها عشان هتكون يا في المستشفي يا اما بتتغسل علشان حتي كلمه طالق مش هتسمعها من شدة الغضب url',\n",
       " 'rt @user: يا دان يا بليزريان عيييب كدا رااعي شعورنا  url',\n",
       " 'اللهم صفي قلوبنا واغسل ذنوبنا واستر عيوبنا وزكي نفوسنا <lf>اللهم اجعلنا ممن طاب ذكرهم وحسنت سيرتهم واستمر أجرهم في حياتهم وبعد موتهم<lf>اللهم يا ودود يا ودود أسألك لي ولاحبتي لذة السجود ودعاء غير مردود وفرج ورحمة منك يامعبود وابعد عني وعنهم البلاء ',\n",
       " 'rt @user: @user @user صباح الورد يا بن العم يا مرحبا بالغالي',\n",
       " 'يا البعيد اللي هناك، يا القريب اللي هنيّا',\n",
       " 'شخصية خيالية ممحونة: حقوق المماحين!<lf>إنسان حقيقي ممحون: يا ممحون يا حيوان تعال اقطع لك زبك حتى لو جحر فار تبغا تنيكو يا ممحوون قال نفسي اتمتع قال',\n",
       " 'rt @user: اصعد يا صوت الشعب اصعد يا حبيب الشعب #اسقاط_القروض_لليوم_',\n",
       " '@user مش دي برضه اللي قالت يا صغنونة يا صغنونة بكرة نأبك يجي علي شونة ',\n",
       " '@user يا جدعان العلق دا لسه بيقولي هذاكر الاسئلة كفاية ، و راح فتح تويتر .. يا فاشل .. يا فاشل يا فاشل يا فاشل ',\n",
       " '@user اعلامي هلالي وش ترجي منه اي والله الى قال محمد العويس حراقحارق قلبك يا زقان يا المطيًويع من حرق عساه للحرق يا رب جعلني اشوف فيك يوم اسود انت وعائلتك يا ابن الكلب',\n",
       " 'يا مذهله مدري يا بنت النور<lf>غيبتك ما ملّت مكابرها؟<lf>طال السفر يا حبي المغرور<lf>وصلتي اشواقي .. لأخرها<lf>ترا الصبر والموعد المهجور<lf>يقتل هوى النفس ومشاعرها<lf>انتي قصيدة بكّت الجمهور<lf>وشلون اجل سوّت بشاعرها.',\n",
       " '@user ما شاء الله تبارك الله عساك عالقوة يا بطل و للأفضل يا رب',\n",
       " 'هما بيعملوا ايه !! انت يا حيوان انت يا اطرررش انا بسقط هنااااا url',\n",
       " 'rt @user: @user انت والتيم بتاعك يا عبيد الفولورز يا سفله<lf>#اهلي_كمل_الصداره',\n",
       " '@user @user @user @user @user يا لبناني يا فضلات الاستعمار الفرنسي اللبنانيين بالخليج يشغلون نسوانهم عاهرات',\n",
       " 'rt @user: كل حركة ، كل همسة ، كل فكرة، كل نية ، كل كلمة ، كل لحظة حتتسجل ف كتاب و محسوبة يا علينا يا لنا .. لازم نستوعب انه ورانا الكثي…',\n",
       " 'يا كبر الفقد و يا قلة الحيلة ',\n",
       " '@user يا افنان يا نفسيه عيب عليك',\n",
       " 'rt @user: اشرس مشكل بتاريخ لبنان على الجديدلك شو هالاسمو لك روح يا يا يا يا روح يا  #لهون_وبس',\n",
       " 'ف يا ربي يا رحمن تجمع شملنا <lf>قبل الممات ولو بيوم واحدِ',\n",
       " 'أمي <lf>أحبك يا حبة الرمان يا السما الزرقاء الصافية يا أجمل ما في الوجود يا من حضنها أمن وأمان واطمئنان لا حرمني الله منك أبدا يا سبب سعادتي وعافيتي وبهجتي لولاك ما كان لحياتي معنى أحبك وأتمنى رضاك عني',\n",
       " 'المفروض يكون الشوق عادل يا يمر القلبين يا انو ولا واحد .',\n",
       " '@user وإياكِ يا رب ويسعدك يا داليا ',\n",
       " 'تذاكر يا هانم ..... تذاكر يا بيه _ بالكلمات _ باداء خيالي ل عبير الشاذلي url via @user',\n",
       " '@user يا قدس، يا مدينة الأحزان <lf>يا دمعةً كبيرةً تجول في الأجفان <lf>من يوقف العدوان؟ <lf>عليك، يا لؤلؤة الأديان <lf>من يغسل الدماء عن حجارة الجدران؟ <lf>من ينقذ الإنجيل؟ <lf>من ينقذ القرآن؟',\n",
       " 'ايش الاكل الحلو ذا ياسُميه تسلم يدك ياعسل ياقشطه ياحلوه ياسُكره يا طباخه يا فنانه يا كل شي.',\n",
       " '=- يا تسامح وتنسى يا تعاتب وتصفى يا تغور وتخفي.',\n",
       " 'يا أم العيون الخجْلا يا نبض <lf>صدر نجد العذّيه ..',\n",
       " '@user فين يا ابن القحبه يا معرص السودان مش هيعملوا اَي شي من مخططكم هاهاهاهاها و لسه يا خونه',\n",
       " 'حقيقي  <lf>حلو انك ميجيش فيك اجوان عشان متخسرش !ده بديهي يعني <lf>بس حرفياً الزمالك بيطلع دين امي قدام و مش حلو نفضل ماشين بمبدأ يا نكسب يا نتعادل المهم منخسرش ..',\n",
       " 'rt @user: إلحقهم يا مهدي ، إلحقهم يا مهدي ، إلحقهم يا مهدي ، إلحقهم يا مهدي ، إلحقهم يا مهدي ، إلحقهم يا مهدي ، إلحقهم يا مهدي …',\n",
       " 'rt @user: لازم تراعو مشاعر الناس اللى بمليون مود فـ الدقيقه اللى يا بتتكلم كتير يا بتسكت خالص اللى ممكن يومهم يتقفل بكلمه اللى اقل حاج…',\n",
       " 'rt @user: انا هالفتره يا نايمه يا فيني نوم يا بنام ..',\n",
       " '@user @user اه كدب وتزوير، لان الحكم جه علينا وعليكوا، احسب كورة اغادير واحسب كورة ابراهيم حسن هنتاهل ب /<lf>اطرد علاء واطرد قصاده اللاعب رقم<lf>مش حراق برضه يا نمس انت يا نمس مال الحكم والمخرج بقى بتاهل الزمالك المستحق او الغير مستحق',\n",
       " 'rt @user: بطلو انانيه يا شعب يا انصرافي ويلا على صفوف عيشكم وبنزينكم',\n",
       " 'صباح الخير يا مصحصح يا عسل يا ورد متفتح<lf>انا أبى نهاري خير قلت برقمك اتصبح<lf>#صباح_الاثنين',\n",
       " 'كملنا سنتين مع بعض يا اجمل اقداري يا اجمل ماحصل بدنياي ياحاجة ضوت سنين عمري سنتين وانا عايشه بالهنا كملنا سنتين بحلوها.',\n",
       " '@user الله عليكي الله يا بنت مصر يا مقاتله يا شريفه',\n",
       " 'rt @user: ورجعت الصداره لزعيمها <lf>يا رب تمم يا رب تمم يا رب تمم',\n",
       " 'يا اجمل الأيام يا يوم الخميس<lf>يا اروع واجمل يوم بعيون الملا<lf>يا درة ألاسبوع ياليوم النفيس<lf>الكل بقدوم يرحب/يا هلا<lf>#هلا بالخميس url',\n",
       " '@user عليك لعنه الله يا فتنه الفتنه اشد من القتل انت محرض من النوع الاخوانجي سلمان الحزم سلمان الانسانيه سلمان من دمر كم يا اخوانجي يا شيعي يا ابن موزه عاش سلمان الحزم عاش عاش ملك العرب url',\n",
       " 'يا وصفة الحب يا دكتوري و طبي',\n",
       " 'rt @user: <lf> يا أمينَ اللهِ يا شمسَ الهُدى <lf> يا إمامَ الخَلْقِ يا بحرَ الندى <lf> عجِّلَنْ عَجِّلْ.. فقد طال المَدى <lf> وآضْمَحَلَّ…',\n",
       " 'ياما قالو الهوا غلاب .. ولا مرة حسبنا حساب .. نبعد يا هوى يا هوى يا هوى ',\n",
       " 'يا مَنِ اسْمُهُ دَواءٌ وَذِكْرُهُ شِفاءٌ وَطاعَتُهُ غِنىً، اِرْحَمْ مَنْ رَأْسُ مالِهِ الرَّجاءُ وَسِلاحُهُ الْبُكاءُ، يا سابِـغَ النِّعَمِ، يا دافِعَ النِّقَمِ، يا نُورَ الْمُسْتَوْحِشينَ فِي الظُّلَمِ، يا عالِماً لا يُعَلَّمُ، صَلِّ عَلى مُحَمَّد وَآلِ مُحَمَّد <lf>صباح الخير',\n",
       " '@user @user يا بعد هالدنيا يا مجيد ',\n",
       " 'صبحت بالخير يا رمش أتذرى به يا قلب أحبه ولا لي عن طريقة مفرررر',\n",
       " 'rt @user: يا اَبَا الْحَسَنِ يا عَلِيَّ بْنَ الْحُسَيْنِ ، يا زَيْنَ الْعابِدينَ يَا بْنَ رَسُولِ اللهِ يا حُجَّةَ اللهِ عَلى خَلْقِهِ…',\n",
       " '@user @user أولا يا إبن الشرموطة السعودية , ليش تتكلم مصري , يمكن أمك ناكها حارس العمارة المصري جنبكم مسكينة مبس داعس على وجوهكم يا كلاب يا بدو يا معفنين تبي فلوس على تأكلكم من عرق طيزها ههههههه, والله لأجيك يا إبن الشرموطة البدوية لأنيكك و إحشي كس',\n",
       " '@user يا بجم يا عجم يا نجم كلنا فالهوا سوا',\n",
       " 'rt @user: ربي يا قابض يا باسط يا معطي ارزقني رزقاً واسعاً عاجلاً غير آجل وهب لي من لدنك ملكاً ورزقاً تذهل به الأعين وتفرح له الأنفس وتذك…',\n",
       " 'صاحباتي و أقاربي اللي من نفس عمري و عايشين و مستقرين برا \"المنكوبة \" عايشين حياتهم و ينك يا سفر يا سياحة يا تجارب يا تعليم يا لغات ،عايشين عمرهم بجد و بكل تجاربه حب/حزن/خسارة ! الا انا! نقعد نحسب امتي بتصير حرب تانية ؟ من بيخش علي من و من بيطهر و يحرر من ؟ قعدت في نفس الدوامة !!',\n",
       " '@user ده إحنا حاجه فظيعه يا شيخه يا ساتر علينا 🤣🤣🤣',\n",
       " 'يا مبتدأ يا منتهى .. يا آخري يا أولّي',\n",
       " 'rt @user: فز يا خفاق و أهدأ يا شعور<lf>واحتفظ في كل وقتك بالوقار<lf>**<lf> لو يفوح العود الأزرق بالبخور<lf>ولو يذكرك المسا شوق النهار<lf>**<lf>فيك لا ي…',\n",
       " '@user @user @user اليورباليغ بياخذه يا ارسنال يا تشيلسي خذها مني وتاهلنا للرابع مابيكون له فايده',\n",
       " 'يعني ما افهم حقيقي تضاربوا يعني خلاص حنكون زيهم؟ حفلهم كان بقاعه والاهالي كلهم موجودين واحنا بمدرسه وبس شخص واحد يا ام يا اخت تجي معك واحس يارب انك تلعنها اذا حتى على الاشياء الحلوه تنكد علينا فيها الجزمه',\n",
       " 'rt @user: انفروا يا رجال الله يا كل واثق<lf>ندحر العاصفه يا عز قوم اصيله<lf>في زمان الكرامه بل و كشف الحقايق<lf>با نخوض المعارك…',\n",
       " 'يا ترى مخبيلنا ايه يا چون سنو انت و الكلبوبة اللي جنبك دي',\n",
       " '@user شكلك فرحان يا عبدالرحمن يا اخي انت يهودي و لا ايش ملتك مستحيل تكون مسلم',\n",
       " '@user @user بلوك يا برنس يا خويا ومالوا مش عيب ',\n",
       " '@user @user @user @user @user @user @user @user واحد يسأل لبنانية ايش اسمك. قالت (يارا ياسين ) <lf>وانته شو اسمك <lf>قال. يا حاء. يا جيم<lf><lf><lf>من الامراض التي ليس لها علا',\n",
       " '@user يا اوباما يا جبان يا عميل الامريكان ',\n",
       " 'rt @user: يا ساتر يا ساتر يا ساتر url',\n",
       " 'يا تكون قد الحياة يا تعييش وحيد وسط الدروب @user',\n",
       " '@user اهل اول .. يا فل يا كادي يا كمل',\n",
       " 'بقيلك قلقانه وانت تفوت تنام .. يا سلام على حبك يا سلام',\n",
       " 'يا علاج الروح يا غاية فوادي.',\n",
       " 'rt @user: @user هل مازال يوجد مدنيون بعد قتلكم لهم وتدمير بيوتهم يا قتلة يا عملاء يا مأجورين يا عبيد الامارات ومصر والس…',\n",
       " 'يا صباح الخير يا صباح الحب يا صباح الربيع<lf><lf>#عيش_الآن url',\n",
       " 'أوّاه يا ضحكتك .. وأوّاه يا ظني<lf>كم مرةٍ قلت ما أحبه وأنا أحبه',\n",
       " 'اسحب مارسيال وعطنا لوكاكو يا سولشاير يا بزر يا زق',\n",
       " 'rt @user: صباح الخير يا مصر. صباح الخير يا أم الدنيا url',\n",
       " '@user يا هند يا قمر وانتي طيبة يا حياتي <lf>وانا كمان والله مبسوطة اني عرفتك جدا',\n",
       " '@user ربنا معانا كلنا <lf>ويهديكي ويصلح حالك يا سوما يا بنت ام سوما \\u2066',\n",
       " 'rt @user: احلى فاصل يا فيصل واحلى سلطنه يا سلطان<lf>#الشباب url',\n",
       " '@user @user معاد يمديك تغيرين الموضوع هههههههههههههههههههههههههههههههههه يا سلقه يا حمير 🦓 طبعا بدري عليك تفهمين وش قصدي الخلا',\n",
       " 'm_alumri من صورته تخاف دول وجيوش # مهيب زربتن متجمعه وسط قمامه <lf>عز يا اميرنا يا امير الشباب حارقهم وجايب لهم غصه <lf>حي ذا الراس url',\n",
       " 'مسلسل سقوط ايه يا ايمن يا كاشف يا خول!',\n",
       " '@user يووووه يا القوه يا النيلو عقبال كل المواد',\n",
       " 'الله ياخذك يا أليغري يا جبان يا حمار',\n",
       " 'الله يرحمك و يغفرلك يا امي يا اطيب و احن قلب كان في الدنيا ',\n",
       " '@user بعد اذنك يا شيخنا يا ريت تفسير ل \" قهر الرجال \" اكثر .. و جزاك الله عنا كل خير',\n",
       " 'rt @user: #صباحكم_ورد <lf>يا صباح الورد <lf>يا ورد الصباح ..<lf>ياصباحٍ فيه روحي هايمة ..<lf>عجلي فْـزي ترى <lf>كلي جراح ..<lf>وش يفيد الصبح وانت…',\n",
       " '@user يا لهوي يا لهوي يا لهوي بقى  قنبلة حب ',\n",
       " 'rt @user: أستودعتك اللهم نفسي و أهلي و أحبتي و جميع ما وهبتني و أعطيتني في أمانتك و حفظك يا خير حافظ و يا أرحم الراحمين',\n",
       " 'ما أدري أقول يا حظّه بالرياض<lf>ولّا يا حظ الرياض فيه .',\n",
       " 'يا معاليك @user يا استاذ يا بش مهندس يا مواطن يا حضرة المسؤول!! لأيمتى السكوت.. اذا خايفين يبطلوا يستوردو من عنا انا بغطي النقص بميزان التجارة!! بس احكو كلمة عالقليلة!! url',\n",
       " 'يا ديفيد يا لويز يا خول',\n",
       " 'يا رب يخليكي يا ست الكل<lf>ويجعل ختام اليوم انتصار زمالكاوي ونفرح كلنا ان شاء الله <lf> url',\n",
       " '@user يا هلي يا روح داري يا شموخي يا عُلُوّي يا بقائي <lf>يا إزدهاري أحبك ، الله يديمك ولا يحرمنا منك ',\n",
       " 'rt @user: يا كل عمري، يا ابتهاجي، يا فرحي.<lf>يا من نبض لأجله خفوقي بالاضلاع ',\n",
       " 'تصرفاتي في الحياة ، يا اجي كلّي مندفعه يا اختفي تمامًا. الوسطيه اسمع عنها بس ماحصل لي شرف لقاءها حتى الآن',\n",
       " 'يا ليلي يا ليلا ليه النفس بقت شايلة ',\n",
       " 'اه يا اتي يا اتي يا زين <lf>اه يا اتي يا ضي العينين<lf>جده تغنت واطربت يا فرحها <lf>شعارك البراق زاد بحسنها<lf>اتحاد العب واحنا لك سند <lf><lf>#الاتحاد_النصر .',\n",
       " 'يا ريم يا سارح<lf>قلبي معك رايح<lf>ترى الهوا جارح<lf>حرام تجافينا ،،<lf>url url',\n",
       " 'قلن يا قمر ما نسينا يا قمر روح قلن',\n",
       " '@user يا راشد يا مقرف يا جبان للأسف هذه تسمى خسة من شخص أحمق',\n",
       " 'يا كم مرو علي يا غالية غالين<lf>ما هم ب كرام بس مرو مرور أكرام',\n",
       " 'rt @user: يا وليفي وميلافيّ يا جر الونّه ودقة عود.',\n",
       " 'يا انا سخيفه يا الفيديوات صج تضحك',\n",
       " 'ازاي يا حبيبي يا عمري يا أغلى الناس في عنيا ؟',\n",
       " 'rt @user: rt يا جماعة. يا جامع يا رقيب url',\n",
       " 'rt @user: كوفيان با \"ظهور\" حسين(ع)<lf>و ما با \"غيبت\" تو\\xa0<lf>امتحان شديم !<lf>براستي كداميك سخت تر است؟!<lf>ظهور يا غيبت ؟<lf>العجل يا مولا<lf>#mahdison…',\n",
       " 'يا نعلي يا حضي لسود ',\n",
       " 'يا فرحتي يا سلوتي يا ضحايا',\n",
       " 'يارحيم ياكريم يا قوي يا متين يا عليم يا قدير يامن لا إله غيره ياحي يا قيوم.',\n",
       " 'rt @user: انا هنا شبيت يا وطني <lf>زيك ما لقيت يا وطني <lf>انا بفخر بيك يا وطني<lf>بالروح افديك يا وطني<lf>',\n",
       " 'rt @user: مهووو يا تلعبوو بروح التيشرت يا تمشوو<lf>الاهلي مبيوقفش ع حد<lf>كان وقف ع صالح سليم وتريكه والخطيب كان وقف ع كتيرر<lf> #ال…',\n",
       " 'مبروك يا رجال مبروك يا كبير مبروك يا عميد وفالكم البقاء . <lf>@user',\n",
       " '@user نزلت امبارح وشكلي مش هروح تاني اه يا ضلوعك يا رضا بموت ',\n",
       " 'يا الخرطوم يا العندي جمالك جنه رضوان طول عمري ما شفت مثالك في اي مكان.. url',\n",
       " 'أمواج عاليه تحاول زحزحه شموخك يا بغداد خونه ومارقين عملاء حاقدين فاسدين كلهم من طينه الغدر والخيانة ولكن هيهات أن تسلمي وتركعي أمام هولاء الانذال صباح الخير يا عراق صباح الورد يا بغداد صباح الأنوار على قلب كل إنسان نقي أسعد الله صباحكم أحبتي url',\n",
       " '@user حبيبي يا علاء يا بن الغالي و الغاليه',\n",
       " 'rt @user: يا ابو ثلاثة يا ابو ثلاثة سرى الليل يا ابو ثلاثة. <lf> #الاتحاد_النصر url',\n",
       " '@user @user يا يزيد يا يزيد ما شاءلله عليك ',\n",
       " 'ياريت يا وحشين يا بتوع الحوارات يا كلاب url',\n",
       " '@user قوية فيهم ناس كويسة يا عيت ملائكة انتو ياطيبين يا متحضرين يا نيويوركيين يلي مافيش زيكم',\n",
       " 'rt @user: @user والله من انزه الحكام لكن هم اذا حكم ما يصفر لهم % يكون مرتشي حسب رايهم يا تكون معانا يا تكون مرتشي…',\n",
       " 'يا حسافة الفرحه يا بيب ',\n",
       " 'rt @user: اللهم يا الله <lf>\"لا تتركني يا الله اتبع شيئاً ليس لي ؛ واحب شيئاً لا تحبه ، لا تجعلني احلم بما اشاء ؛ ولكن اجعلني احلم بما ش…',\n",
       " 'rt @user: #الإخوان_المسلمين في #السودان واقفين مع الجيش وبيدعموه.. تاني يا زكي.. تاني يا هايف يا تافه.<lf>#بالملليميتر_يا_حبيبي',\n",
       " '@user تفو عليك يا بقرة يا نعال يا واطي يا منحط',\n",
       " '@user @user من انتم يا حشرات يا عديمي الاصل والاخلاق لتقسموا البشر بطريقتكم الغبية هذا ان دل يدل على انكم بلا اصل ولذلك تششكون في اصول الناس وتودون ان كل الناس تصبح مثلكم بلا اصل لكي لا تكونوا الوحيدون',\n",
       " 'آه يا قصر المسافه و يا طول تعبي<lf>و الهبوب إن فرع الجرح جمره كاويه <lf>آتطوى كني القاع لا هجهج ظبي<lf>كل ما أصرد بعيني تضيق الزاويه ..',\n",
       " 'اخص يا اكسو يا مشاهير انتم url',\n",
       " 'rt @user: @user هم يا يفوزون يا السالفه مغشوشه دلوعين حيل وش زيننا امس رضينا وما جدعنا حتسي على رئيسنا ومدربنا',\n",
       " '@user يا بنتي خدي قلبي يا بنتي مش عوزاه',\n",
       " 'يا اويحيى يا الكلب تفوووو<lf>سامحوني خاوتي حاشاكم زاد جاني فالبال',\n",
       " 'نمت ساعه وكل شيء احسه يا أرق يا ابن الكلبة مو وقتك ورب البيت مو ناقصتك',\n",
       " '@user اللهم اجمعني بمن احب... و انت يا ريان يا رب يسعدك و يوفقك و يسهل أمرك',\n",
       " '@user #قدح_وجم - القط بيحب خناقه<lf>- قط بسبع أرواح<lf>- إن غاب يا قط إلعب يا فأر<lf>- زى القطط تأكل و',\n",
       " 'rt @user: يا جماعة نحن بالظبط في الحته دي يا نواصل يا نرجع ونكون قطعنا مشوار عالفاضي<lf>#اعتصام_القيادة_العامة url',\n",
       " 'rt @user: اللهم اجعل قبره روضة من رياض الجنة، ولا تجعله حفرة من حفر النار واغفر له يا رحمن وارحمه يا رحيم وتجاوز عمّا تعلم ياعليم امي…',\n",
       " 'rt @user: يا هايف الخصريـن يا منـور بالبيت<lf>يا جيد ريم نافل عن مثيلاته<lf>وعيون حور تحيي بها وتميت<lf>نظرتك تشفي صويب منك ويعاته<lf>إرحم رحمك…',\n",
       " 'rt @user: كفاية وساخة با سيبو جروس يكمل شغل علي نضافة ولة الحتة الأهلاوية ظهرت عندك يا مرتضي يا معرص وعاوز تشتت الزمالك #ادعم_جروس',\n",
       " 'rt @user:  يا مدحت يا شلبي يا ابو بيضه يا طعميه يا هلالي يا زعيقي يا طاقيه اذا كنت في نشوتك وفوز الهلال نراك تتحدث مصري واذا…',\n",
       " 'اسئلك يا ملك يا من الملوك فقراء بين يديه اللهم اقضي حوائجنا و حوائج المسلمين اجمعين',\n",
       " 'كلمة \"حبيبي\" فضلت حتى فى الفراق \"يا حبيبي شو نفع البكي\"<lf>فيروز الوحيده اللى كلمته بمنتهى الرحمه والحب وقالت \"الله معك يا هوانا يا مفارقنا،حكم الهوى يا هوانا وتفارقنا\" ، الوحيده ال بعد سنين فراق قالتله \"كيفك أنتَ\" ؟،ولا لما قالت \"ما رح ترجع بعرف أنن غيروك يا حبيبي وعذبوني وعذبوك\"',\n",
       " 'الف سلامه يا ساسي بنحبك يا ساسي<lf>ان شاء الله ترجع بسرعه واحسن من الاول يا عالمي url',\n",
       " 'وباسمائك التي غلبت اركان كل شئ ، وبعلمك الذي احاط بكل شئ ، وبنور وجهك الذي اضاء له كل شئ ، يا نور يا قدوس ، يا اول الأولين ويا آخر الاخرين ، اللهم اغفر لي الذنوب التي تهتك العصم ، اللهم اغفر لي الذنوب التي تنزل النقم ، اللهم اغفر لي الذنوب التي تغير النعم',\n",
       " '@user الف مليون سلامه عليك يا سهل يا مايسترو وان شاء الله ترجع بسرعه واحسن من الاول',\n",
       " 'يا عاذرني قبل عذري يا قَابلني مثل ما أكون.',\n",
       " 'يا كسفتك يا حازم حازم  url',\n",
       " 'والله ان شالله تشتى تلج برده طلعنا الصيفى وهنلبسه ، خشى يا بت يا سعدية البسى الشميز الاصفر url',\n",
       " '@user ستين نيله اما تاخدك يا سافل يا حيوان باللي ملقتش حد يربيك و لا يفهمك دينك <lf>جتك خيبه انت داهيه تاخدك',\n",
       " 'على اتحاد العار ان يستسمح الشوال ان يلعب المباراة بجمهور يا الف خساره يا بلد كل منقول خطوه للامام ييجى شوية عاهات يخدونا لوره',\n",
       " 'mood: <lf>الله الله يا بابا وسلام عليك يا بابا ',\n",
       " '#سناب_شات<lf>يسألوني وأنتي اكبر من سوالفهم جميع<lf> وأنتي اجمل ما خلق ربي بهالكون الوسيع<lf> واني أتلاشى بدون عيونك الخجلى أضيع <lf>اعذريهم يا لحبيبه آه آه يا أغلى حبيبه  url',\n",
       " '@user الله يبارك فيك يا أحمد تسلم يا رب وعقبالك \\u2066',\n",
       " 'rt @user: كم أشتاق لك يا أحلى الورود يا أحلى حلم يا فرحة في نفسي تجود أنت زمزم ماي عيني #أمي حبي وانت عمري حتى مماتي...',\n",
       " '@user يا ستي لا يا ستي  ..',\n",
       " '@user نحن مين بالضبط يا زيدان يا متخفي <lf>توتنهام اياكس سيتي ليفربول<lf>كلهم خصوم وصلوا مرحله مش بسيطه وممكن يكونوا تهديد لحظوظ البرسا، نقول يارب ',\n",
       " '@user يا حيا الله يا حيا الله',\n",
       " 'rt @user: #الاهلي_الهلال_والنصر_الاتحاد<lf>تكفون يا جمهور #النصر تكفون يا اوفياء <lf>طلبتكم طلبه <lf>الحضور ثم الحضور ثم الحضور لا تحرمون نجومك…',\n",
       " 'يا مغيث ، يا مغيث ، يا مغيث اغثني ويسر لي امري وفرج همي واشرح صدري وارحمني برحمتك، يارب اغفر جميع ذنوبي التي اعلمها والتي لا اعلمها ، يارب انت الكريم انت الغفور انت الحي القيوم، يارب ان كان هناك ذنب يحول بيني وبين استجابتك لدعائي فيارب اغفره لي وارزقني من حيث لا احتسب ',\n",
       " '@user الحين تكتب لي لا تصير عنصري وتكتب هنا خدم حمار انت حمار مثل فريقك تعبت اربيك واربي اشكالك يا صغير الرياضه اششش بس الحوش يالله انت وربعك وخل المنصات والبطولات لعمانك . بلوك كبر وجهك يا رخيص يا ادعائي مسوي ضاغط وهو مشخوط في تويتر وفي ارضه ',\n",
       " 'الله يلعنكم يا عبيد يا بقايا حجاج روح خذلك موزة يا قرد يا اسود تفو روحو ارجعو بلادكم الأصلي يا افارقة ختفو يا حمير بس الوم لاعبين ما خبركم تهبطون يا حمير #الاتحاد_النصر',\n",
       " 'rt @user: والحـب يا أهل الهـوى يا ويـل من صابه.',\n",
       " '@user يا رب يا رب... يا عالما بالحال عليك الإتكال',\n",
       " '@user @user علي شحم يا طاقية يا عنصري القم بس',\n",
       " '@user بتغيظكم يا ارهابين يا بتوع المناخ التشاؤمى ',\n",
       " 'انت حاجه جميله... يا خلاثى يا نااس ع العثل ربنا يخليكى لاهلك وناسك و افرح بيكى قريب ',\n",
       " 'يا جمالوا يا جمالوا<lf> بشماله حطه له<lf>واحد صفر الملكي<lf>ابراهيم دي ماريا',\n",
       " 'rt @user: جبال طويق تضرب نفسها أمثال <lf>بك يا فخر الوطن يا عزّه وعلوه ..<lf> #بالعزم_والهمه_السعوديه_للقمه url',\n",
       " 'rt @user: دائمًا نستخدم عبارة يا ليت أستبدلها وقل يا رب فالأولى جالبة للغم مُحبطة للهمم والثانية مبشرة بالإجابة والنعم .',\n",
       " 'يا هوا يا هوا يللي طاير بالهوا ..في منتورة طاقة وصورة..<lf>خدني لعندن يا هوا',\n",
       " 'rt @user: جول جول جول جول جول جول جول جول الله الله الله صوتي راح الله الله الله يا قلبي الله يا قلبي الله يا قلبي الله يا قلبي الله…',\n",
       " '@user حبيبى يا ابو السيد يا ابو قلب طيب ',\n",
       " 'هي القسيه شويه عليا يا صهبجيه .. اه يا لالي.. حبه اهات على ليل على عيني على <lf>يالالي.. ',\n",
       " 'rt @user: البنات أللي يقولن يا ثلب و يا نصي و يا الشايب url',\n",
       " 'rt @user: الف نعله ونار مشتعله بگبركم يا اولاد العاهرات <lf>سنه كهرباء ما دبرتوهه يا سفله يا ساقطين اولاد الساقطين ما بيكم شريف لا اب…',\n",
       " 'rt @user: @user وهذي 🤔<lf>طرقت الباب حتى كل متني <lf>فلما كل متني كلمتني <lf>.<lf>فقالت يا اسماعيل صبراً<lf>فقلت يا اسما عيل صبري',\n",
       " '@user @user الغريب يا شاعرنا أن الفلاح حين يبذر الحب ينشد : <lf>يا الله يا المعبود يا من رجيناه<lf>تغني طيور (ن) لم تبَرِّهْ عمالهْ<lf>فإذا استوت العذوق مكنها رجم بالمجرمة وتخويف بصوت المفقاع بكل قسوة !!!<lf>مسكينة العصافير الرقيقة تغني له ',\n",
       " 'اول شي يا عربي انت احكي تونسي حتى نصدق انك تونسي<lf>ثانيا هالشي مستحيل يكون صار عندهم لان حتى لو البنت عندها رخصة قيادة سياره الحافله غير<lf>ثالثا التونسيات يقودو طيارات يا راس البصل وراس الفجل وراس الهم انتي يا جاهل يا متخلف يا عربي يا مرييييييض موت من تونس ومن بنات #تونس url',\n",
       " 'rt @user: يا سلام علي جمالك يا معلم حفيضة يا اخويا url',\n",
       " '@user @user بس يا بت انتي يا عره مسمعش صوتك ',\n",
       " 'rt @user: يا قبلة لأرض يا محراب شِعر لصالحين ، يا ضحكة لمسكين يا أم ليتامى يالخجل.',\n",
       " 'حنا الأول حنا الأول يا جمهور يا عالم الأزرق بفضل الله إلى النهائي🥰 #الهلال_والاهلي url',\n",
       " '@user يا هلا بك .. يا غالي في حال تم تحويل نقاط كرصيد في المحفظة عبر الاونلاين فستكون متاحه لمدة  يوم ، هل تم التأكد من تاريخ صلاحيتها ؟',\n",
       " 'rt @user: ما كان ممكن تبدأ بيه بدل ما تخسر تبديل يا حمار يابن الحمار يا غبييييي',\n",
       " 'ونجومو وقمرو.. قمرو وسهرو.. وانت وأنا يا حبيبي أنا يا حياتي أنا.. url',\n",
       " '@user قاتل الله العونسريه يا بدوي يا عونسري كيف تأخذ اداره الاتحاد ؟🤣',\n",
       " 'يا كلماتي الناعمة اللينة يا هدية أعوامي يا بارود الجمال يا إلتفاتات دهشاتي كل عام وعمرك ياعمري سعيد.. <lf>\\u2066@user\\u2069 ',\n",
       " 'يا بعيده بالمسافه .. يا قريبه بالشعور<lf>أنا كل اللي أخافه .. بعدنا يطول شهور',\n",
       " 'يا حبني له و يا وجدي على شوفه  ..',\n",
       " '@user @user يا دحباشي يا فارسي يا ابن المتعة يا ذي انت من كل ذكر قطره يا بقايا الفرس والاحباش والاتراك حرر غرفة نومك من عيال حسن نصر الله وبعدين تعال تكلم مع اسيادك<lf>دحباشي حقير ومتسول في شوارع الرياض وتجي تسب لملك الحزم الذي يدوس على اسيادك ا',\n",
       " '@user @user رايي انك ما تفرضش رايك على حد وما تسفهش راي حد<lf>استمر ف دعواتك وحاول تلاقي اسلوب مقنع عشان تقنع الناس برايك لو شايف ان ده فيه المصلحة<lf>وتاني مش دعاة الشرعية هم اللي معطلين الحراك الثوري<lf>ده رايي يا بهاء يا ريت تكون فهمتن',\n",
       " 'شوف يا ساري يا جزمه يابن الجزمه يابن السته وستين جزمه يوم حررت هازارد وش سوى',\n",
       " 'و ايه فرقة السحالي دي .. هو يا محشي يا سحالي يارب مفيش وسط ',\n",
       " 'كل الناس في القياده الان ديل البجد الكانو بيجو من اول يوم ماعشان الناس محتفله جا يلحق المهرجان ويتصور الناس تجي القياده ودبل فك لكل زول بيشكك في تجمع المهنين يا امنجي يا وسخ #اعتصام_القيادة_العامة #تجمع_المهنيين #تسقط_تاني',\n",
       " '@user @user @user @user @user @user @user @user @user اللهم يا صاحب الفرج .. يا عالي بلا درج ...يامن شق البحر لموسى حتى خرج ...اخرج كل مهموم من الضيق الى الفرج ...طاب مس',\n",
       " 'اللهم صل وسلم على سيدنا محمد وعلى آل سيدنا محمد صلاة نكون بها في جاه حضرة رسول الله ، بقدر حب الله فيه، وبحقه لديه ، وبصلاته عليه ، تزدنا بها يا الله حبا وعشقا وودا في قلب رسول الله صلى الله عليه وعلى آله وسلم ، في الدنيا والآخرة يا الله ، يا كريم يا عظيم. <lf>',\n",
       " 'rt @user: البنات في الجامعة <lf>لالا يا أحمت هات الشنته يا أحمت ، اهيهيهيهو url',\n",
       " 'rt @user: يحظ هالعام دام اختي فيه خريجة،<lf>افرحي يا شعوري وضحكة قلبي يا هنا عمري ويا كل الفخر لي.@user url',\n",
       " 'rt @user: يا تضحك يا بلوك  url',\n",
       " '@user بص يا سهيله يا بنتي هوا انا مش فاهم حاجه بس انا موافق موافق  url',\n",
       " 'يا حلوج يا دولت تقول : انا ملكية خاصّة تقصد زوجها طبعاً.. سمعتن يالنسرات ياللي اربعوعشرين ساعه عناد مع رجالچ والا فارضه سيطرتج عليه سطروج مجانين فاصلين لا مرتاحين ولا هاجعينيالنسره',\n",
       " 'rt @user: يا مساء الخير ، يا سااكن بجوفـي يا الوحيد اللي . . . ملازمني غلاک مسكنک ب القلب يا احلى ضيوفي واللہ يسعد لي يومک مع\\xa0مساک<lf>اس…',\n",
       " '@user @user @user @user @user @user @user @user اختفى الغبي <lf>يا غبي يا لوح يا دلخ تعال وين اختفيت',\n",
       " 'يا رب أنسى يا رب أنسى يا رب أنسى يا رب أنسى يا رب أنسى يا رب أنسى يا رب أنسى يا رب أنسى يا رب أنسى يا رب أنسى يا رب أنسى ..',\n",
       " '@user @user يا الله ثم يا الله ثم يا الله انك ترزقني مع سفير الأمهات',\n",
       " '@user اللهم آمين يا رب يا كريم شكرا يا أخي العزيز الله يحفظك من كل شر',\n",
       " 'خلوني اشوفكم يا عيال الكلب يا وضيعين يا فقر فايزين بكأس الملك وربي ما يفصل بيننا الا رب العباد',\n",
       " 'و فـ وسط الطريق و وقفنا و سلمنا و ودعنا يا قلبي , و رجعنا الطريق وحدينا و دموعنا فـ عينينا يا قلبي <lf>ودعنا الحبايب .. و فارقنا الحبايب .. ووصلنا النهاية, من قبل النهاية يا عيني .. يا عيني علينا يا قلبي <lf>غالي غالي غالي ... والجرح من... url',\n",
       " 'rt @user: طلتّك يا ملح الايام يا الوجه الصبوح <lf>تجبر الخاطر وتحيي العظام الميّته<lf>َ<lf>والسرور اللي يجي والسرور اللي يروح <lf>أنت سبت روحته وأنت…',\n",
       " 'العيب فيكم يا ف مناهجكم ، أماشطارتي يا قلبي عليها يا روحي عليها',\n",
       " 'يا غيمتي البيضـَا ، يا سماي الوسيـّعه .',\n",
       " 'يلا يا زمالكوية يا ولاد المتناكة يا شوية مناكية فى طيازها فلايك مينفعش مع كسمكم غير قله العقل',\n",
       " 'كل مغنى وله موال وأنا أرغولي لما يمول سوى في الآخر سوى في الأول مش ح يغني إلا يا مصر يا ركوبة ركاب النصر سرقوكي...',\n",
       " 'يا نعمة حياتي الحلوه يا رضا قلبي بقربك',\n",
       " '@user امين يا رب العالمين وياك يا خوي فهد',\n",
       " '@user تعال الحين أنت منجدك البنت تختار الفندق وانت تدفع وكل أسبوع كذا ولا بالشهر؟ هذا يا كذب يا غباء وأنا أكره الكذابين والأغبياء',\n",
       " 'اكتشفت ان ما عندي كيد نسائي يا مسكينه يا أنا 🥺 url',\n",
       " '@user وانت مين يا حمساوي يا ابو أصل واطي عشان تأيد ولا ترفض',\n",
       " 'اللهم إني أسألك أن تريح قلبي و تصرف عني شتات العقل و التفكير، ربّي إن في قلبي أشياء كثيرة لا يعلمها إلا أنت فحققها لي يا رحيم، يا رب فرحة تغير مجرى حياتي و خبر جميل أعجز عن شكرك عليه، ربي ارزقني فرحة تجدد الروح في حياتي، اللهم سعادات متتالية لم تكن بالحسبان',\n",
       " 'يا سر قلبي الحُلو يا مقصدي بكل الحكي.',\n",
       " 'م تخيلت بيوم اني بفقده للابد وأن يومه قبل يومي,لاكن قدر الله و ماشاء فعل لله ما أخذ ولله وله ما أعطى,الله يرحمك يا أخوي يا عضيدي يا قطعه من قلبي <lf>الله يرحمك ويرحم جميع المسلمين<lf>اللهم نور له قبره و آنس وحشته ووسع مدخله <lf>اللهم اجعل قبره روضه من رياض الجنة. <lf>#رعد_بندر_الضويلي',\n",
       " 'rt @user: يا أم يسوع يا أمي... كل شهر مريمي وانتو بخير<lf>#fareskaram #fk url',\n",
       " 'rt @user: #الاتحاد_النصر <lf>اووه يا اتي يا موج البحر <lf>توقعاتكم للنتيجة !',\n",
       " '- -السيسي ده ديكتاتور و بيسجن الرأي المعارض لازم يبقي عندنا ديمقراطيه و تقبل لل رأي الاخر . <lf>-انا بحب الصيف و بكره games of thrones <lf>- -يالا يا متخلف يا زباله ابوك علي ابو ال جابك !',\n",
       " 'rt @user: إوعى تبطل أكل يا متأني يا كُرباج يا مقلوظ إنت ياجيلى بالمهلبيه.\"',\n",
       " '@user يا ويلها يا سواد ليلاة اللي تحط راسها بروسنا',\n",
       " '@user @user @user لعنت الله عليك يا شارب بول البعير يا عبد امريكا ،،، اذهب ابحث عن أفريقي ',\n",
       " 'ماشاءالله الف مبروك يا معلمة يا قوية  url',\n",
       " 'يارب في وقت السحر أدعوك يا قدر يا مقتدر إن تأخذ لي حقي من كل ظالم ظلمني اللهم انتقم من كل ظالم ظلمني اللهم ابتليهم بكل شيئ في حياتهم بصحتهم وأعمارهم اللهم احشره يوم القيامه اعمه ... اللهم آمين',\n",
       " 'rt @user: اللهم يا مفرج الهموم يا مدبر السماء والأرض يا لطيف يا رؤوف يا ارحم الراحمين يا شافي يا معافي اللهم أشفي عمتي زينب من مرضها وفر…',\n",
       " 'rt @user: يا مُهيء الظروف يا خالق المُسببات <lf>الملهم و المُمكّن ، لك أمورنا كلها فمّكنا',\n",
       " '@user يا العربي يا قناة العهر ذابحكم اردوغان موتو بقيظكم يا سفله',\n",
       " 'rt @user: يا فارج الهم يا كاشف الغم يا غافر الذنب يا قابل التوب اقبل توبتي و اغفر لي',\n",
       " '@user @user @user يا تريزيجيه يا جامد تسلم قدمك ياجميل..',\n",
       " 'يا ينتهي كل هذا<lf>يا أنتهي أنا',\n",
       " '@user هيثم فاروق ده زملكاوي يا بينسبورتس ، مينفعش يكون موجود في تحليل الماتش ده يا ولاد الشرموطة يا بتوع الرأي و الرأي الآخر',\n",
       " 'يا ابن الحرام يا لقيط url',\n",
       " 'rt @user: وشوشنى وديتها فين يا محول يا أبو عين واحده ؟!<lf>أول هام أسمها أعور .. لما تحب تهزئنى هزئنى صح  url',\n",
       " 'rt @user: طرابلس يا ام المداين يا موحده لبلاد<lf>رايات الاستقلال تعلت ضوت نجوم سماك<lf>يا عاصمه يا حاسمة مبروك مجدك عاد',\n",
       " '#صباح_الخميس <lf>/ يا صباح_الخير يا يوم الخميس<lf>يا صباح الضحك من بعدالكدر<lf> ترسم البسمه على وجه التعيس<lf>وتريّح الاحباب من ضيق الصدر<lf>ِ<lf>صباحكم راحة وخميسكم وناسة',\n",
       " 'rt @user: يا لاسارتى يا ابن الوسخة يا جبان سايب فتحى و اجاى و مش عايز تعير',\n",
       " 'يا كاسرٍ كل الثقل يا ماخذٍ كل الشعور.',\n",
       " '<lf>\" يا مَن جلَّت قُدرتك يا مَن يزهي نوره،<lf>عجِّل يا ربِّ الفرج للمهدِي بظهُورَه،<lf>خل يقطع أصل الكُفر يفنِيه من جذُوره،<lf>والكُون يملِيه بالعدل ويكمّل سرورَه ..\"',\n",
       " '@user ههههههههههههههههههههههههههههههههههههههههههههههههههههههههههههه صدق يا اغني يا اخليهم يشغلوا صوتي :)',\n",
       " '@user اية هاروت وماروت في التفسير والراجح الي اتفقو عليه العلماء انهم يا انس يا جن والعلم عند الله ! ، وكانو يحذرون الناس قبل يورونهم السحر',\n",
       " 'انا ما عندي كفيل يا خطيب فين الساعات يا ضاضاااااااااااااا url',\n",
       " '@user طعم ايه يا وجه النكبه يا المريسل. انت بكبرك طعم',\n",
       " '@user امين يا رب ولك بالمثل يا نهى  ونتمنى لك كل خير في حياتك ويجعلها كلها مسرات  صافي مبقا والو مابين الستين والسبعين ',\n",
       " '@user لا اله الا الله يا رب رحمتك ولطفك يا رب',\n",
       " 'اه يا جورج يا معرص - ثلاثيات',\n",
       " '@user بس يا خرم يا بتاع مصنع الكراسي',\n",
       " 'يا كل عمري يا ابتهاجي يا فرحي ',\n",
       " '@user  يا لطيف اللطف يا رب 🤣🤣🤣',\n",
       " '@user  جدع يا اسكندرانى يا امير البحر ',\n",
       " 'الحظ ماله خوي والحزن ماله ضمير<lf>و إن قلت يا هونها ما هوب يا هونها.',\n",
       " '@user يا بنشري يا يافعي <lf>كلناء نعلم انك مش عايش في عدن<lf>انت مولد لا لك ارض ولا اصل مغترب <lf>اتحدا ابوك تثبت انك في عدن <lf>لا تستغفل عقول الرجال <lf>كلناء نعرف ان مغزاء <lf>كلامك الخبيث<lf>تحريض وفتنه على <lf>الشمالين في جنوب اليمن<lf>لاك',\n",
       " 'الشوط الثاني يا قاتل يا مقتول يا عيال الكلب يا خدم',\n",
       " 'rt @user: يا دائم الفضل على البرية يا باسط اليدين بالعطية يا صاحب المواهب السنية صل على محمد وآل محمد خير الورى سجيه واغفر لنا يا ذا العُ…',\n",
       " 'rt @user: اللهم ثبت اقدامهم و انصرهم و انزل سكينتك عليهم. اللهم اهزم أعدائهم و فرق صفوفهم. يا مغيث أغثهم يا مغيث أغثهم يا مغيث أغثه…',\n",
       " '@user هابي بيرث داي يا حمام يا قلب اخوك ',\n",
       " 'rt @user: @user انتي ذهب صافي يا غاليتي يا صديقتي العزيزة سهيلة <lf>',\n",
       " 'يا ربنا يا ربنا غيثاً مغيثاً اسقناا ',\n",
       " '@user يا أجمل صباح يا الإمارات ',\n",
       " 'كس امك يا عربيد يا صايع  url',\n",
       " '@user مقدر كمية التعب اللي انت فيها يا يوسف يا عالمي. احسن لاعب في مصر. بنحبك يا اوبا',\n",
       " 'يا النافلة يا ام الشحم واللحم ',\n",
       " 'يا من أظهر الجميل وستر القبيح يا من لا يؤاخذ بالجريرة يا حسن التجاوز يا واسع المغفرة يا باسط اليدين بالرحمة يا باسط اليدين بالعطايا يا سميع كل نجوى يا منتهى كل شكوى يا مقيل العثرات يا مبتدئا بالنعم قبل استحقاقها ...أغفر لنا وأرضى عنا وتب علينا ولا تحرمنا لذة النظر لوجهك الكريم.',\n",
       " '#كاس_زايد_للانديه_الابطال<lf>اليوم يومك يا هلال اليوم يومك يا بطل يا هلالنا مجدك يُطال كل النوادي والدول! url',\n",
       " 'اللهم يا كريم يا عظيم يا غفور يا رحيم اغفر لموتانا ولموتى المسلمين، url',\n",
       " 'عنابي يا عنابي يا خدود الحليوه ',\n",
       " '@user الف سلامة عليك يا ابن الخضراء يا غالى <lf>ان شاء الله بسيطه وهترجع لبيتك بسرعة وربنا يكرمك وتحقق الامم معا نسور وقرطاج ',\n",
       " '@user #زعيم_تويتر_k <lf>مقدرش اخالفك <lf>مقدرش أخالفك لأني عارفك .. تقدر تحط الحديد فى إيدي<lf>اسمع..اسمع يا سيدي<lf>وحقك أنت المنى والطلب..والله يجازي اللى كان السبب<lf>ولي فيك يا والدي قصة..تغير مجرى حياة الطرب<lf>مبسوط يا سيدي .. يا',\n",
       " '@user وانت مال أمك ومال طرابلس،، خليك في السيسي امتاعك يا عرص،، وهي ناقصة أشكالك يعني،، اخ تفوه على وجهك يا عبد الدرهم يا عبد الدينار ياللي بلا كرامة،، يا منافق يا متلون يا خرتيت،، شدو همكم وبلاكم علينا،، ألا لعنة الله عليك حسبنا الله فيك ونعم الوكيل',\n",
       " 'دعواتكم ياحلوين بكره الاختبار الغثيث يا اجلده يا يجلدني  واتمنى تكون الاولى ',\n",
       " 'يا عيونه يا عذابي يا سهادي واغترابي',\n",
       " 'ياالله... يا سميع ... يا قريب يا مجيب ... أن تشفى  أبى ',\n",
       " 'الله <lf>— يا وجعِي يا وجع النّايات .. url',\n",
       " '@user يا نجمتي يا حبيبه قلبي ):',\n",
       " '@user @user @user @user @user تحرير فلسطين اله رجاله ، وانتوا يا نسل البنجال والهنود، كل نسلكم مخلط من السواقين والخدم ، آل سلول يهود مستعبدينكم ومخنثيكم يا حوش يا زبالة الامم يا عرة الشعوب ، نصيحه اعمل فحص جينات لحا',\n",
       " 'rt @user: @user يارب انا وانت يا حبيبي وانت طيب يا نجم مصر وان شاء الله سنه سعيده علينا كلنا ',\n",
       " 'انت يا زفت يا #فيسبوك يعنى انا اسيب هناك الاقيك هنا بردو ده ايه النحس ده',\n",
       " 'rt @user: أنا عن أهل الحكي و الوقت و أزعاجه !<lf>يا كبر عقلي ، و يا صبري ، و يا طيبي (:',\n",
       " 'يا شام يا شامةَ الدُّنيا و وردتها <lf>يا من بحُسنكِ أوجعتِ الأزاميلا <lf>وددتُ لو زَرعوني فيكِ مئذنةٍ <lf>أو علَّقوني علىٰ الأبواب قنديلا <lf>يا شامُ إنْ كنتُ أُخفي ما أُكابدُهُ<lf>فأجملُ الحبِّ حبٌّ بَعدُ ما قيلا url',\n",
       " 'يا بنت يا اللي والدينش و أنتِ يا مترفه يا مدلعه يا أموره. url',\n",
       " '@user السلام عليك سيدي و مولاي و إمامي يا أمير المؤمنين يا علي بن أبي طالب يا باب مدينة العلم و يا خير الناس بعد النبي محمد صلى الله عليه و آله و سلم ',\n",
       " '@user كل زق يا خنيث يا جرار يا نيفيا يا ابن القحبه',\n",
       " 'rt @user: بقى مش عارف إية غيرنى يا بريئ يا حنين يا ملاك  url',\n",
       " 'الكلام اللى لي أكتر من معنى مبفهموش والله يا جماعة يعنى يا تقولى على اللى فى دماغك دوغرى با متقولش عشان اللف و الدوران مليش فى دماغى بترجمه error.....',\n",
       " 'rt @user: @user يا ولية يا جبارة ده انت قادرة ',\n",
       " 'rt @user: امطري بالخير ورشي يا سحابه <lf>واطلبي يا نفس دام اللّه كريم.',\n",
       " '@user صاحب الحساب ذا قطري أخونجي عفن يبي يسوي تتش بيننا وبين حبابينا الامارات ... أقول بعيده على شواربك يا قطري يا اخونجي يا عفن',\n",
       " '@user يا رولا يا حياتي مين أنتي أساساً حتى تعطي رأيك أو تجيبي سيرة هيدا أو هيداك خلص استحي بقا صحيح انو المتل ما قال شي كذب ( اللي استحو ماتو )',\n",
       " 'يا نجم ومنوّر سماي يا امسي الحاضر و جاي .',\n",
       " '@user يا رب حبيبي يا نجدي ',\n",
       " '@user سوي واذا صرتي فحمه نغني لك يا اسود يا سواد الليل يا لون المسك والعنبر .',\n",
       " 'يا حي يا قيوم يا فاطر السموات والأرض يا عزيز يا حيكم فوز الفتح للهم آمين. آمين #النصر_الفتح',\n",
       " 'يا نادي الوطنيه يا مجد البلد ديه url',\n",
       " '@user يا استاذ معتز يا استاذ معتز كسمك',\n",
       " '@user بالتوفيق يا حب و يا رب فل مارك',\n",
       " '@user الكردي ما هذه العنصرية البغيضة يا مزورين يا كارهي دين الله يا عبيد اتاتورك',\n",
       " '@user كل سنه وانت طيب يا خطير يا اخطر مهاجم في مصر ارمي كل حاجة من دماغك وحتشوف توفيق ربنا ليك',\n",
       " 'rt @user: ولا انت يا قمر اتعلمت القساوة وبقيت زي حبيبي * بتنسى يا قمر حبايبك يا قمر * غريبة ومش غريبة دنيا وفيها العجايب * بتريح…',\n",
       " '@user وه يا دلبي يا ناس ماشاء الله',\n",
       " 'صباح الخير يا مُذهلة يا بنت الغييم<lf>أحبك والقلوب اللي تحُبك ما تنافسني..',\n",
       " 'تحية لابن الزمالك هيثم فاروق<lf>اجبر استوديو بى ان سبورت على اعادة الهدف <lf>ليضيع انتهاز المتربصين ان الزمالك فاز بالتحكيم<lf>تسلم يا ابن الزمالك يا اصيل  @user url',\n",
       " 'rt @user: إلهي أجرني من أليم غضبك وعظيم سخطك، يا حنان يا منان يا رحيم يا رحمن يا جبار يا قهار يا غفار يا ستار نجني برحمتك من عذاب النا…',\n",
       " '#رغد_عوض_العنزي<lf>يارب صبرني على فراقها، يارب انكسر ظهري برحيلها فاجبرني يالله.<lf>يا حبيبة قلبي يا رغد استودعتك الله يا قطعة من روحي.',\n",
       " 'وهو معكم أينمَا كُنتم يا طمأنينة القلب ، يا صدق اليقين .',\n",
       " 'يا كرهي يا مطوع بريده ثقيل دم مررره<lf> url',\n",
       " '@user يا قلبك القاسي يا عز .... يعني الدبه ما تتابعك يا اخي الدبه دمهم خفيف',\n",
       " 'أنا هنا يا إلهي ، يا ربّ التّعب ألوّح لك بقماشة كبيرة من الكآبة هلّا فعلت شيئاً من أجلي ؟',\n",
       " 'rt @user: @user مالك يا ياسو يا بني خلي سندك على ربك هو كفيل ان يغير اَي شيء<lf>ربنا يفرجها عليك و انت غالي علينا و لو شفت…',\n",
       " '@user @user @user انت لا حافظ تاريخك ولا تاريخ غيرك يا مُستعرب يا ابن ستين شـ*** وطه ولك عم بكولك انكلع يا صرمايه شو مابدك تفهم ',\n",
       " '@user يعني انت يا مسطول يا مسطول فش حل تاني',\n",
       " '@user @user خف علينا يا كبير .. يا من شابت لحيته وتساقط شعرات رأسه هرماً من كبر سنك! 🧓',\n",
       " 'يا لهوتي يا أبلتي !! <lf>يا خسارتي يا لاسارتي !! <lf> #الاهلي_بيراميدز',\n",
       " 'الاهلى فى قلبى و دايما غالى علينا<lf>جمهوره دايما وراه و دايما تلاقينا<lf>و فى اى مكان معاه دايما بنروح وراه<lf>انصرنا يا رب يا عالى يا الله<lf>\\xa0#مع_الاهلي_حتي_الموت',\n",
       " '@user يا كاتب يا متعلم هل وصف شخص بالغبي يعتبر من شيم الكتاب !!',\n",
       " 'يا نُور القمر .. يا ضحكه اللّيل الحُلوه .',\n",
       " 'يا ساتر يا ساتر بموت صارت الكرش url',\n",
       " 'rt @user: رفعت كفي نحو عطفك داعياً <lf>وعلمت أنك لا ترد دعائي <lf>يا قاضي الحاجات ، يا كاشف الكربات ، يا مجيب الدعوات ، يا غافر الزلات <lf>عافن…',\n",
       " 'يا نجس يا ابن الوسخه يا كهربا',\n",
       " '@user شكرا على اول مقطع .. ساعدني في كتابة اول جزء من محتوى باكتبه والله :)<lf>فيه ناس شايفاك دمك خفيف وناس تانية في نفس الوقت شايفاك سخيف .. الله عليكي يا مريم يا بتاعة التصنيف :)',\n",
       " 'كنت وتكون حياً لا تموت تنام العيون وتنكدر النجوم وأنت يا حبيبي يا رؤوف يا رحيم حيٌّ قيوم لا تاخذك سنةٌ ولا نوم ...<lf>ان تحفظ أميري المنقذ البشرية .. وقائد الأمة .. امامي الموعود المهدي المنتظر { ص } ...<lf>من فوقه وتحته ويمينه وشماله <lf>{{ يا لطيفاً فوق كل لطيف يا رب العالمين }}',\n",
       " '@user يادي الخيبة <lf>اتفضحنا ترا ولا ايه <lf>ترا اتفضحنا ترا ولا ايه ولا ايه ولا اييييييه <lf>ترالم <lf>ههههه<lf>نتكلم جد بأة : شوفوا يا ستات يا قمر احنا نحيب الحجر دا إياه <lf>واديله ادي <lf>مع ليمون و حاضرين وفازلين <lf>ههههههه<lf>و معانا ا',\n",
       " 'rt @user: يا اتحاد سعودي يا اتحاد عربي يا مستشفى الامل شوفوا لكم حل <lf> url',\n",
       " 'rt @user: يا دائم يا ديوم يا حي يا قيوم\\xa0 يا كاشف الغم ويا فارج الهم\\xa0 ويا باعث الرسل ويا صادق الوعد صل على محمد وآل محمد وآفعل بي…',\n",
       " 'rt @user: ذكرياتى يا ذكرياتى يا انا منك يا ذكرياتى<lf>انتى كل حياتى واكتر من حياتى<lf>انتى احلى همسه بتواسى آهاتى<lf>كل ما افتكرك بشوف حبى ا…',\n",
       " '=- يا ساحر البسمة.<lf>- يا ملاذي ومُنتهاي وأوليّ.<lf>- يا غالي الأثمان.<lf>- يا اللي أغلى من سنيني.<lf>- يا قايد الريم. <lf>- يا بدايات المحبّة. <lf>- يا عطر الليل. <lf>- يا حُبي المرّ العذب. <lf>- يا البسمة العذبة. <lf>- يا سيد الغنادير.<lf>- يا أجمل من الأخيلة.',\n",
       " 'rt @user: ولقد تعاهدنا علي السير سويا فلماذا تسرع الخطوات يا لوتفي <lf>استني يا لوتفي ...',\n",
       " 'rt @user: @user الله يوفقك ويسعدك ويديم عزك يابو علي يا رمزنا يا نهر الطائي المتدفق <lf>وان شاء الله يبيضون وجهك ووجيهنا نجوم الطائي',\n",
       " 'rt @user: َ<lf>تأمّل ..<lf>َ<lf>يا حي يا قيوم وفِّقني ؛ يا كريم أكرمني ؛ يا رزّاق ارزقني ؛ يا رحمن ارحمني ؛ يا ذا الجلال والإكرام أسعدني .…',\n",
       " '@user @user يا عيني عليه يا سالم انت',\n",
       " 'rt @user: ااااااااااااااه<lf>يا سلااااام<lf>والله ما فهمت موضوع اعمل الصح دي غير لما شفت الاعلان<lf>يا سلام يا ولاد<lf>بقى اعمل الصح<lf>يعني تعمل علامة…',\n",
       " '@user الله يبارك فيك يا عبودي يا حبيبي ومبروك لك أيضاً ',\n",
       " 'rt @user: ربي اني انتظر منك بشاره خير فلا تأجلها يا رب وعجل بها يا اكرم الاكرمين , اللهم بشرني بما يسرني وانت خير المبشرين',\n",
       " 'يا مُبهمه ، يا مُلهمه ، يا عظيمه<lf>محتاج للوحدة ولك انتي أحـوج <lf>صارت حياتي بـ جيّتك مستقيمه<lf>وانتي خلقْك الله من ضلعٍ أعوج !',\n",
       " '@user المتسابقين لما يمزحون مع بعض بالكلام يعني مثل يا دب يا خيشه يا ... و غيرها .. فالناس بالهشتاق يكتبون لييه يقولون هالألفاظ عيب !! و خالد بساعة الصفر يوصل كلامهم للمتسابقين ، و هو شيء سخيف و مزح ما يستاهل يتناقش بساعة الصفر ..',\n",
       " 'rt @user: بحبك يا زمالك انا بحبك يا زمالك زمالك وموت فيك موت#إكسبو_اغادير_للزمالك_والجماهير',\n",
       " 'اسال الله العظيم رب العرش العظيم اللهم فرج همي وهمك يا اخي و يا صديقي العزيز٠٠٠٠٠٠٠٠٠٠٠ واني وبدلها صبرك ويجعل من صبرك واحسانك عند الله مالا عين رات',\n",
       " 'الله عليك يا عم سيد يا عالمي url',\n",
       " 'rt @user: @user يا بنت الغيم و يا سيدة الورد <lf>يا ملاك عجز عن وصفها لساني<lf>علمينيّ من بالكون كله يشبهك',\n",
       " '@user تسلم يا حربي كان ودي ترسلها الصباح ولكن المساء منك احلى تسلم يا ملكي يا راقي فالنا الفوز',\n",
       " 'rt @user: يا ريحة العنبر .... يا نفحة العود',\n",
       " '@user #ماي_ستور <lf> يارب توفيقك يا كريم<lf> يا الله ارزقني وانت خير الرازقين',\n",
       " '@user طبعا لازم يكون سيء يا بتوع فهيم عمر و جهاد جريشة و عاشور و المرتشي و إبراهيم نور الدين يا وسخين يا بتوع الفار السنة الي فاتت بكاري جاسما مش عاجبكوا يابقر وانفجر اتفو عليكوا',\n",
       " '@user احلي حاجة لما قال ان الزمالك مااتهزمش من فرق مغربيه وفي نفس الجمله راح قال مافيش اي زملكاوي فاز على الزمالك قبل كده يا عبيط يا مدهول علي عينك',\n",
       " 'يا قدس يا مدينة تفوح أنبياء<lf>يا أقصر الدروب بين الأرض والسماء <lf>يا قدس يا منارة الشرائع يا طفلة جميلة محروقة الأصابع حزينة عيناك <lf>يا مدينة البتول يا واحة ظليلة مرّ بها الرسول حزينة حجارة الشوارع حزينة مآذن الجوامع يا قدس url',\n",
       " 'يا ڤيلا يا سييرا يا جوناس يا داكوستا ياااا كرييييمممم يا فووودي يا بيششي والله الف الحمدلله ع نعمتكم .',\n",
       " 'rt @user: يا امير تركي يا عريب المجنى <lf>فيك الامل يا محقق الاماني <lf>شفتك وحارت دمعتين وطاحت <lf>ادمـوع لكـن بينهـا شتـانـي<lf>الاولـه حـزن ع…',\n",
       " '@user يا مومن يا سيد ياعالم ياعاقل يامسلم، ماكو منطق يكول رجل دين يتكبر بهل شكل، ويهدد وتوعد، تسوي نفسك تدافع عن عمامه رسول الله وأنته مامتخلق بولا صفه من صفات رسول الله،',\n",
       " 'rt @user: يا ابن ألاعيبه يا أبو صلاح ',\n",
       " '@user @user @user يا اهل الرياض يا بختكم انتم مع سلطانه شيرين',\n",
       " 'rt @user: @user الف الف مبروك و منها للأعلى و تستاهل كل خير يا بو شاهر ( يا سحاب الظفير ) و الله يوفق شاهر و يجعله في أعلى…',\n",
       " '@user @user شايف يا طائفي يا قذر كل صفحتك عماله وطائقيه وكره للعرب وتمجيد لإيران <lf>انتم مرض خبيث يجب إستإصاله <lf>من الجسم العربي والعراق رأس<lf> هذا الجسم واقبح الطائيين واكثر<lf> من ركبهم ملالي إيران وحولتهم <lf>لمرتزقه يقاتلون ويدافعون',\n",
       " '@user يا حاقدة يا كذابة،،أولا مجزرة حلبچة كانت من قبل الإيرنيين ،،ثانيا نظام صدام حسين كان نظاما علمانيا إشتراكيا ولا يؤمن بالدين،،فكيف تتهمين أهل السنة به',\n",
       " '@user يا ركن طيار : هذا المقال الاسطوري ، في منتصف الجبهة <lf>الله يسعد قلبك يا إعلامينا الكبير يا استاذ إبراهيم فلامرزي ، يا قطري يا عربي يا مسلم <lf>url',\n",
       " \"نهاية اللقاء :<lf>الهلال <lf> التعاون <lf>..................<lf>مانويل د '<lf>ادم د '<lf>اميسي د '<lf>تاوامبا د '<lf>الزبيدي د '<lf>اذا اعجبتك النتيجه يا تعاوني يا شرير ريتويت <lf> #الهلال_التعاون\",\n",
       " 'rt @user: يا رب يسّر, يا رب لا تضيع لنا تعب',\n",
       " '@user و أنت طيب يا مفرح يا قدوه يا صاحب الدكاتره ',\n",
       " '@user @user وحيات امك لا تلف مواقع التواصل كلها يا خروف يا ابن الخروف يا اهاربي url',\n",
       " 'rt @user: ولا يا ولا يا اهلاوي .. انت يا ولا ع الدورى ناوي<lf>#اهلي_كمل_الصداره',\n",
       " 'أهل مكة حمام  و أهل المدينة قماري<lf>يا بنات الرياض يا فاتنات الملامح<lf>أرحموا ذا الحبيب إللي على الباب نايم<lf>  معروف جمال بنات الرياض ',\n",
       " 'يا الله انك تاخذه يا الله',\n",
       " '@user يا آية يا قمري والله الله يباركلك دائما',\n",
       " '@user @user @user افايا خو روضه ياما نخيناك ولا رد يا حيف يا بن ثانى يا طير السعد تحياتى الشمرى',\n",
       " '@user @user اكيد اكيد اكيد ونثق فيك يا حكيم لبنان يا عظيم ',\n",
       " '@user هوي يا مهنيين يا جزم انتو انتو ما بتمثلونا خلاص دوركم انتهى ما على كيفكم كلو يومين دايرين تسقطو زول يلا كملو حياتكم في اوروبا بعيد عننا يا منتفعين يا اصحاب المكاسب الشخصية .. برهان بيان ما ذاعو تجو هابين فينا كدا ؟؟!',\n",
       " '#ماني يا نجم يا اسمر يا حلو<lf>خلص الكلام فيك الموسم ذا<lf>#ليفربول_تشلسي',\n",
       " '@user يا قوي انت يا قوك قواه',\n",
       " 'rt @user: #المزاج_اليوم_يحتاج <lf>المزاج سيئ!<lf>.<lf>يا خيبة ظنوني،و يا كبر القهر <lf>ودي أقول لـ دورة الأرض اوقفي<lf>.<lf>لا تبدي أعذارك أنا اللي بعتذ…',\n",
       " 'يا لهوي يا هشام ده انت قديم قوي زيي<lf>بيت الشعر ده انا اتنفخت بيه من مدرس العربي وانا صغير  url',\n",
       " '@user يا كلب الصهاينة يا عميل الفرس أنت عبد من عبيد نعال الحكام الظلمة و القتلة، أنت لا تساوي ذرة رمل في شسع نعال الرجال يا أقذر خلق الله يا وقح.',\n",
       " 'rt @user: متباركين يا بطال تويتر يا جنود الامام الحجة المنتظر يا محبين ال محمد بمولد الحجة عج<lf>يدعوكم اتحاد القروبات العراقية واللبنانية…',\n",
       " '@user يا حيوان يا متخلف يا كلب يا عديم الشخصية يا عميل الغرب الغرب مسيحي صليبي ولا يوجد شيء بيننا وبينهم الا محاربة ديننا الغير محرف لانهم حرفوا دينهم ويرفضون ديننا وهم بالاساس مستعمرين لنا فكيف نتقرب لهم بالاعتماد على انفسنا ام بالسجود لهم يا حق',\n",
       " '@user يسعد صباحك يا غالي يا محترم يا متربي يا مرجلة ',\n",
       " 'يا الله يا الله برحمتك يا ارحم الراحمين يارب',\n",
       " 'rt @user: @user @user يا فهيد يا رمز الفخر يا ابن عواد<lf>نفخر بصيتك يا أبو سطام ونشيد url',\n",
       " '@user يا قلبك الكبير يا كبير ',\n",
       " 'طب يا متعلمين يا دكاترة يا فهمانين قبل ما تطبعوا الكتاب اعملوا عليه كل تعديلاتكم بعدين اطبعوه',\n",
       " '@user حبيبتي يا نانسي يا جميله تسلمي ياااارب ',\n",
       " 'الله يحفظك يا محمد صلاح يا هدية من الله',\n",
       " '@user ابلع بلوك يا قمامه يا جزمه يا زبال يا بزر',\n",
       " 'rt @user: قاطع الرحم كيف انت ورمضان مستعد له !! <lf>من كان يؤمن بالله واليوم الآخر فليصل رحمه يا عباد الله يا من آمنوا بالله ورسو…',\n",
       " '@user @user @user يوم ما السفينه تغرق هنكون بنقرا قبلها الفاتحه ع القارب ب اللي فيه يا سيد الناس يا مريسه  ممكن نحدف عوامه بطه نلحق صحاب القارب ',\n",
       " 'يا ليووو يا ليووو يا ليوووووووو ',\n",
       " 'يا عيب الشوم يا عيب الشوم<lf>قبل هالمرة حكيت هيك عن المرحوم سعود الفيصل واليوم وصلت معك للملك سلمان، سودت وشنا الله يسود وشك. url',\n",
       " 'rt @user: @user وانت فين يا قيعي يا معرص من مهدي عبيد ولا من حكام الاهلي المعرصين في الدوري علي الاقل الزمالك اتاهل بمجهوده وله…',\n",
       " 'طيري يا طياره طيري يا ورق وخيطان.. بدي ارجع بنت صغيره ع سطح الجيران... وينساني الزمان ع سطح الجيران.',\n",
       " 'rt @user: يا رب... يا حي يا قيوم<lf>إن كان أحداً ممن نحب أو يحبنا<lf>أو من المسلمين <lf>يملكه الضيق فـفرج ضيقه وأكشف غمه وهمه وأقض دينه<lf>ومن كان ي…',\n",
       " 'بدء العد التنازلي لشهر رمضان! <lf>اللهم اجعل هذا الشهر المبارك خير لنا، واطرح فيه البركة والسداد والكمال. اللهم اجعله بداية جميلة للقادم. ربي وزدنا قرباً منك، وإيماناً بك. يا كريم يا رحيم ويا عليم',\n",
       " 'تصبحوا على خير وبكرة ان شاء الله فرحة من القلب من حبيب القلب <lf>اه يا تي شيرت العمر يا ابيض<lf>#الزمالك_حسنية_اغادير url',\n",
       " 'rt @user: يا حظي فيك و يا بخت من حولك. . .',\n",
       " 'يا من فُتنت بهِ يا أحسن الناس',\n",
       " 'وكما قيل فى الغزل يا عرة الحبايب يا تربيه الزرايب يا ابن ال او يا بنت الو**ه..',\n",
       " 'rt @user: احتسب الاجر يا خالد <lf>احتسب الاجر يا خالد <lf>احتسب الاجر يا خالد <lf>احتسب الاجر يا خالد <lf>احتسب الاجر يا خالد <lf>احتسب الاجر يا خ…',\n",
       " '@user بس يا ماما بس يا حبيبتى ',\n",
       " '@user يا رب يوفقك يا قلبي ، ويوفق الاهلي ',\n",
       " 'إحنا لازم نسيبهم يفرحوا حقهم....<lf>بس أحب افكرك أنك تالت الدوري الاسباني...<lf>و قدامك إن شاء الله سنتين في افريقيا هتفضل تلعب في الكنفدرالية اللي هي طبعاً اقوي بطولة افريقية... وطبعاً مبروك الفوز الحلال..مبروك يا بيضة يا جربوعة يا حصالة 🤘<lf>#الزمالك_حسنيه_اغادير',\n",
       " 'اِلـهي اَجِرْني مِنْ أليمِ غَضَبِكَ وَعَظيمِ سَخَطِكَ يا حَنّانُ يا مَنّانُ، يا رَحيمُ يا رَحْمنُ،',\n",
       " 'يا رب اجازه يارب اجازه يا رب اجازه يا رب اجازه يا رب اجازه يا رب احازه يا رب اجازه',\n",
       " 'يا من بِيَدِهِ ناصِيَتى يا عَليماً بِضُرّى وَمَسْكَنَتى، يا خَبيراً بِفَقْرى وَفاقَتى، يا رَبِّ يا رَبِّ يا رَبِّ',\n",
       " 'انشاء الله اشوفك تتقلب بنار جهنم يا يونغ يا كلب . url',\n",
       " '#لقمه_عيشنا_بخطر بفضل زعمائكم يلي بتهتفولهم بالروح و بالدم ...<lf>و ملاحظة : ابن زعيمك عايش مرتاح و اولاده كل جمتتين بسافروا تيتسلوا و انت قسط المدرسة بتفلح ليل نهار تتأمنو ... <lf>خلي زعيمك ينفعك.<lf>شعب يا محشش يا مسطل. <lf>شو بعدكم ناطرين !',\n",
       " '@user تسلمي يا دودو يا رب وميحرمنيش منك ابدا ',\n",
       " 'أبغى كومبااااك يا got <lf>أبغى كومبااااك يا got<lf>أبغى كومبااااك يا got <lf>أبغى كومبااااك يا got <lf>أبغى كومبااااك يا got <lf>أبغى كومبااااك يا got <lf>أخر كومباك قبل ٧ شهور فقدتهم  url',\n",
       " 'rt @user: ع التايم شير كلمات وحكايات وتعليقات<lf>فاجعل لذكرك ودعائك حظاً منها<lf>اللهم يا واحد يا أحد يا فرد يا صمد<lf>يا معز يا مذل يا س…',\n",
       " '@user مبروك يا سوزي يا حلوة ربنا يقر عينك بيه و يجعله سند ليكي و يتم عليكوا بخير يااارب ',\n",
       " 'الشهداء جوا القلب يا مفتي يا ابن الكلب url',\n",
       " 'rt @user: يا باهيّ الوجه ، يا حبيبي المُتباهي',\n",
       " '@user كل زق واسكت يامتلون يا محايد يا كذاب سبحان الله يطّلع مافي الصدور قبح الله وجهك يا طاقية والله سعود الصرامي صدق يوم جلدك بالبرنامج بخصوص حركة ديجنيك',\n",
       " 'يا معوضني يا مهنيني <lf>يا اكثر شخص احبه انا',\n",
       " '@user ماشفت لا احقر ولا اقذر ولا اسخف ولا اتفه منك يا نكرة يا وجه العنز .. لعنبوك أنت شايب رجل بالدنيا ورجل بالقبر وقاعد تمارس نجاستك و قذارتك في كل تغريدة .. وش هالبشر يارب اللي ابتلشنا فيه .. ناظر وجهك يالعود مثل العنز .. اتقي الله بنفسك وانت ',\n",
       " '@user صدارة بتعبنا مب بتعب غيري يا مسياري يا حمار 🦓 هههههههههههههههههههههههههههههههههه ههههههههههههههههههههههه ههههههههههههههههههههههه ههههههههههههههههههههههه سمعني نهيقك',\n",
       " '@user اصه يا حفاضة يا مستعار سدني واوراوا <lf>ما معك إلا تبربر url',\n",
       " 'وأخيرا يا وطن يا مغرب دخلتك <lf>تفصلني ساعة لشوفة بابا <lf>أجمل يوم فحياتي هدا هو بشوفة عيونك يا والدي حبيبي <lf>',\n",
       " 'خلاص يا سيتي يا حبيبي بقى متعيطش url',\n",
       " '@user غالبا يا ميت يا متواجد على الدوام روبوت 🤖',\n",
       " 'و انتَ يا ثورجي يا رائع لما تشوف كنداكه ماشه بالشكل دا ما تحاول تشاغلا ، حاول انصحها و مهما كان الرد حقها دا كلو اجر عند ربنا ',\n",
       " 'rt @user: هاه، يا ولاد الكلاب يا جزم..؟! url',\n",
       " '@user لأن الحديث معك مضيعه يا أرعن يا لاعق أحذية الدواعش والاخوان ',\n",
       " 'rt @user: #ويش_اللي_يسعدكم الترسيم وتثبيتنا على وظائف رسمية تعبنى من بند الاجور والمستخدمين ارحمونا يا ناس يا رب ارزقنا من فضلك',\n",
       " 'يا شعبي حبيبي يا روحي يا بيبي يا حاطك في جيبي يا ابن الحلال<lf>يا شعبي يا شاطر يا جابر خواطر يا ساكن مقابر وصابر وعال<lf>يا واكل سمومك يا بايع هدومك يا حامل همومك و شايل جبال<lf>يا شعبي اللي نايم وسارح وهايم وفي الفقر عايم... url',\n",
       " '@user يا الله يا عزيز يا كريم',\n",
       " 'يا يبه يا نور عيني شبّ عمري في هناك ',\n",
       " 'الحين ليش الكلب والحمار هم اللي دايم نسب فيهم ، يعني وش فيها اذا قلنا يا نمله يا ابن النمله ؟؟؟ url',\n",
       " 'يا كلب منك له يا لعيبة وسخة يا بقر',\n",
       " 'rt @user: يا رب العباد و يا مفرج الكربات<lf> اعني في مصيبي وهوّن علي حزني وارحمني في ديني واجعل القرآن ربيع صدري وارزقني من حيث لا ادر…',\n",
       " '@user ما شاء الله يا محمد يا اسطورة ما شاء الله بس والله شغل جميل وكبير هذا وانت لسع جديد ،الله يوفقك ومنها للاعلى يارب ',\n",
       " 'rt @user: @user @user @user @user اظهر وبان يا طلبة يا بتاع ال ١٣ دورى عايزينك في موضوع',\n",
       " 'rt @user: @user @user يا زين دكتورنا يا خراشي ',\n",
       " 'يا كوايتة يا مغفلين!!! اطردوا الكلب هذا، داوموا مبجّر و اللي يشوفه يصوّر ورقة يسأله شنو قاعد يسوي؟و يهاوشه و يطرده بسرعة،اللي كاتب هالكلام يقول \"ما يقدر عليه إلاّ الله\"؟! إلاّ من رداكم!قولوا له \"اذا شفتك تحوس بين مكاتبنا مرّة ثانية رح أكسر رجلك\" يا كويتيين يا مغفلين  url',\n",
       " '@user @user يا مرحبا ومسهلا يا ابو ناصر',\n",
       " 'rt @user: @user شكرا يا صاحبتي او يا اللي كنت فكراكي صاحبتي',\n",
       " 'rt @user: يا وطنّا يا ملاذ المسلمين<lf>يا بلاد المجد يا دار الشيوخ<lf>لا تفكّر في كلام الحاسدين<lf>كلّما زادوا حسد زدنا شموخ<lf>#سعود_بن_عمر',\n",
       " 'rt @user: قووووووووووول الثاااااااني<lf>ميسي يا أسطورتي القم يا بيليه<lf>ميسي ما يقدر يسجل بالقدم اليمنى<lf>🤣🤣🤣🤣🤣',\n",
       " 'اولا هنيئا للبنان بقرار فخامة البطل و الشجاع و الجريئ لإبطال مفعول فتيل تفجير و خراب لبنان دائما ثانيا: يا شعب لبنان يا عظييييممممم هل يوجد فهيم يستطيع أن يفسر لي هذه الكلمة العظمة إلى أين تؤدي؟ يا شعب لبنان العظيم هل يوجد فهيم ليفسر لي أين أصبحتم بهذه العظمة وفي أي مرحلة منها؟..',\n",
       " '@user @user ههههههههههههههههههه يا وقح يا اندل احذفها و رتوت له',\n",
       " '@user @user @user اسكت يا خروف سيساوي يا صهيوني يا عملاء لسرائيل',\n",
       " 'rt @user: يا ربّ أمِّي.. يا ربّ أمِّي.. يا ربّ أمِّي.. عدد كل شيء تسعهُ رحمتك و ملء كل شيء كان زاخرًا بفضلك يا ربّ يا ربّ .',\n",
       " '@user ياخي والله بحبك يا معذبهم <lf>اضرب ولا تبالي يا بو ناصر يا عسل ',\n",
       " 'هسه لو الملك فيصل موجود، والله چان هسه إحنه أحسن بلد بالعالم يا امريكا يا ترامب، هاي من ناحية ومن ناحية لخ أبن الملك فيصل إكيد يريد أميرة',\n",
       " \"rt @user:  جديد <lf>احتمى الميقاف يا شبل الدواسر <lf>وانت يا ابو ذيب خابر لاحتمينا<lf>'<lf>كلمات : مشعل الثبيتي<lf>@user<lf>اداء : شبل الدواس…\",\n",
       " 'يقولون جونز طاح و ويهه كله دم ... تعلم يا خنيث يا ميسي تفو عليك',\n",
       " 'ايييييييييييه كانسيلو من البداية يا متدرب يا عالة يا جبان',\n",
       " 'rt @user: وانا ادري العمر يا عمري ساري و يا صبر القلوب',\n",
       " '@user تقصد بكلمتك عندنا من هم ؟! نظام الحمدين يا مرتزق ؟! خسئت يا شرذمة يا مشرد و خاب املك',\n",
       " 'و مازال العرض مستمر :<lf>لا بترهبنا العساكر<lf>لا الدقينات المساخر<lf>لا الكلاب الامنجية<lf>بعد دا البلد دي يا تنظف يا تنظف<lf>#اعتصام_القيادة_العامة_مستمر<lf>#اعتصام_القيادة_العامة',\n",
       " 'ايه يا دنيا يا نكدية ما تروّقى شويه',\n",
       " 'يا يا يا واد يا ثقيل يا يا يا مشييّبني',\n",
       " '@user تسلمي يا سما يا اختي ربنا يكرمك',\n",
       " '@user اه يا وسخه يا وسخه ياوسخه  url',\n",
       " 'الرساله فيها عشم مش طبيعي بس مش مشكلتي.<lf>اولا كون انك ولد قاعد مع شوية ولاد بتجيبو في سيرة بنت فانتو كدا تحت بند (ستات لتاته) ودي مش قعدات رجاله يا شوية اشباه رجال!<lf>ثانيا انا ممكن اتصرف تصرف غشيم ومحدش جربني قبل كده ف بلاش انا.<lf>ثالثا عيب علي سنك يا شحط يا عجل منك ليه واتقي الله. url',\n",
       " 'rt @user: هما بيرقصو على اغنيه <lf>وادى رقصه الكرانبه يا أبا يا أبا على الكرنبه url',\n",
       " '@user انا ساكن افكاري لاني افكارنا متطابقه حبك سرق مني مهجتي ولا عقل من انساه يا بوي يا بوي الله يسلمك حبي الاول والاخير يا ساكنه يا قلبي بصفتك ملكه العرش للابد في قلبي',\n",
       " 'rt @user: احمد عسيري يا احمد احمد يا جماعة احمد احمد قسم بالله احمد يا اخوان قسم بالله نهاية اسمه عسيري اقولكم احمد بلاكم ما تصدقون قسم ب…',\n",
       " '@user @user ههههههه الله يسمع منك<lf>نصراوي يا دكتور خالد يا حبي للنصراويين قسم<lf>إن شاء الله راح أحضر النهائي يوم الجمعة في ملعبك وأسلم عليك جاي من أبها خصيصاً عشان المباراة بس خلهم ينادون بإسمي ( ابراهيم هزازي ) بين الشوطين و',\n",
       " 'rt @user: يا كل الحاضر والماضي يا عمر العمر  url',\n",
       " 'راجعين يا هوى — راجعین يا زهرة المساكين<lf>راجعين يا هوى على دار الهوى على نار الهوى<lf>راجعين url',\n",
       " '@user @user @user يا الحبيب يا ما اكلت من الهلال خماسي ورباعي وبطولات عادي تفوز بمباراة واحد من ١٠٠ وزي ماتفضلت الاتحاد خدم نفسه قبل مايخدم الاخرين',\n",
       " 'قولهم يا شوالي يا عظيم وفكرهم \\u2066\\u2069\\u2066\\u2069',\n",
       " 'يا عمال العالم يا اصحاب اليد العليا بقلم سارة السهيل url',\n",
       " 'rt @user: يا رب فرحنا بكرة يا رب احنا عارفين انها مستحيلة بس انت قادر ع كل شئ وعشمنا فيك كبير #قدها__يا__اهلي',\n",
       " '@user @user يا ازارو يا تسترجل يا ترحل عيب عليك ال. بتعمله ده',\n",
       " 'الامتار الاخيرة من الموسم تحتاج تركيز ،،، قلتها قبل وارجع اعيدها ،،، مع ان كلامي زعل بعض الزعماء ،،، بختصار ،،، من بغاه كله خلاه كله ،،، يجب التركيز على بطولتين فقط ،،، اسيا مطلب ،،، يا دوري يا كاس يا عربية <lf>#الهلال',\n",
       " 'rt @user: #الكونفدرالية يا اعلام يا صحافه يا مصر الزمالك هليعب بكرة في نصف النهائي بطولة افريقيا والممثل الوحيد الي بيلعب باسم مصر ان…',\n",
       " '@user وأنتي أحقر من عليه وتفوه عليكي وحدك يا صفويه يا أذناب ومن تعتاشون على دم شعبنا أنتم ليسوا بعرب يا جربانه معك حق ولا بشرف العرب تكونوا منهم يا جاهله بوست اليد من البروتوكول للي لا عندكم منه ولا بتعرفي أصلا جاهلة ومتخلفة عقلبا يا حرام شوفي شي ',\n",
       " '#كلنا_معك_يا_الشامخ<lf>#الشامخ عندي اكبر بطوله<lf>وسابقى مع العالمي ماحييت ....<lf>لسنا كغيرنا نلغى متابعة رئيس نادينا كما فعل غيرنا ، بل نفتخر بكل عالمي ونقول :<lf>&lt;&lt; فداكم ألف كأس يا عالمي &gt;&gt;<lf>أحبك يا نصر ',\n",
       " '@user الباريسي بقي اللي مفيش زيه <lf>وانتي طيبه يا ساره يا رب <lf>ان شاء الله تحي باريس وتجوزيني هناك كل صحابتك يا رب ',\n",
       " 'اهلين يا قمر العتيم يا منور الدنيا علي',\n",
       " 'rt @user: وانت طيب يا يودا يا حبي  url',\n",
       " 'rt @user: #البنزين<lf>.<lf>نعيد ونكرر يا ذباب يا إلكتروني<lf>الأمن والأمان ليست سلعة تساومون المواطن فيها.<lf>.<lf>اذا فيه قرار مو عاجبني ترا عادي…',\n",
       " 'ربنا يا يرحمك يا عبدالعظيم و يغفر ليك url',\n",
       " '@user ربنا ينتقم منك انت وبلحة !!!<lf>يا شيخ المعرضين يا آفاق يا نتن !!',\n",
       " 'والله يا مستر محمد يا ريت تويتر شارع ده ناس فاكره التايم جنينة الأسماك هههههههههههه ربنا ميحرمنيش من حضرتك يا غالي يا محترم ولا من أخلاقك العالية ولا من سؤالك الغالي يا غالي url',\n",
       " '#ماهو_افضل_لون_عندك يا أسود ياسواد الليل يا أسود ، يا لون المسك والعنبر .',\n",
       " 'rt @user: الظاهر يوم غنيت \" لفي بينا يا دنيا دوخينا يا دنيا\" كانت ساعة استجابة',\n",
       " 'rt @user: انا كل ما بلاقي لانش بوكس شكله حلو اقول لماما هجيبه وتقولي يا ماما ليه يا حبيبتي واجيبهم فعلا وفي الآخر بكسل اشيلهم بس انا بح…',\n",
       " 'فديت صوتك فديتك ... شفتك عشقتك هويتك<lf>ياليت تدري يا ليتك ... غلاك يا كبر قدره',\n",
       " '@user اعرف انها صفقة<lf>وانه محدش يعرف عنها الا امريكا والصهاينة<lf>وانه احنا هنتبهدل لو الصفقة دي مشيت<lf>مش هي دي الصفقة يا متعلمة يا بتاعة الجرايد<lf>(اقرئيها بالمصري 🤕)',\n",
       " 'يا احلى ايام العمر يا اجمل سنيني (h)',\n",
       " 'rt @user: افتحي يا نسمة افتحي يا حبيبة بابا انا جايبلك باناناز',\n",
       " '@user يا درزي يا د *يو*ث<lf>بنتك واختك وزوجتك سبيل للمجوسي فى سوريا وسبيل للقطري فى قطر وانت من ظهر ش *و*ة يهودي ',\n",
       " 'يا طير يا طاير على اطراف الدني',\n",
       " '@user ربنا يشفيه يارب ويصرف عنه كل شر ربى انه مسه الضر وانت ارحم الراحمين اللهم ارنى عظيم قدرتك يا حيى يا قيوم فى شفائه يا أكرم الأكرمين',\n",
       " '@user @user يا الله يا محمد يا علي موتو بغيضكم',\n",
       " 'يا ربي علي نقائك يا تريكة!<lf>تريكة مكانه في الصفوف الأولي مع أساطير أفريقيا ولكن للأسف مطرود من بلده ورغم دا كله شوفوا بيقول إيه!..<lf>تريكة يا عظيم . url',\n",
       " '@user شوفي يا انا حمار يا انتي ماتعرفين تكتبين',\n",
       " '@user ما بقى في شي نغنيلو......بحبك يا فقير يا بلدي المنهوب ...بطفرك ...بجوعك..بحزنك ..بقلة العمل فيك ..بحبك ....ورح صير حبك اكثر ..بس شوف كل حراميتك بالحبس',\n",
       " '@user يا تتربى عليها يا تعيش عمرك كله تسمع عنها.... قول الحمد لله على نعمة التربيه الحسنه .',\n",
       " 'يا ألحان أُغنياتي ، يا سهّري و أفكاري يا حَبيبي يا بعيد',\n",
       " '@user يدنا بيدك حد السما حدك .. يا حلمنا الأجمل الكل من بعدك<lf>يا ملهم الأجيال في خطوتك أميال والله صدق من قال انك مثل جدك<lf>يا محمد الأمجاد يا قاتل الحساد أيامنا أعياد وأفراحنا عندك<lf>حنا معك قدام يا محقق الأحلام معاك ما ننضام يا صاد',\n",
       " 'يا طاغيه .. يا غاوية كل القلوب يا أطهر آثام قلبي والذنوب! url',\n",
       " 'يا بيبو يا حبيب الاهلاوويه ... كلمة بنحبك دى شويه ..... كمل يا خطيب وهتلاقى .. كل الجماهير الوفيه ... انته يا حبيبنا فى قلوبنا ..حبينا نتوب عن حبك .. لقينا حبك بيدوبنا .... ( .. اهلاووى  url',\n",
       " 'rt @user: يا آلاء يا نقيييييب  url',\n",
       " 'احسد العُيون اللي تشوفك كل يوم<lf>يا حظها و يا حظها و يا حظها',\n",
       " 'كل عام وأنتي بخير يا أغلى بشّر يا سيّدة السادة . . @user',\n",
       " 'انادي يا سارة يانورة يا هيفا يا امال <lf>عساها تجاوب والاقي لهذا القلب حل — لا الاغنية مش كدا يا انون مفيش الاقي لهذا القلب حل لا url',\n",
       " 'دعم يا شباب تستاهلو يا زعماء ما نرضي الا بالقمة في كل شي #هلالي_تابعني_اتابعك',\n",
       " 'كسمك يا عمو يا بتاع اوبر انت خول ليه خخخ',\n",
       " 'يا عيني يا عيني يا كابيتانو قاعد تلعب لحالك بالدفاع',\n",
       " '@user يا ابن الآيه يا هيما. دي هتبقي مدبحه يا شقيق. مسا مسا يا ابراهيم url',\n",
       " 'rt @user: يا بنعيش احرار يا بنموت رجال <lf>#اعتصامات_القيادة_العامة',\n",
       " '@user صباح الخير يا ماسه يا نبض القلب واحساسه صباح ينشر العنبر لروح الزين وانفاسه',\n",
       " '@user ربنا معاك يا محترم يا احلى من لبس فانلة الزمالك ',\n",
       " 'يا عظمة يا عظمة  url',\n",
       " 'rt @user: @user كل سنة وانت طيب وبخير يا حيسووو يا ملك الشياكه وعقبال العمر كله يا زميلي ',\n",
       " 'rt @user: ااااه يا لياالي يا ليااالللييي<lf>اتصاالااات القسم العااالليي <lf>#eced_',\n",
       " '@user أنت يا عنصرى يا قذر يا قمر كل سنة و أنت طيب ',\n",
       " 'هو يا أكل يا دخان ماعندي شي أسويه، ايع زهقت!',\n",
       " 'معقول يا اوساخ يا جبناء يا حقراء ساكتين على الظلم اللي بتشوفوه؟<lf>هم ضحكوا عليكوا بسيارات تيسلا؟؟؟؟؟؟؟؟؟؟؟؟<lf> هذه السيارة مطلب لكل مواطن وإلا ثورة. وإما النصر وإما السيارة.<lf>url',\n",
       " '@user اني حسيت بيك بس گلت لا ميسويها. يا خائن يا بعثي يا عميل يا صفوي يا ناصبي يا.... شمدريني بعد بكيفك انت حط تهم ',\n",
       " 'حاجةً في النّفس يا ربّ .. فاقضها يا خير قاضٍ',\n",
       " '@user الله يا حلوه الحلوات يا بلدى ',\n",
       " '@user تانى يا زكى ؟ تانى يا تافه يا هايف تانى !',\n",
       " 'rt @user: الكوره ماعدتش خط المرمي يا قرود يا بهايم يالي عيزين تظيطوا وخلاص.. تسلم ايدك يا ابو الاجناش  url',\n",
       " '@user @user @user منحبك نجوى كل لبنان بحبك يا شمس الغنية يا علم لبنان يا فخر وعزة كل الدني. انتِ المثل الاعلى لكل الفنانين',\n",
       " 'كده يا قولون يا حته مني ؟؟',\n",
       " 'rt @user: @user امين يا رب العالمين واياكم يا كريم يا رحيم. بارك الله فيكم وأسعد الله صباحكم بكل خير وسعاده وجزاكم ال…',\n",
       " '@user هو في زيك يا عاقل انت يا جميل ',\n",
       " 'يقول راشد الماجد :<lf>الشقى اه يا قلبي الشقى يا ما دور وما لقاله احباب ما لقى غير نار تحرقه نار غربة ونار حزن أغياب.',\n",
       " 'مش عارف شن عندكم فيها من جو او رجولة اتنكلوا بجثة ميت ولا اتصفي اسير .. يا غجر يا ماغول..<lf>لا حول ولا قوة الا بالله العلي العظيم',\n",
       " 'امشي زيد حد يخرجله يدبلموه اعطيه يا بدري اعطيه يا بدري اضرب يا بدري اليييييه  url',\n",
       " 'يا مُكعب السُكر يا زمُردي الأحمّر وياسري الأكبر يا فتنتِي العمياء ويا عشقِي الأكبر.',\n",
       " 'rt @user: يا زماالك يا اجمل حاجه فى الدنيا والله',\n",
       " 'بستغرب وبحسد الناس اللي بتهيل هير سيلف وبتموڤ اون بسرعة البرق، خلال اسبوعين ولا شهر بالكتير تلاقيهم نسيوا وارتبطوا تاني، بتعملوها إزاى يا شياطين يا فُجّر علمونا :(',\n",
       " 'جات المقادير مثنيه ومربوعه<lf>وان قلت عدّت يصيح الوقت لي توّك<lf>ما يدري ان الهموم ان جات مجموعه <lf>اقول يا قوّها و تقول يا قوّك!',\n",
       " '@user @user ينصر دينك يا حمودة يا سفير النوايا المقعمزة في تركيا ',\n",
       " 'اللهم ارينا عجائب قدرتك في سلمان بن عبدالعزيز وأسرته ومن معهم يا رب العرش العظيم اللهم عجل فيهم فكفك أفكارهم واجعل الدوائر عليهم بفضل كل دعاء استجابة يا جبار السماء والأرض يا الله اللهم امين الدعاء الدعاء الدعاء الدعاء',\n",
       " 'يالله صباح خير يا فتاح ياعليم يارزاق يا كريم ... url',\n",
       " '@user بمفرده!!!<lf>كبرهااااا حطها في زجاجه ورجهاااااا وكبهااااااا<lf>كل من يتغنى بمن طقع وقال دفعت  مليون يا أجير يا مغلوب على امره.<lf>الاتحاد قدم النخنوخ لشهره وجعل له سلق يحبونه،<lf>رحم الله بن محفوظ وحفظ الله الشيخ ابن الشيخ عبدالمحسن عراب ا',\n",
       " 'يا ابو العيون السود يا خلّي',\n",
       " 'مش كبيرة الجملة <lf>انت عظيم فعلا <lf>ياريت يكون في منك ناس كتير — ربنا يكرمك يارب و يكتر من امثالك يا رافع معنوياتي يا انون  في احسن مني كمان url',\n",
       " 'rt @user: يا تكونو قد كلامكم يا تخلو كلامكم قدكم',\n",
       " 'الحمد لله سبحانه و تعالى الامطاررررر تفتح النفففس يا رب ارزقنا يا كريم #الرياض_الان',\n",
       " 'تحبي القشطة مع عسل ولا مربى؟ — احبك انتي يا قشطة يا عسل يا مربى  url',\n",
       " 'رحل صالح آخر الصالحين<lf>رحمة الله تغشاك يا الزعيم الصالح يا شهيد الوفاء<lf>رحمة الله تغشاك يا الزعيم الصالح، يا سيد الشهداء والأتقياء والشرفاء<lf>المجد والخلود لشهداء يمننا المعطاء، يمن الخير والعطاء<lf>الفاتحه<lf>الى روح الوالد الشهيد الزعيم الصالح شهيد الوفاء<lf>#الشهيد_الصالح_رجل_بحجم_وطن url',\n",
       " 'rt @user: @user تااااني يا ذكي <lf>تاني يا بائس يا سينجل تااااني <lf>انت ايه جبلة مبتحرمش',\n",
       " 'حسبى الله ونعم الوكيل فيك يا تركى ال الشيخ يا راشى يا كلب الزمالك',\n",
       " 'rt @user: كل سنة وانتي طيبه يا ظاظا يا قمر بحبك جدااا والله ومبسوطه اووي اني عرفتك بجد  @user',\n",
       " '@user ما جربت تروح الحرم وقت الزحمة الشغلة تصير يا نايك يا منيوك مافي وسط',\n",
       " '@user @user الله يرحم الميت و يغفر له و يسكنه فسيح جناته <lf>و تلحقونه ان شاء الله انتم الاثنين قبل رمضان <lf>مو مكان و لا وقت يا دكتور و يا بيطري حمير <lf>ههههههه',\n",
       " '@user @user يستاهل ما جاه يا ابو فيصل يا افضل اعلامي صادق ارفع ضغط القواطي يا ابو فيصل الله يوفقك',\n",
       " '@user @user يا كبييير يا نادي الوصل ',\n",
       " '@user انتي قليلة ادب يا بزر يا هطف يا تنكه يا ورعه',\n",
       " '@user @user تاج راسك ورأس كل هلالي النصر العالمي يا حمار جحا يا السلوقي يا طاقية',\n",
       " 'وما بقى لي غير انتي يا غريبه يا رحيل العمر فيني يا حبيبه ',\n",
       " 'rt @user: تسلّطي يا مليكتي<lf>وتلالأي يا نجمتي<lf>وتجلّي يا جميلتي<lf>وتباهي يا حبيبتي<lf>انا هنا ظلكِ وأنتِ<lf>في الروحِ جليستي.<lf>[@user ]',\n",
       " 'rt @user: اي اللى مصحيك يا بائس يا سينجل يا وحيد ؟',\n",
       " '@user تعرف لو كنت بتعارض من جوا مصر كنا احترمناك لكن خاين زيك زي معتز وبهايمهم فتغور في داهية يا حاتم يا رشيد جيلك.... عبد ربه بيحرقك هههههه',\n",
       " '@user مبروك يا هيما يا هداف البطولة باذن الله الفوز بالبطولة برجلك',\n",
       " 'هو اني يا اموت يا اظل اذاكر و للأسف الاثنين نفس الشعور (:',\n",
       " 'rt @user: @user @user يا المونديالي يا مشرف المسابقات<lf>فوزكم والله ابد ما جلطنا<lf>جمهورك تتغنابه كل المدرجات<lf>ونصرنا اول من مثل…',\n",
       " '@user @user كل الي يتكلمون على سمو الامير ويدافعون عن الزيدي اتحدى ان كانو سعوديين الاصل يا مجنسين يا حوثيين من جماعة السنتوره اقول اهجد انت واياه',\n",
       " 'إذا الشمس غرقت في بحر الغمام ومدت على الدنيا موجة ظلام ومات البصر ف العيون والبصاير وغاب الطريق ف الخطوط والدواير يا ساير يا داير يا أبو المفهومية مفيش لك دليل غير عيون الكلام',\n",
       " 'فيديو يا خالي يا حبيبي مستحوذ على مخي ',\n",
       " 'rt @user: يا جعل ما يفرح غيركم يا شعب الاتحاد العظيم يا جمهور الذهب يا أجمل جمهور على وجه الأرض عقبال فرحة البقاء و كاس الملك',\n",
       " '@user @user لا سبحان حسيت من أسلوبك انه فيك جهل ، مع انه نقاش عادي لكن تكرر انه حنا و حنا تكلم عن نفسك يا شطور يا فاهم و تحب تخفي نقصك بأنك تقول للي مايعجبك انت و انت ، يلا دحدر',\n",
       " '#ياررب_افرج_همومنا<lf>يا كريم اللهم يا ذا الرحمة الواسعة يا مطلعاً على السرائر والضمائر والهواجس والخواطرلا يعزب عنك شيء، أسألك فيضة من فيضان فضلك، وقبضة من نور سلطانك وأنساً وفرجاً من بحر كرمك أنت بيدك الأمر كله ومقاليد كلّ شيء، فهب لنا ما تقر به أعيننا، وتغنينا عن سؤال غيرك',\n",
       " 'الكونتور دا اللي أعرفه عنه يعني وممكن أكون بفتي عادي<lf>إنه منتج بيبقى غامق عن لون بشرتك عشان لو عايزة تظبطي ديفوها… — مش عارفين كنا هنعمل ايه من غير الmake up tips بتاعتك يا آلاء  أهي يا انون الاء جابت كل حاجه  url',\n",
       " 'يا أنتِ<lf>يا عينيَّ يا أنشودتي<lf>يا بيتَ شِعرٍ ليس يعرفُ قائلُهْ',\n",
       " '@user يا سهام يا سهام والنبي انت اللي قمر ',\n",
       " 'اختار الحل الصعب .. يا تفارق .. يا تحبّ ؟',\n",
       " '@user @user يا حبيبي يا سوار يا نور العين و في القوووووووووووول',\n",
       " 'rt @user: #newprofilepic+<lf>بكام يا عيون يا واسعة ونا اشتريكي url',\n",
       " '@user ياريت يا دكتور ايمن يا اخي و حبيبي في الله<lf>تفوّق قيادات، الاخوان و تقولهم كفاية كدة حرام عليكم <lf>الناس ادمرت بكل ما تحمله الكلمة من معني<lf>نفسيا و ماديا و عضويا ووووووو، الخ<lf>قولهم يتحدوا و يكونوا البادئين بالدعوة لوحدة كل الصفوف<lf>و ا',\n",
       " 'ويقول فرعون الشعر ناصر:<lf>دثريني يا منيرة زمِّليني يا منيرة<lf>يا منيرة في فؤادي فرخ عبد طق زيره<lf>من هنوف صوبها راع الهوى يشعب بعيره<lf>سيدة سادات قوم سادةٌ أبناء سـادة!<lf>من بهاها يا منيرة ويش اوصّف ويش اخلّي<lf>في جبين الطهر منها بدر سبتيـن متجلـي!',\n",
       " 'من تسولف بس اردد... يا سلام <lf> يا سلام وحاضر وتم... واكيد',\n",
       " 'عشان بس تعرفوا الفرق بين رابر عامل حفلة و واحد تانى. عامل ندوة بيقول شعر فيها<lf>مش هقول على اسمك يا احمد يا ناصر  url',\n",
       " 'يا لئيم يا لئيم يا لئيم ...<lf>@user @user<lf> #بيت_الكل',\n",
       " 'أمّيَ يا ملاكي يا حبّيَ الباقي إلى الأبد.',\n",
       " 'rt @user: #غرامات_قطار_الغلابة<lf>يا رب تفهم يا سيسي <lf>معنت ارحل <lf> أمشي <lf> غوررررررر <lf> فى دهيا',\n",
       " 'بليتني يا خشير الروح يا ويش ربي بلاني بك :(',\n",
       " 'rt @user: الى متى ؟ يا مجلس الفلس يا حكومة الفلس مافيكم رجل هز طوله عشان هل حالات الانسانيه بس فالحين تضحكون بالقاعه و تخلصون معاملات…',\n",
       " '#كاس_زايد_للانديه_الابطال<lf>تكفى يا عقيد يا اسطوره ويا عويس وسلمان وسعيد ومهند و فتاح وحسين تردو ع هالتغريده وتقولو جبناهااا مرجله ثقتنا فيكم و انتو قدها<lf> @user @user @user @user @user @user @user url',\n",
       " '@user @user يا رجال الهلال يا اصحاب القرار سالم او غيره من الاعبين لايغادرون النادي',\n",
       " '@user هههههه عاملة دايت وميتة من الجوع، يا بنام يا بقوم بخرب كلشي ',\n",
       " 'rt @user: يا ولد يا صالح يا جمعه يا كبير',\n",
       " 'بنت أكابر مين يا أصالة يا أختي دي بنت كلب و شيواوا كمان  url',\n",
       " 'يا يا يا يا تريكة <lf>انا فرحان بالصورة دي اوووي <lf>@user  url',\n",
       " 'rt @user: يا شّمسَ يومي يا مُنور صباحي..',\n",
       " 'يا بعيد بالمسافة، يا قريب بالشعور<lf>انا كل اللي اخافه، بعدنا يطول شهور',\n",
       " 'وبحبك يا زمالك يا اعظم كيان ومهما يقولوا هفضل احبك ويولعوا بجاز يارب الي يقولوا كلمه وحشه عليك',\n",
       " '@user @user @user يا جوعان يا ويلكم منا لا زملنا .. <lf>ولا تهقا وقعاتنا ماهي شنيعة .. <lf>لا جهلنا وخروا عنا لاجهلنا ..<lf>مكتوب لأعدانا الذل والهزيعة ..',\n",
       " '@user انت اسطوره حراس المرمي وزعلنا امس انك مش موجود بالقرعة والله مهما حصل فأنت كنت حتشرفهم امبارح وقت القرعة يا حضري يا كابتن المنتخب وصاحب الرقم القياسي لك الله🦅🦅🦅',\n",
       " 'هدوء استغل اخطاء خصمك تكفى يا نصر فز تكفى ان العاهرات سيرقصون على سقوطك تكفى يا نصر تكفى يا نصر تكفى #الاتحاد_النصر',\n",
       " 'يا غند يا كل الدلع يا مكس من بدو وحضر. url',\n",
       " 'شغلة وحيدة عجبتني بمحمد بن سلمان لما سجن أصحاب الأموال و هددهم يا الموت يا التخلّي عن مبالغ حددها لهم و إن شاء الله يجي شي قائد عسكري بلبنان شريف او غير شريف المهم يسجن هل بوطة السياسية الحرامية و يدفّعهم دين لبنان رغماً عن أنوفهم أو اعدامهم مع كل من يستفيد من عوائلهم',\n",
       " '@user يا شمس يا شمس لا لا لا تغيبي',\n",
       " '@user يا ريحة الـورد يا روح الغلا كله<lf>تعال عانق سماي بعطر أنفاسك<lf>في طلتك فز قلبي واهتنى جوه<lf>رقص نبضه وزان الشعر بحضورك',\n",
       " 'يا بوتشيتنيو يا أبهة إيه العظمة دي كلها <lf>يا بوتشيتنيو يا أبهة إيه العظمة دي كلها يا بوتشيتنيو يا أبهة إيه العظمة دي كلها يا بوتشيتنيو يا أبهة إيه العظمة دي كلها يا بوتشيتنيو يا أبهة إيه العظمة دي كلها يا بوتشيتنيو يا أبهة إيه العظمة دي كلها url',\n",
       " '@user @user يا دحابشه يا كرام ...<lf>الجنوب انسوه ,<lf>انتبهوا على بلادكم لا احد فى الجنوب مهتم باليمن <lf>ههههه<lf>انظروا ماذا كان لديكم قبل  وقارنوه بما اذا لديكم شئ اصلا الان ؟',\n",
       " 'الصالح يا الصالح يا قمح البليوني<lf>بن صالح قريبا ونبدأ مرحلة جديدة',\n",
       " '@user لعنة الله عليك يا زنديق يا كافر ولله لو اتيتك لا فجرت راسك الفارغ',\n",
       " 'يا شمس يا شموسة يا حِلوة يا عروسة ',\n",
       " '@user بعدين تطلقتوا ومشت حياتك وخلصتي تقعدين تتكلمين عنه ليه؟ ليه يا **** يا بنت ال***.. صدق والله يعجز اللسان عن الكلام.. ما تدري هو انت تسبها هو اصلا يكفيها السب ولا لا ما تدري انت تدعي عليها.. لكن ما نقول الا حسبي الله ونعم الوكيل...',\n",
       " 'rt @user: يا عسيري يا جججججججزززممممه انت عارفف ان حمدالله جزمه مثلك و دراما خل وجهه و اكسر رجله ',\n",
       " 'rt @user: لله الحمد من قبل ومن بعد<lf>تم جمع دية #شروق_المطيرى <lf>كفو يا حمران النواظر<lf>كفو يا بني عمي<lf>والشكر لكل من شارك بدفع الديه او من…',\n",
       " 'اللهم يا مجير المستضعفين و يا غافر للتائبين ..<lf>اللهم أجرنا من نيرانك و ادخلنا فسيح جناتك ..<lf>وامتع نظائرنا بوجهك الكريم يا الله ..',\n",
       " '@user بتبص فتليفون غيرك يا سنجل يا بائس ده حتى عيب *الرساله دى ليك مش ليها* ',\n",
       " 'الانسان عاوز يا امه يا ابوه ويفضل يعيط بس ف حضنهم ومحدش يقوله فيهم مالك عشان مالك دي بتزود وجع القولون أضعاف أضعاف الوجع، عشان احنا لو نعرف مالنا كُنا سهلنا ع نفسنا وجاوبنا ع كل الاسئله دي!',\n",
       " '#وش_يقول_الليل<lf>يا حبيبي .. الليل وسماه ..<lf>ونجومه وقمره .. قمره وسهره<lf>وإنت وأنا.. يا حبيبي أنا .. يا حياتي أنا..<lf>كلنا .. كلنا.. في الحب سوا ..<lf>مع (عظمة على عظمة على عظمة على عظمة ياست) الشهيرة <lf>#kimo url',\n",
       " 'rt @user: يا أجمل صباحاتي يا أحلى إشراقاتي<lf>الصباح جميل بطبعه لكنه بإشراقتك أجمل<lf>صباح الحب له<lf>صباح السعادة لقلوبكم url…',\n",
       " '@user @user ان شاء الله ربنا يخليكى وتبقو انتو اول ناس حواليا .. ربنا يسعدكو يا ياسمين يا رب ويوفقكو ويكرمكو ',\n",
       " 'rt @user: @user يا أجمل قصيّدي يا أعذب الحُب ومُناي.',\n",
       " 'محكوم علي اني مااقابل احد من مواليد ٩٤ <lf>كل ما اصادق احد يا اصغر مني يا اكبر وين اللي بعمري اين انتم يا رفاقي شاركوني فأنا وحيده ',\n",
       " 'اللهم قلوبنا وما فيها بين يديك ومهما عجزنا عن بث شكوانا وحدك تعلم خفايانا فاجبرنا بما يليق بكرمك وعفوك يا كريم اللهم يا مقلب القلوب ثبت قلوبنا على دينك .',\n",
       " 'يا اجمل الأقدار يا احلى عطيّه ',\n",
       " '@user كل قطر الإرهابية أخذهم الله أخذ عزيز مقتدر كلاب ولاد كلب خرفان انتوا مالكم ومال مصر ياخنازير يا شياطين الإنس والجن أنتم جزم يا قطر يا عبيد لإسرائيل وتركيا وإيران كلكم مخنثين مثليين ومن قوم لوط زى تميم الكلب إبن الكلب أخذكم الله أخذ عزيز م',\n",
       " 'يا عطر الشوق يا ملح وذوق يا نور الشمس يا صوت الهمس يسعد مساك وبس url',\n",
       " '@user هبد ايه يا شرف يا حبيبي روح يا شرف شوف لزقة صلاح',\n",
       " '@user عيونك هيا اللى حلوه يا ايه تسلميلى يا قلبى ',\n",
       " '@user التعثر لن يأتى الا من الغير متوقع يا بيرنلي يا برايتون السيتي هيكسب توتنهام واليونايتد عادي جدا',\n",
       " 'rt @user: قلبى يا طير مروًح يا مروًح فى الغروب .. يا غريب عن الصـحاب و غريب عن الدروب.',\n",
       " 'سالفة ان عقد فيصل زايد ضاع بايخه جداً يا اهل الجهراء يا جمعية عمومية <lf>@user <lf>@user',\n",
       " '@user وانتي طيبه يا ميرنا يا قمر انتي يا كيووته',\n",
       " '١١ مقاتل في أرض الميدان العب وحارب عشان الكيان <lf>هنعدي وراك بحور ونقولها بأعلي صوت<lf>الليلة يا المكســـــــــب يا المــــــــــوت<lf>الليلة يا المكســـــــــب يا المــــــــــوت <lf>#الزمالك',\n",
       " 'طيب انا لو ف الملعب (من الحداشر يعني) وسمعت الجمهور بيقول ولا يا ولاااا يا زمالكااااااااوي هسيب الملعب واتحزم وارقص ',\n",
       " '@user @user @user من غير سكور يا مسعد يا حبيبي انا بقولها لنفسي كل يوم الصبح get a life ',\n",
       " '@user <lf>والله مافي حدا بجيب لكم حق بالسمر <lf>غير المغرد العالمي شارلوك صاحب مقولة <lf>والله لا نروح اكتاف،،<lf>ومن وراكي يا نشميه يا ام رح تتطبق علينا <lf>المقوله ،،، url',\n",
       " '@user @user صولا صباح الخير يا أطيب قلب يا #بنت_أكابر 🥀🥀🥀🥀',\n",
       " '@user يا رونى يا قلبى حبيبتى والله تسلميلى ',\n",
       " 'فيه فرق انك تعاتب على غلطة وتعاتب على طبع .. الغلطة سهلة ممكن متتكررش ..بس الطبع مبيتغيرش يا تقبله يا تمشى لأن العتاب هنا ملوش قيمة.. وبيبقى قلة قيمة ..',\n",
       " 'يا سمر يا سمارة دوبت دوب يا عيون قدارة ع القلوب ، أقرب شعب لينا احنا كـ أسوانية بالأخص يعني والله . url',\n",
       " 'لما اختم التغريده بأسمك وقتها تقدر تقول اني اقصدك يا حديث المجتمع يا كل اهتماماتي ياتبن.',\n",
       " '@user @user تسلم يا مؤ يا حامي الدار ',\n",
       " 'يا ضيق هذي الدنيا يا مقساها ..',\n",
       " '@user مبروووك يا احلى صولا  يا بنت الأكابر يا حبيبة قلبي',\n",
       " '@user @user اون كه بشينه رو تخت عالي ميشه  <lf>يا اون يا سانسا يا ترييون',\n",
       " '@user تسلم يا ابو خالد يا ملكي حنا معك في السراء والضراء<lf>أجلد ولا يهمك ',\n",
       " '@user حبيبي يا هيكل يا صاحبي و انت طيب ',\n",
       " 'rt @user: @user ما شاء الله تبارك الله عساك عالقوة يا منجزة و للأفضل يا رب',\n",
       " '@user من خسارة النصر البارح اختفت اصوات من تشكك في نزاهة الدوري وانتقادات خليل جلال نظلمهم يا نتصدر يا نخرب ونشكك في نزاهة الدوري عجب عجاب',\n",
       " '@user الحلقة زى الفل يا باشا و يا ريت تكمل على كده و لو فيه اقتراح يبقى تنظيم الأفكار عشان متغفلش عن نقطة او حاجة ',\n",
       " 'كس امك يا اهلاوي يا اللي كنت مستنينا نطلع زيك يا ابو خمسة يا مفضوح يا معرص!!<lf>احنا الزمالك يا كس امك!! url',\n",
       " '@user السلام عليكم اخي عبد الله انا اخوك مهدي من فلسطين وبتمنى حدا يعيرني انتباه لأني اقسم بالله صرت باعت لأكثر من الف شخص ولا واحد ساعدنيً مشان الله يا اهل الخير حدا يفرجلي همي ويساعدني والأهداف العظيم محتاج تعبت يا ناس وينكم عني يا ناس سايق عليك',\n",
       " 'يا محمد بن فيصل يا ادمي انت تفهم<lf>كوره ولا ما تفهم !؟ مدرب قاعد يطقطق<lf>عليك ينتظرك تقيله ياخي اطرده مانييه<lf>الفريق سيء معه ويمكن نطلع بدون<lf>بطولات والسبب هو وقتها والله العظيم<lf>الجمهور ما يعرف الا انت .. فريق قوي<lf>يدربه مدرب سباك جعل من #الهلال<lf>فريق هش كل خصم يقدر يهزمه !<lf>@user',\n",
       " 'يا كون يا وسيع يا فسيح كيف ضقت بنا الى هذا الحد ؟',\n",
       " 'rt @user: يا كل حاجه يا ولا حاجه  url',\n",
       " '@user يا اهل اليمن يا اصحاب التاريخ والعزة والشرف اهذا يرضيكم ان تعبث جماعات العار والدنائة من يسمون انفسهم دولةالامارات بارضكم وتتحكم بمصيركم',\n",
       " 'يا ذا البطش الشديد، يا ذا العز المنيع، يا ذا الجاه الرفيع، يا خير الغافرين، يا خير الرازقين، يا خير الفاصلين، يا خير المنعمين، يا خير الناصرين، يا أحكم الحاكمين، يا أسرع الحاسبين، يا أرحم الراحمين، يا وارث الأرض ومن عليها وأنت خير الوارثين...).',\n",
       " 'rt @user: يا ويلكم يا المعلمات اذا سويتوا قروبات واتسب .. خاصة 🤣 url',\n",
       " '@user هو خلي يكون عندي دماغ اول بعدين قولي يا جلف يا تنس يا بلياردو وهكذا',\n",
       " '@user هذي ف الاسيويه يا قافط يا ابو تاريخ امسح الله يجزاك خير',\n",
       " 'rt @user: #حاصر_حصارك_وانتصر<lf>بكم ننتصر.. بكم يُدحض العدو.. بكم يا قادة يا كرام سوف يتحقق أمل المستضعفين حتى يأتي فرج الله الأكبر عجّل…',\n",
       " '@user طب لو مِقلّمة مش سادة بتتشرب ايه يا ابو عبده يا رايق ',\n",
       " 'يا بتكون لئلي، يا لغيري ماراح بتكون',\n",
       " 'دعاء سيدنا يوسف في الجب <lf>اللهم يا مؤنس كل غريب ويا صاحب كل وحيد ويا ملجأ كل خائف ويا كاشف كل كربه يا عالم كل نجوي ويا منتهي كل شكوي يا حاضر كل ملأ يا حي يا قيوم اسألك ان تقذف رجاء في قلبي حتي لا يكون لي هم ولا شغل غيرك وأن تجعل لي من امري فرجا ومخرجا إنك علي كل شئ قدير',\n",
       " 'اقترب رمضان<lf>يا تاركي الصلاة يا شاربي الخمر يا انصار شبيبة القبائل توبو الى الله.ً...',\n",
       " '@user خلاص يالزاحف يا ابو رغد الرغدين يا متعب ابو ظهر يالدرباويه اللي ما مثلكم احد ',\n",
       " 'rt @user: @user @user عيوني احنا عندنا كام ايه سجل يا تاريخ اكتب يا زمان ايه انهارده في قمة انبسطها وربنا يدمها…',\n",
       " 'انا هسميه ملبن وهربيه هيبقا بتاعي انا تعلالي يا ملبن تعالي يا ملظلظ تعلالي يا قمري يا قمري تعالي ',\n",
       " '@user ما تروحش تنيك مك يا ولد القحبة يا المروكي النقش الجزاىري يبقى سيدك حتى ممات انا ابن الحدود ونعرفكم مليح ومليح تهابون كل ماهو جزاىري انت في بلدك كلمة ماوتقدر تنطقها ولا حتى تتنفس تجي للمواقع تحل تراميك',\n",
       " '@user مبروك لجماهير الاتحاد العميد المونديالي من الملعب. وهردلك يا منبطح يا جبان لصغير الرياض. اطلع منها الاتحاد اشرف منك.',\n",
       " 'اللهم ارزقنا ما نريد و ارزق قلوبنا ما تريد و اجعلنا لك كما تريد<lf>اللهم قدر لنا ذلك قبل أن تأذن شمس الجمعة بالغروب يا أرحم الراحمين<lf>اللهم يا من أمره بين الكاف و النون اللهم أسعدنا بساعات هذا اليوم المبارك<lf>و وسع رزقنا و ألهمنا ذكرك و احفظ ديننا و أيدنا بنصرك و ارض عنا وأدخلنا جنتك',\n",
       " 'يا حزن سلمان يا مكابر ،،،،ال شريد؟<lf>ياحب البدر و يزيد الي اشوفه فيني.',\n",
       " 'يا زمالك يا عمهم يا حارق دمهم ',\n",
       " 'يوم الجمعة عند العالم كله اموره طيبه وجو سمح الا عندنا يا عجاج يا ريح يا في حاجه غلط . <lf>فهمونا نحنا الكفار ولا هما',\n",
       " '@user الللللااااااااه يا نعنع يا فنككك ياشيخة ',\n",
       " '@user يا ثقل دمك يا بزر و مدري ليش داخله بنقاشك الطفولي ذا .. استح على وجهك و احترم غيرك ولا تعايرهم و أنت تسوي الأسوأ منهم و اذلف يلا لا عاد تمنشن',\n",
       " 'اه يا معرضين يا ولاد المت.... #اطمن_انت_مش_لوحدك url',\n",
       " 'يا لها من مباراة يا الانجليز ',\n",
       " 'يا كثرك بفكري و يا زين طاريّك..',\n",
       " '@user الله عليك يا عم حسين يا شربيني ',\n",
       " 'يا عممرريي يا ميسي و بس <lf>#برشلونة_مانشستر_يونايتد',\n",
       " 'يا ناسي يا كوني يا هلي ',\n",
       " 'rt @user: @user والله يا أنت مسخرة يا #نايفكو  وحتى وصف #ليبرالي على قبحه حسافه يطلق على مثلك ههههه<lf>فلوكنت تعرف الدين عرفت إن هذا ل…',\n",
       " 'مره كان عندى بيشنت وقولتلها يا طنط وهووب هووب هووب لحقت نفسى وقولتلها حضرتك يا ست الكُل يا فاندم لحقت وشها قبل ما يقلب url',\n",
       " 'يا كمال الجمال و يا جمال الكمال',\n",
       " 'rt @user: @user <lf>هلا بالكادي:<lf><lf>يا التوت يا تمر الغلا يا السمسم<lf>يا راهبة يا مرهبة يا اسطورة<lf>لمن ذكرتك و الغلا قدامي<lf>اسمك بصدري يحتفل…',\n",
       " '@user وانتي طيبه يا دكتوره ربنا يخليكي يا رب ويبارك فيكي',\n",
       " 'rt @user: في اسوء موسم للهلال تخسى تاخذ الدوري منه يا وضيع الرياض يا اغبى نادي شفته في حياتي',\n",
       " 'لما تشوفها تانى يوم بعد funday <lf>-اذيك يا نحمدو يا رقاصه  url',\n",
       " 'rt @user: ومن هذا المنبر يا أحباب أحب أقولكم وأذكركم .. إنت يا عزيزي وإنتي يا عزيزتي مو مجبورين إنكم تصححون تفكير كل إنسان تصادفونه بالح…',\n",
       " 'اللهم صل و سلم و بارك عليك يا سيدي و حبيبي يا رسول الله في الأولين و في الأخرين و في الملاء الأعلي إلي يوم الدين <lf>صلاة لا تعد مقبولة لا ترد و لا يحصي عددها أحد إلا الله الواحد الأحد',\n",
       " '@user @user صباح الورد يا ابو مينا يا غالى<lf>',\n",
       " 'ايه يا شتا يا حبى مش خلاص كدة.',\n",
       " 'يا سارقني يا كافيني<lf>يا ماخذ روحي وفكري',\n",
       " '@user هفف يا لهو يا شريرر سوف اهزمك اقسم',\n",
       " 'من ساعة ما رجعت من الكليه امبارح وانا نايمه ومش فاهمه ليه معنديش وسط يا انام طول الوقت يا يبقى عندي ارق ومنامش!',\n",
       " '@user @user تطلع أيه أينا دي يا باز يا فندي  url',\n",
       " '@user @user دى شرعية امك يا روح امك يا  بلوك يا ارهابى',\n",
       " 'أخي يا عزوتي .. يا ضحكتي وبكاي',\n",
       " 'الحمدلله يارب على كل حال<lf>مبروووك يا حبي يا مزاجي يا إتحاد..<lf>#الاتحاد_النصر',\n",
       " 'rt @user: @user @user يوم الاثنين ليس كفايه حضور جمهور كبير انا أريدها تفجير يا الفوز والنصر يا محد يخرج من الجوهرة…',\n",
       " 'ما هو يا هي كوزة يا عملو الحساب دا كيزان عشان يورهم انك تبعهم و كلو تمام url',\n",
       " '@user @user وانتي طيبه يا سمر يا رب <lf>احلا كيك بقي ',\n",
       " 'يا رب يا قادر يا كريم يكون شكلي جذي وانا في عمرها url',\n",
       " 'يمثل تحفة الفن والعمارة القوطية ويعد من المعالم التاريخية في فرنسا وذكرت في رواية أحدب نوتردام ويعود تاريخ المبنى إلى العصور الوسطى إستغرق بنائهُ  عام وحرق في ساعات<lf>(وش تستفيد من هذا يا مصلح انت وهيله يامتسامحين يا منبطحين يا امة ضحكت من جهلها الأمم) <lf>#كاتدراييه_نوتردام',\n",
       " 'كل سنه وانت طيب يا أسر يا قلب مها  — وانت طيب ي انون url',\n",
       " 'لا كلام ولا سلام يا ولد عمي يا عبد السلام',\n",
       " 'سعد بقير لسه مسجل جولين احسن من بعض صواريييخ،شايف يا ناصر يا ماهر يابن المتناكة',\n",
       " '@user اللهم اشفه شفاءً ليس بعده سقم ابداً، اللهم خذ بيده، اللهمّ احرسه بعينك التي لا\\xa0 تنام ، واكفه بركنك الذي لا يرام ، واحفظه بعزك الذي لا يضام ، واكلأه في الليل والنهار ، وارحمه بقدرتك عليه ، وارحمه بقدرتك عليه ، أنت ثقته ورجاؤه ، ياكاشف الهم ، يا م',\n",
       " 'يا نجومي يا نهاري يا سماي انطقي بالحب ودي اسمعك',\n",
       " 'لا تقول يا صبري ولا تقول يا قوي<lf>هذي من الله ولا انا ولا حاجه.',\n",
       " 'هاجمتوا دلوقتي يا فرقه وسخه<lf>دلوقتي يا سرسجي يا ابن الشمامه<lf>يارب تتغلبوا ',\n",
       " '@user @user @user ههههههه الشعب المسعود يعيش ع نعمه<lf>تكذب يا المنافق يا دجال ع بالك نحنا عايشن في كوكب آخر<lf>كانو ما نعرف الشعب المستعود مغلوب ع امره',\n",
       " 'rt @user: #يا_رب #يا_كريم الصبر يا عظيم المن يا كثير الخير يا قديم الفضل..<lf>#أبواب_السماء<lf>#ابتهالات <lf>#دبي_زمان<lf>#أرشيف_زمان<lf>@user…',\n",
       " 'فوائد الخمر:<lf>ينظف المعدة<lf>ويزيل حب الشباب<lf>ويقتل الجراثيم<lf>ويحرق الدهون<lf>ويحرقك بقبرك<lf>ويحرقك بجهنم <lf>يا سكير يا نكير يا عدو الله<lf>هههههههههههههههههه',\n",
       " '@user يا ضميري يا حبيبي ذاكر هانت url',\n",
       " 'يا من أظهر الجميل و ستر القبيح يا من لا يؤاخذ بالجريرة و لا يهتك الستر يا عظيم العفو يا حسن التجاوز يا واسع المغفرة يا باسط اليدين بالرحمة يا صاحب كل نجوى و يا منتهي كل شكوى يا كريم الصفح يا عظيم المن يا مبتدأ النعم قبل إستحقاقها يا ربنا و يا مولانا و يا غاية رغبتنا ارحمنا url',\n",
       " '@user يا بري حالي يا مرابط واااااهخ بس ',\n",
       " 'كل حاجة في اخرها بتكون تقيلة مملة و فاقد الشغف فيها لو ماشي علي نفس الخطوات فيها .... اخر ساعتين في الشغل ... المذاكرة .... العلاقات بمختلف انواعها .... الحوارات ... اللي بتعمله في يومك... الخروجة لازم يا نفصل يا نكسر الرتم بطريقة مختلفة',\n",
       " '@user الانتحار هو ليس الحل الوحيد فيه شي اسمه المواجه يا تخسر يا تربح وهذا لا يعتبر ان تنهي حياتك عشان الهزيمه',\n",
       " 'rt @user: الف سلامه عليك يا فير يا ابن الكيان وترجع احسن من الأول يا مايسترو  @user',\n",
       " '@user @user والله اللي يقرا كلامك يقول بلدك العراق كله غابات وثلوج<lf>العراق كله صحراء ولولا النفط ما كان عشت يا عراقي يا اعرابي يا حافي يا عاري',\n",
       " 'خيرها في غيرها بمشيئة الله <lf>معاك يا اهلي <lf>معاك يا خطيب <lf>#جمهوركم_معاكم',\n",
       " 'إلى وسادتى <lf>حيث تعالت صيحاتها.اين أنت يا خليلى؟ <lf>فأجبتها هاأنا ذا يا خليلتى يا مؤنسة وحشتى ورفيقة دربى <lf>تصبحون على ما تتمنون',\n",
       " 'في ناس الواحد بيشوفهم ف عينه بالظبط زي ما قالت صفاء ابو السعود : آه منك يا صابونة يا شقية و مجنونة..بتقلي و تقلي لما هتبقي مللي..',\n",
       " 'الف مبروك ال٢مليون بيومين مش بس هيك لا كمان تريند٣ بالعراق يا هيك النجاح يا بلا نشالله دايمن النجاح رفيق دربك #نجوى_كرم @user @user #ملعون_ابو_العشق url',\n",
       " '@user يلعن دي* امك يا متناك يا ابن المتناكه يا عرص',\n",
       " 'rt @user: يا الناس تسد النفس يا انا نفسيه',\n",
       " '@user يا الله حسن الخاتمه يا حسين يا اخي ما تفك الناس من شرك',\n",
       " '@user يلي يا بواب يا معرض يا بتاع الرز يا شوال ههههههههههه',\n",
       " 'rt @user: الجيش الليبي ضد المليشيات ومايقصفش المدانيين يا ليبيين يا اغبياء ايديرولكم في سيناريو بنغازي هذوم زيهم زي الدواعش الي كان…',\n",
       " 'يا اني يا المذاكرة مصخت خلاص(:',\n",
       " 'اللهم افرش لنا دربا من نور،، واجعل وجوهنا دائما في سرور،، واملأ قلوبنا بذكرك يا غفور،، وتقبل دعاءنا يا شكور ،،<lf>واجعل لنا الصراط سهلا للعبور ،، اللهم أسقط الدنيا من قلوبنا،،واجعل<lf>التقوى زاد دروبنا،، ونور بالقرآن صدورنا،، <lf>اللهم اشفي مافي الصدور ورحم من في القبور',\n",
       " '@user يا هيك الصباحات يا بلا...<lf>يا قلبي لا تتعب قلبك',\n",
       " 'rt @user: الحمدلله الذي جعل حظّنا من الأنبياء : محمد بن عبدالله  ؛  صلوا عليه وسلموا تسليمًا .<lf>• يا سيد الخلق يا من حاز مرتبةً<lf>عليا وق…',\n",
       " '@user بكره يا جالده يا مجلوده واتوقع الثانيه',\n",
       " 'أحب الاهداءات اللي من هالنوع  هو يا شاورما يا تيراميسو  يا فاهـمني  url',\n",
       " '@user يا عم براحتك يا عم!<lf>انا قبل ما اتفرج عليها اصلا كنت عارف ايه اللي هيحصل بتخلي طعمها احلى ',\n",
       " 'حيرتونا يا شعب يا سوداني يا عظيم <lf>في الاول قلنا شفاتة بس <lf>شوية وقلنا جياشة بس <lf>هسي مافي تتنازل عطبراوي بس',\n",
       " 'rt @user: #اسماعيلي_هيفوت_للمختلط ولا يا و لا يا منجاوي .. على التفويت انا ناوي url',\n",
       " 'كراشي يا كراشي يا كراشي  اخبارك ايه يا فراشتي 🦋 — الحمدلله يا انون انت عامل ايه url',\n",
       " 'يا صباح الحلويات يا يونس<lf><lf>#صباحك_بيضحك_مع_يونس',\n",
       " '@user يا صباح الحب و صباح النجاح و صباح التالق يا مديره و يا قديره يلي ب زمن قياسي تخطيتي رقم قياسي ٣ مليون مشاهده ب ٣ ايام هيدي العمله ما بيعملها الا الاساطير url',\n",
       " 'يا الله يا شروق .. أسعدك الله سعادة الدارين كما أبكيتني وهززت مشاعري فرحًا بهذه الدعوة .. يا رب ولها بالمثل وأعظم وجميع المسلمين  url',\n",
       " 'rt @user: _____ يا أنا يا أنا يا أنا.* url',\n",
       " 'يا لون وجهي يا ارتباك ملامحي<lf>يا ضوء ذاكرتي اذا أمسي أفل',\n",
       " 'يا ولد يا انس يا ولد',\n",
       " '@user كرشي يا كرشي يا اللي عليك انا بصرف قرشي',\n",
       " 'يا ليالي الأبطال يا أحلى الليالي ',\n",
       " '@user انت سافل وحقير<lf>ايش دخل الاسره بالحزب<lf>انت تحقد على اسرة الزعيم يا ناقص يا سفيه<lf>جالس من ٢٠١١ وانت تهلوس مثل النسوان<lf>اتفوه على وجهك يا شحات',\n",
       " '@user يلاااا يا حمار يا غبي يا غبي يا ابله ',\n",
       " 'التفاهة هذي مستحيل تمتهي بين الشراقة والغرابة<lf>استمروا يا تافهين يا شركاء الوطن url',\n",
       " 'rt @user: يا ودود يا كريم يا جبّار السماوات والأرض يا هادي القلوب اهدي قلبي، يا مغيث أغثني يا مغيث أغثني يا مغيث أغثني.',\n",
       " '@user اللهم آمين يا بعد روحي يا الجميلة ',\n",
       " 'اللهم يا عظيم السلطان ، يا قديم الإحسان\\xa0<lf>يا دائم النعماء ، يا باسط الرزق ، يا كثير الخيرات\\xa0<lf>يا واسع العطاء ، يا دافع البلاء ، يا سامع الدعاء\\xa0<lf>يا حاضراً ليس بغائب ، يا موجوداً عند الشدائد\\xa0<lf>يا خفي اللطف ، يا حليماً لا يعجل\\xa0<lf>اللهم الطف بنا في تيسير كل أمر عسير ',\n",
       " 'يا اخونا يا اخونا  url',\n",
       " '@user وأنهى كنز.. دا يا حظه يا هناه <lf>انا عايزة زيارة تعارف قريب بقى عايزين نقرأ الفاتحة',\n",
       " 'يا مهبلني ومهبلهم يا مجنني ومجننهم يا ليوو',\n",
       " '@user @user @user باشي يا بحر المفهوميه يا ترعى المعرفه',\n",
       " '@user بركاتك يا لول يا ابن الفقريه ',\n",
       " 'rt @user: اشهد يا زمن واشهد يا تاريخ..<lf>بما قام بة الجنوبيين وكذالك طارق عفاش بتصوير موثق وهم يدفنوا شهدائنا بالشيولات ويمثلوا بج…',\n",
       " 'يا سري الهادي يا حباً ما ينتهي ..',\n",
       " 'اسفففف اسسسففف اسففف لاني تمنيت هبوطكمممم يا كبيييير يا عميييييد <lf>#النصر_الاتحاد',\n",
       " 'بوغبا لا يا زيدان <lf>بوغبا لا يا زيدان<lf>بوغبا لا يا زيدان<lf>بوغبا لا يا زيدان<lf>بوغبا لا يا زيدان<lf>بوغبا لا يا زيدان<lf>بوغبا لا يا زيدان<lf>بوغبا لا يا زيدان<lf>بوغبا لا يا زيدان<lf>بوغبا لا يا زيدان',\n",
       " '- أمي كانت بتجيب لأبويا طشت كبير فيه مايه دافية وتدعك له رجله فيه وتقوله يا سيدي ، يا تاج راسي .. تعرفي تقولي يا سيدي وتاج راسي ؟<lf>= أنا مش أمك .... أنا سنية الوراق<lf>- سنية هانم الوراق ... انتي طالق ',\n",
       " 'rt @user: الأهلي قبل أي حد وأي أسم مهما كان، الأهلي أولا ويأتي البقية .. يا تكون أهلاوي عنصري يا متكنش من الأساس. url…',\n",
       " 'الله عليك يا عمييييد يا كبير الغربية لهم سنين ما فازوا ع النصر بالدوري وخدمونا هالمره صداره غصب غصب غصب ',\n",
       " 'ياالله يا عالـم صــدور المخاليق يا خالـق الـدنيا ورافــع سماها !! ادعيـك ياربي بحسن التوافيق يســر دروبـي لسعادة مناها !! ياالله طلبتك من خفايا المشاهيق تسعد لي الدنيا وتنور ضياها',\n",
       " 'يا غيمتي البيضـَاء ، يا سماي الوسيـّعه . url',\n",
       " '@user @user @user @user @user يا مونديالي يا جعلهم بالعافيه  نادي تقول شخلك هههههههههههههههههههههههههههههههههههههههههههههههه url',\n",
       " 'rt @user: بالنسبة لصورة الخطاب المكتوب ، لو كان حقيقي او كان مفبرك ،  وقوموا إلى ثورتكم يرحمكم الله ، يا جيل يا واعي يا شفت الاعتصام…',\n",
       " 'يا لها من عودة يا جار <lf>النصر في مهب الريح الى الان <lf>كرة القدم سهله و تحب من يحترمها <lf>#الاتحاد_النصر <lf>#النصر_الاتحاد',\n",
       " 'يا قلبك يا محمد  url',\n",
       " 'rt @user: يا هنانا يا سعدنا تونس عندنا والله ',\n",
       " '@user @user يا قذل ايش بك تنطز على المملوح، يعني عندما أدى كلمة حق يا دانق يا ود الدانقه، أيوه أصبح انعقاد جلسة للمجلس ضرب من الخيال بعد أن كان المجلس معزز مكرم في صنعاء يشرع قوانين ويتابع ويراقب سير العمل في السلطة التنفيذية من بعد ثورتكم ا',\n",
       " 'يا حُب عمري ، يا كل شي حوراء تحبه.',\n",
       " 'rt @user: @user @user وانت بخير وصحة وعافية يا رب<lf>آمين يا رب<lf>كل عام واحنا إلى الله أقرب يا رب<lf>منور التويتر لولو url',\n",
       " 'rt @user: يا سيّدي يا مفزعي يا ملجئي<lf>ارحم عبيدا ما لهم من وال<lf>ذلّ الهدى عزّ الضلال فهب لنا<lf>عزّ الهدى وامنن بذلّ ضلال<lf>#mahdisonofhussa…',\n",
       " 'rt @user: يا مشاغبة يا حبيبة الزعتر والدقة<lf>جابت لهم حكة <lf>وركنتهم ركنة<lf>فتداعموا ولم يعرف كل منهم باسوورده ونككه url',\n",
       " '@user يا بدر يا عالي على الاكوان ',\n",
       " '@user @user @user ماقولت لكسمك كسم مرتضي انتوا اللي عاملينه قيمة ولا انت بيب بيب في دي كمان ولا ايه  <lf>الله يباركلوا رؤوف خليف من ساعة ما قال يا ظالم ليك يوم وانتوا بتتناكوا من الكل الحمد لله ولسة يا ولاد القحبه يا بتوع الريمونتاد',\n",
       " '@user @user تف تبا لك أيها الشيوعي الملحد قوم يا عاطل قوم يا شفاتي يا فاسق ',\n",
       " 'يا بجم يا عجم يا سجم يا نجم يا وجم يا هجم',\n",
       " 'rt @user: #ماتش_الاسيوطي_بجمهور يا اما يا #اتحاد_الكوره_المشبوه مقاطعه امم افريقيا وهاتوا بقى شويه جماهير من اللي بيقعدوا اكنهم في…',\n",
       " '@user @user أشوفك ساكت يا ملتزم يا مطوع عن البنت في متجر #العالمي @user <lf>والا الميول والعواطف تغلب على الالتزام 🤣🤣🤣🤣🤣🤣',\n",
       " '@user وع فكرة انا كنت عايز اكتب حبها برص مينفعش تكمل معاه ...<lf>بس عيب عليه اساسا بغض النظر عن تعليقات صحابه هو مينفعش ينزل صورها عيب دي لو اختي كنت هعمل لخطيبها ذي ما بيعمل العريس للعروسه واقوله بطلنا معندناش بنات للجواز يا ديوس يا معرض وأعمل',\n",
       " 'سِلطان حُبي يا ملاك ، يا روحي أتنفس هواك🤑..',\n",
       " '#الاتحاد_النصر اتحاد العراقه والتاريخ والعالمي الحقيقي كيف يهبط يا ناس مبروك يا عميد ....ونقول لك يا فقراوي يا منحط صداررررررررره بسسسسسسسسسسسس',\n",
       " '@user يا نوسو يا نوسو 🤣🤣<lf>لازم يجرب يتحمم ب مي نار ',\n",
       " 'ما أعذبها من كلمات وما أروعها ولطفها<lf> يا حنان يا رحمن يا لطيف يا رب<lf> ليتنى اعرف احب الاسماء اليك لاناجيك بها<lf> فكل اسم هو لك حبيب الى قريب الى قلبى وروحى<lf> الهى<lf> يحبك قلبى يحبك عقلى تحبك روحى',\n",
       " 'rt @user: وحشاني عيونه السودا يا أبويا ومدوبني الحنين يا عين',\n",
       " 'اللهم امين يارب <lf>نصرك ي الله ي رحمان يا رحيم يا حي يا قيوم url',\n",
       " 'rt @user: \"يا عيونها يا عذابي، يا سهادي واغترابي\" url',\n",
       " 'rt @user: @user اللهم آمين يا رب العالمين يا رحمن يا رحيم يا جبار يا متكبر سبحانك ربي وتعاليت عما يشركون .',\n",
       " 'rt @user: يا شهِّي ااصباحات يا باهي الحضور<lf>طلع الصباح قوم واشرق في صباحي<lf>صحيح طلعت الشمس و اشرقت نـور<lf>لگنِّي اعشق ضياك يـوم انت ص…',\n",
       " 'وده سلاح ذو حدين اضطرو يستخدموه لانو لو فشل بضربهم في المقتل ولو نجح بيضربو الثورة في المقتل<lf>بالمختصر كدة يا تصيب يا تجلي وكدة كدة نحن ما خسرانين لانو فقدنا الشعب فالموضوع ما فارق<lf>الاسلوب ال تم استخدامه من قبل الكيزان قبل يوم  دليل كافي انو الناس ديل ما ح يخلوها اخوي اخوك',\n",
       " '@user <lf>د اقبال يا عظيمه يا قويه ارجوك لا تستسلمي ولا تياسي ولا تاثر فيك تغريدات بعض المواطنين التي تدل على الجهل <lf>عملك عظيم ومطالبك كبيره وما يقدر عليها الا المناضلين الاقوياء امثالك <lf>احبك اتمنى لك الرضا والسلام والسعاده دائما ',\n",
       " 'يا حكومة مدنية .. يا ثورة ابدية',\n",
       " '@user يا ناس يا شر كفاية أر  <lf>أول مرة تبقى لجنتي حلوة  <lf>بس على فكرة دي اللجنة الوحيدة اللي بيدي  <lf>الدكتورين التانيين نقصوا الكل<lf>انا اتسألت في ال arrythmia  كأسئلة زيادة ',\n",
       " '@user مبروك يا دوك يا مبدع وعقبال المليون يارب',\n",
       " 'rt @user: @user تسلملي يا احمد ويوفقك يا رب ',\n",
       " 'الله يسعدك يا شجاع يا شامخ يا رمز .. الله يسعدك يا ابو هشام  url',\n",
       " 'يا بو مكه يااا عااااالمي يا تشيلسي يا كبش فداء لفرق الانجليزية',\n",
       " 'يا ذكريات يا كل شتائم الدنيا إنتِ',\n",
       " 'rt @user: سعد زغلول قالها كتيىر قبل كدة..!!<lf>مفيش فايده.. <lf>و لا عايدة و لا زمالگ الى فى المركز يا التانى يا التالت ...!!<lf><lf>#قدها…',\n",
       " '@user بنحبك يا خطيب بنحبك يا خطيب بنحبك يا خطيب طبعاً <lf>معلش حبايبي ممكن متابعة علشان جديد بالله عليكم',\n",
       " 'rt @user: يا شموخ ويا كرامة يا احترامي<lf>لين كفي طاول النجم وجنا<lf>يا سمو ويا طموح ويا التزامي<lf>من عرفتك كل هالعالم فنا<lf>يا فديتك من هنا م…',\n",
       " 'rt @user: يا رب العباد يكمل الشوط الثاني .. يا رب توفيقك .. يا رب ما خاب طلابك ',\n",
       " 'rt @user: حفتر يا محفتر يا ضبع المنكر 🤣🤣🤣🤣🤣🤣🤣🤣🤣🤣🤣🤣🤣🤣🤣🤔🤔🤔<lf>جاك الموت يا قرن الشيطان الرجيم url',\n",
       " '@user كنت بعارض وهم بيعاندوا يا احنا يا انت، وماعافين وكل وسائل الضغط، بقيت غالبا اي شي يقولوه لي بوافقهم،الا لو قلت رائي الحقيقي لي البقيه وفتنوني معاهم،فبعمل من وراهم الشي الشايفاه صح لي وخلاص استغفر الله',\n",
       " 'rt @user: يا مسبب الأسباب يا مفتح الأبواب و يا سامع الأصوات يا مجيب الدعوات يا قاضي الحاجات<lf>اكفني بحلالك عن حرامك و أغنني بفضلك عمن…',\n",
       " '@user كل سنة وانتا طيب يا سكر يا مسكر يا مستسكر ',\n",
       " 'يا نعمتي بهالدنيا، يا أجمل من عرفت.. ',\n",
       " 'rt @user: نسألك يا عاصم من استعصمه، يا مكرم من استكرمه، يا راحم من استرحمه، يا غافر من استغفره، اغفر لوالدي كل شيء وهب له كل شيء ولا تسأله…',\n",
       " 'لو عاوز يونس يكلمك و يصبح عليك يا صبحاوي يا جميل<lf> ابعت رسالة على  قول اسمك ورايح فين و يونس هيكلمك <lf>اسمع يونس من : url<lf>#طلع_النهار_مع_يونس url',\n",
       " '@user @user @user شكلنا البلد دي كلها ح تتصفى ونكون يا شيوعي يا جدادة... هههههه url',\n",
       " '@user يا هشام يا حبيبي يلي سبوك ما بيمثلو الا حالون تاني شي يلي بدو مع يلعبمع البسين ( قطة ) بدو يتحمل خرمشته يلا تعيش وتاكل غيرا بيكونو عميمزحوا معك الشباب بس انا حبيت يلي علقوا ودافعو عنك بتحسون انه هنن يلي اكلو المسبات مقهورين من قلبون ورد',\n",
       " '@user يا عممممري يا اتي مدري وش اقول حسبي الله صرت احبكم ',\n",
       " '@user القصيرة يا حكمة يا فتنة انتي حكمة أكيد',\n",
       " 'يا صاحب السبع سنين يا حبيب قلبي .. يا معنى اللجوء من الحياة إلى الحياة <lf>يا نظري و ظلالي  <lf>@user',\n",
       " 'rt @user: حسبنا الله ونعم الوكيل فيك يا حفتر .واللي دعمك واللي ساندك في الحرب على طرابلس و يا امارات و يا سعودية و يا سيسي حسبنا الله و…',\n",
       " 'rt @user: @user يا محاسن الصدف يا نوف ):.',\n",
       " 'يا رب تكوني بخير يا آنسة والله',\n",
       " 'rt @user: انت يا مسيحى يا زفر يالى عضمك زفر بتحفل على الاهلى وانت ازى بتشجع كوره ومفيش مسيحى بيلعب كوره — مبدئيا مش هارد ع الشتيمة ث…',\n",
       " '@user يا ريت يا نجيب يا سويرس تبعت ليهم البلاك بلوك ولا تعبت عصابة تهرب السولار ولا تبعت نخنوخ يبلطج في السودان لان دة شغلك اللي انت جمعت منة ثروتك البلطجة على الناس والدولة والخيانة اللي انت وامثالك تربو عليها',\n",
       " 'حياتي صارت يا أنطر امتحان يا نتيجة امتحان يا خايفه من امتحان يا قاعده أفكر ادرس شلون للامتحان يا طالعه متضايقه من امتحان خلاص عاد',\n",
       " '@user حبيبي يا مكاوي يا أغني واوسم واحد فينا وقعدتك متتزهقش منها ويا بخت اللي هتنجوزك او هتصاحبك يابني هتتهني هنا مفيش واحدة هتشوفه في حياتها، وبقول تاني اللي عايز رقمه يبعتلي دي ام',\n",
       " 'rt @user: ••<lf>اللهم بلّغنا رمضان بلاغًا ترضى به عنّا و تقبلهُ منّا ، يا حيُّ يا قيّوم .<lf>••',\n",
       " 'ترى ما يفيـد العبـد ركضه ورى دنياه<lf>لياصار ماهو عن طريق الخطا منهي<lf>الا يا الله إني طالبك يا كريــم الجاه<lf>تجاوز خطاي وتبعد النار عن وجهي <lf>#حبك_قديم_ولاجديد',\n",
       " '@user يا وهمية يا متاع نحبت يا دلبي ',\n",
       " 'سَدَّاً مَنيعاً يا وَطَن<lf>صَه يا طَنين البَلبَلة<lf>أبدَاً لِحُكم الفَردِ .. لا<lf>بالدَم لِحُكم الفَردِ .. لا<lf>تَحيا الديموقراطية<lf>كّم نَفديكَ يا مُستَقبَلها<lf>#اعتصام_القيادة_العامة url',\n",
       " 'rt @user: و نحن انقولوا طيران مستر 🥕 حول تاريته جايب أجانب يقصفوله ، الوطن يحامي دوه هله يا عملاء يا جراثيم يا أذناب الإستعمار :)…',\n",
       " '@user يا راجل يا اهبل <lf>الازهر الشريف فين من تصريحاتك المميته دى <lf>الدوله فين منك يا بغيض الوجه<lf>عليك من الله ما تستحق يا نكره',\n",
       " 'نداءات راشد الماجد كلها لك <lf>- يا حبي الأول والأخير <lf>- يا معلمني تفاصيل الهيام <lf>- يا للي تعني لي الكثير <lf>- يا منور الدنيا علي <lf>- يا أجمل شخص أنا شفته<lf>- يا طاغي النظرة<lf>- يا سارق القلب',\n",
       " '#عيشي_يابلادي<lf>يا بوخالد دارنا فـ ايدي امينه<lf>دام بعد الله عليك الاعتمادي<lf>الإمارات ف ذرا بشتك حصينه<lf>عشت يا محمد وعيشي يا بلادي<lf>كلمات: #محمد_بن_طريش<lf>أداء: #صالح_الزهيري<lf>@user <lf>@user @user<lf>url',\n",
       " '@user @user انا لو منك معبرهاش دي عاقة و مش بتيجيي معانا الكلية يا روان يا صحبتي يا قمر',\n",
       " 'صالح يا صالح ادلع يا صالح  url',\n",
       " 'يا تنتهي كل هالمشاعر، يا أنتهي أنا.',\n",
       " '@user أن تنتمي لصديق ما، يعني أن تستطيع سكب نفسك أمامه، تنشطر عدة المرات، ولا يكف عن كونه في كل مرة جذعك وكتف لك وضلع من ضلوعك .. يا راحتي وإرتياحي، يا سِعة قلبي لو يضيق.',\n",
       " '@user @user طاعة رسول الله صلى الله عليه وسلم حيا وميت. ثم يهودي يا مشرك يا قليل ياالفهم قلت لك من قبل لعنة على ال سعود و حكام العرب خدم اليهود وأذناب النصارى .وولي أمري هو الشيخ إبراهيم بن عواد حفظه الله',\n",
       " '@user طيب ترا في ناس م تابعت يا فله يا زاحف يا مختم الزحف انت يووووويه محد قدك يلعن يشيخ سري براسك المربع.',\n",
       " '@user يا داليا يا كلبوبتى و الله انتى اللى جميلة ',\n",
       " 'عيني يا مطراي يا شقى عيني يا مطراي',\n",
       " 'rt @user: المداخلة لا تعليق ... يا خسارة يا فرسان التوحيد من الدعوة إلي الله إلي الدعوة في سبيل حفتر من دون الله <lf>وَمَنْ يُهِنِ ال…',\n",
       " '@user @user @user الدوري يا رجاله الدوري يا أبطال تعبكم طول الموسم انشاء الله هديته هو الدوري والكونفدراليه وبيراميدز بوابتنا للدوري',\n",
       " 'يا ناكرني يا جاحدني .. يا بايع كل أيامي<lf>يا أغلى من سكن فيني .. وظيّع حلمي قدّامي.<lf>وبسرعه دنيا غيّرتك .. وأنا ما أمداني ظيّعتك<lf>أنا آسف تماديتك .. وأخذت شويه من وقتك.<lf>ذكرت وإلا ما ذكرت .. ما شفت في عيونك أنا<lf>حتّى ولا اتأثّرت .. لا لا لحظه هنا !  url',\n",
       " 'rt @user: أقولك يا إيمان ولا يا نانا ولا يا موني <lf>- قولي يا إيمي <lf> url',\n",
       " 'rt @user: بس يا انغام يا لي لحالي او العدم .. url',\n",
       " 'rt @user: الواحد حرفيا بقي يتقبل شويه شويه فكرة لمن ينادوك يا خال او يا عموو <lf>خلاص بقينا ديناصورات',\n",
       " '#الزمالك مالوش ابن في الإعلام غير هيثم فاروق ابن #الزمالك الحقيقي دايما في قلوبنا يا أسطورة يا عظيم  @user url',\n",
       " 'يا ربي يا ربي يا ربي<lf>وأعجب ونفسي مني تعجب',\n",
       " '@user يا كل العمر يا عمري ... يدوب عمري ولا يغلى يا روحي عليك  صباااح الخير ',\n",
       " ' <lf>يا القاعد في بيتك الاعتصام لسه ما انتهى تعال القيادة نحن محتاجنك .... القيادة يا جماعة عشان الاعتصام ودم شهدائنا والمعتقلين لسه الاملهم فينا .<lf>القيادة يا ثورجين<lf>القيادة يا ثورجين <lf>القيادة يا ثورجين <lf>القيادة يا ثورجين <lf>القيادة يا ثورجين url',\n",
       " '@user @user @user ايقاف المخرجة عادل جداااا<lf>بس انت يا عرفات يا اهلاوى ده عادى من ساعة فانلة ازارو<lf>احنا نختلف عن الاخرين<lf>باى باى',\n",
       " 'يا رب يوافق يا رب يوافق يا رب يوافق يا رب يوافق يا رب يوافق .',\n",
       " 'الانتصار ولا غير الانتصار ، يا رب يا رب يا رب يا الله يا لطيف يا أرحم الراحمين ، ثلاث نقاط يا رب ',\n",
       " '@user @user يعني يا نفوز يا انت تخدم الهلال ايش العقليه هذي اعوذ بالله الاتحاد فاز عشان الاتحاد ما يهمنا مين ياخذ الدوري يا رجل اخر  سنين اكثر نادي فاز على الهلال من بين الانديه الاتحاد',\n",
       " 'ماما بتقول لمحمد ( سنين ) ادعي ل رانيا عندها امتحان <lf>قام بكل تلقائية قايل يا رب تنجحي يا رانيا و تتجوزي',\n",
       " 'يا حظ جيمين يا حظ جيمين يا حظ جيمين يا حظ جيمين يا حظ جيمين يا حظ جيمين يا حظ جيمين يا حظ جيمين يا حظ جيمين url',\n",
       " 'rt @user: يا ام الشهداء .. يا وجع المسيح وكل الأنبياء.<lf>#قانا<lf>١١ نيسان ١٩٩٦ ذكرى عدوان عناقيد الغضب. url',\n",
       " 'rt @user: يا تاررررررريخي يا وحشششش يا جدار الهلال ',\n",
       " 'ماهو يا اجيلك يا تجيلي و ترجع تنور ليلي..',\n",
       " 'rt @user: @user @user @user دام عزك يا بلادي <lf>دام عزك يا بلادي<lf>دام عزك يا بلادي<lf>دام عزك يا بلادي<lf>دام عزك يا بل…',\n",
       " '@user @user الف مبروك تانى وتالت ورابع ولو قلتها مليون مره مش هتعبر عن فرحتى بيكى يا ابو العنين يا اقمر عروسه ف المجرهعقبالك يا لولو ...عائله ابو العنين on fire ',\n",
       " '_ انا ميهمنيش شكل الراجل اللي هرتبط بيه يا ميمى..<lf>= انتى بت جدعة و اصيلة اقسم بالله _ انا هيمنى الاوبايج المونى الفلوس و بس..<lf>= اه يا بنت اللظيظة يا وسخة...<lf><lf> #زعيم_تويتر_k',\n",
       " '@user يا شوك يا شوك صباحك جميل',\n",
       " 'طب اجبهالك ازااااااي🤔🤔🤔 — لا مش عارفه .... يا تقول يا متقولش عادي يعني هي مش كيمياااا  url',\n",
       " \"rt @user: توجد عدة حفاظات عصائر في جهة الازهري مودنها على الاعتصام قبل الجمعة يا ريت <lf>'((((اعملوا ريتويت))))) يا جماعة <lf>رسلوا لي dm رقم ن…\",\n",
       " 'يا ميريت يا خاينه يا فاجره',\n",
       " '@user ربنا يباركله ويوفقه والله. <lf>ويوفقك يا وحيد يا صاحبي والله ',\n",
       " 'يارب كانت خفيفة لطيفة ، لا تضرّ تحب الخير والمساعدة <lf>اللهم عوّض شبابها يا رب العالمين بالفردوس يا ارحم الراحمين.. #صافيه_المري',\n",
       " '@user يلعن شرفك يا اخو الشرموطة يا ابن الزانية',\n",
       " 'يا حلوكم و يا حلو فرحتكم',\n",
       " '@user الف سلامه عليك يا لعيب يا كبير الفرحه منقوصه بسبب اصابتك ان شاء الله بسيطه وترجعلنا بالسلامه',\n",
       " 'يا رحيم يا غفور يا سميع يا ودود انصرنا على القوم الكافرين',\n",
       " 'rt @user: يا بني أدم يا غبي لا تتظاهر بالعمى و أنت تشوف كل شي بوضوح وتطوف زلاتهم دوسهم و إمشي',\n",
       " '@user @user يا نعيش سوا يا نموت سوا',\n",
       " 'يا عنود الغيد يا الريم النفور<lf>يا غرام النفس يا نزف الشعور',\n",
       " 'do you know any jokes? — دي اهانة مقبلهاش! ماتصغريناش يا قطة يا فضولية بقى url',\n",
       " '@user السلام عليكم ورحمه الله وبركاته يا استاذ اسامه يا استاذ اسامه رد علينا في التلفزيون لاحسن قاعد مع اثنين مليون معوق قدام مدينه الانتاج الاعلامي عشان الشاب اسمه محمد خالد محمد ابراهيم القاضي ثاني هناك وضرب ولا من هناك و غاده والي بعثت ناس يضربو',\n",
       " 'rt @user: الليلة ود الأمين في القيادة ومن هسي يا تعتصموا انتو يا يعتصم هو .',\n",
       " '@user الف مبروك يا زيكو و عقبالك يا حب ان شاء الله ',\n",
       " '#اردوغان_يعادي_السعوديه<lf>والله لن تعدو قدرك يا قرد غان يا بن اليهودية ،،،وستنبيك الايام كيف ستكون انت ودولتك العلمانية،،<lf>قريبا ستصبح هكذا ولن تنفعك الدموع والاستجداءات يا قزم،، url',\n",
       " '@user @user @user @user @user @user @user @user @user @user يا مهون يا مرت ابوي الاوله ما اطقع من عمر غير عمير مالت على اشكالهم',\n",
       " 'يا كل الذين ارى يا كل اللحظات المطمئنة.',\n",
       " 'rt @user: يا لبيييييييييه يا جمهورنا  url',\n",
       " 'rt @user: #الدوري_لونه_احمر<lf>هفضل واقف ف ضهره لاخر الزمان <lf>معاك يا اهلي وندعمكم يا رجاله وكل الدعم للمدرب <lf>ان شاء الله الدوري اهل…',\n",
       " 'أمثالكن يا بنات شكاير النوتيلا يا عديمات السينس أوف هيومَر بيخلوني أعذُر الولاد اللي طلعوا ستيريوتايپ إن البنات دمهم تقيل ومبيعرفوش يهزروا وبيخلوني بردو أتسائل أنا بفتح فيسبوك ليه أو أنا ليه حواليا هذه الدائرة من الكلبوبات الأتراكتيڤ شكلًا المملّات حتى النخاع',\n",
       " 'وفي القلـب أدعيـة لا يعلمهـا إلا انـت يا الله<lf>فاستجبهـا يا رحمن يا رحيم يا مجيـب الدعوات',\n",
       " 'يا رب يموت الانجليزي يا ربببب',\n",
       " '@user وليش تتم دعوتك؟<lf>انت إنسان فارغ دون أي إنجازات حقيقية.. حتى ماكلفت نفسك تدعوا لـ #الهلال ممثل الوطن في هذا النهائي يا كمخه هههههههههه<lf>يا تذكر فتشكر يا اوراوا يا سدني يالعالمية صعبة قوية يا نيشيمورا<lf>',\n",
       " 'rt @user: يا مو يا جميل بتعمل وضع الشجره اليوجي...  <lf>@user اتمنى تعمل شي للطبيعه و البيئه <lf>the trees loves mo salah …',\n",
       " 'ينتقم منك ربنا يا فالفيردي وفوووق يا ميسي عايزييين التاااني',\n",
       " 'rt @user: يا قبلة الله يا تباهيج وإلهام <lf>يا اول من افهق له ضلوع المحانِي .',\n",
       " 'سلام من عينك الحلوه ... ترد الروح و يحييني<lf>يا سحر الشرق يا غنوه ... يا بحر الشهد أرويني<lf>-<lf>#طلال_مداح #طلاليات url',\n",
       " '#عشان_الحب_بقول<lf>بلا حب بلا خرابيط كله كذب في كذب وكلها وهم في وهم الحب ومعاكسات وارسلي صوره وكلام فاضي ثم يبتزك بصورك ويهددك انتبهوا يا بنات انتبهوا يا شباب<lf>الحب الحقيقي بعد الزواج<lf>الحب الحقيقي بعد الزواج<lf>الحب الحقيقي بعد الزواج .',\n",
       " 'rt @user: يا كافيني عن النّاس يا كلّ الناس بعيوني .',\n",
       " '@user و الله تحتاج في كذا مركز و الاسم الافضل يجي يا مهاجم يا صانع يا محور',\n",
       " '@user @user @user يا حساس يا عشره نفر url',\n",
       " 'rt @user: @user @user يا مرحبا فيك يا خالد صح لسانك يا جميل',\n",
       " 'يا تشدون اليد للأبد يا لا تلمسونها أبدآ .',\n",
       " 'يا صديقي الذي أحبه يا حبيبي الذي أصادقه url',\n",
       " 'يا راحه للقلب و يا حب هالقلب لك',\n",
       " 'rt @user: يا ودود يا ودود يا فعال لما يريد يا رب العرش العظيم<lf>إني أسألك بانك انت الله الذي لا إله إلا هو ، أن تجعلني وأحبتي ومن تصله…',\n",
       " 'rt @user: كيان عظيم لا يستحق الا الفرح...<lf>افرح يا عميد افرح يا اتحاد<lf>الف مبروووك + <lf>#انا_الاتحاد <lf>#الاتحاد_الاتفاق url…',\n",
       " '@user @user يا اشرف الزمالك له هدف سليم ١٠٠ ٪ يا اشرف، يا اشرف يا مفضوح يا معرص يابو خمسة شوفلك حتة واتدارى فيها يا معرص يابو خمسة.. ما بتشوفوش غير اللي على مزاجكم يا معرصين يا ولاد الوسخة!!',\n",
       " '@user يا بغله يا بغله عشان كده كل مااقولك تخنت تقوليلي لا جسمك حلو بتخدعيني لااااااا فاضل اي يا دنيا تاني مجبتهيهوش ',\n",
       " 'يا قسم يا ناااس ف رسمة اسمها ال resorption متنسوهاش وهاتوهالنا بكرا وهندعيلكم',\n",
       " 'يا رهيب يا فارس كيف فكرت فيها بدال مبروك حط معيوف url',\n",
       " 'rt @user: #نجوى_كرم رفضت تقعد ع كرستها خلال اطلاق عطرها لأنو في كتير من الحضور واقفين يا هيك الفنانين يا بلا url',\n",
       " 'زمان يا بلنتيات يا رب هلاليه #الأهلي_الهلال',\n",
       " '@user ونت طيب يا موحا يا احلى زنجي في تاريخ القارة السمراء ',\n",
       " 'rt @user: موسوعة غينيس يا ابن عوف يا بليد <lf>#اعتصام_القياده_العامه',\n",
       " 'يا حبي الأول و يا حبي الأخير<lf>يا كل أحاسيسي و يا كل مسمعي <lf>يا أغلى البشر يا أغلى عشير <lf>ما ابي من الدنيا إلا تبقى معي',\n",
       " '@user يا بيضا يا دلدوله هاتى البطه اللي تريحك ....',\n",
       " '@user يارب أنك تشفيها وتعافيها وتخليها لا حبابها يارب يارب انك تشفيها على يدك يارب العالمين يارب سريع مابطى يارب يارب تشفيها ياكريم يا العزيز يا مستجيب الداعوت انك تشفي كل مريض ..الله يفرحك با شفاءها ان شاءالله عن غريب .',\n",
       " 'rt @user: يا يمين الخير يا يمنى فهد<lf>في ظلالك مستظل ٍ هالبلد<lf>تزرعين الخير لاولاد الولد<lf>وطايل ٍ خيرك جميع المسلمين .<lf>الله يسكنك فسيح جنا…',\n",
       " '@user على طاري يا قويك يا اخييي <lf>تذكرت خوينا بو السعابيل ههههههههههههه',\n",
       " 'rt @user: يا حضور الجمهور يا الانسحاب #ماتش_الاسيوطي_بجمهور',\n",
       " 'rt @user: يا خيبة ظنوني، و يا كبر القهر <lf>ودي أقول لـ دورة الأرض اوقفي<lf>.<lf>لا تبدي أعذارك أنا اللي بعتذر<lf>و أستسمحك باقي سنيني و أختفي',\n",
       " 'يخرب بيتكم يا وضيعين يا هلاليين الفوز للأتحاد ومستحقينه الكل متفق على كذا وفوزنا عليكم مستحقينه تجيبون طاري مباراتنا ليييه ليييه',\n",
       " 'يا حبايبي يا اصحاب الثرونز اقرفتونا خلاص',\n",
       " 'يا بنت النُور .. يا عِقد من الوله منثور',\n",
       " 'rt @user: @user واحنا بنعمل ايه من سنين؟؟ يا تعبنا يا شقانا لسة ضايع هدر',\n",
       " 'rt @user: إضحكي يا قرة الحسّن يا بدرٍ مُنير .',\n",
       " 'بقي عشرون يومًا <lf>وتأتي بإذن الله أجملُ ثلاثون يومًا <lf>،<lf>اللّهم بلغنا رمضان لا فاقدين ولا مفقودين، وأكتبنا فيه ممن عمل الصالحات،وعتق من النار يا رحمٰن يا عظيم،وأجعلها أيام سعيدة للمسلمين جميعًا يا كريم.<lf>.<lf> #رمضان',\n",
       " '* دعاء الصباح ^ يا عظيم الرجاء يا واسع العطاء اغفر لمن لا يملك إلا الدعاء فإنك فعال لما تشاء يا من اسمه دواء وذكره شفاء وطاعته غنى أرحم من رأس ماله الرجاء يا سابغ النعم يا دافع النقم يا نور المستوحشين في الظلام أغفر لنا ولوالدينا ولأحبتنا كل ذنب اقترفناه وأرحمنا برحمتك يا رب ',\n",
       " 'يا مرحبا يا مرحبا الساع يا بو عيون سود و وساع -',\n",
       " '@user آمييين يا عمري وياك يا رب ',\n",
       " '@user @user @user يوووووه يالمنشن يا عز يا انهم منضغطين ضغط والله يزيدهم',\n",
       " '#شخص_يحبه_قلبكم<lf>حسابك كام بقي يا سي السيد؟<lf>-الحساب وصل<lf>من امتي يا سي السيد<lf>-من ساعه ما حصل<lf>خليتك بعافيه يا سي السيد<lf>-الله يعافيكي يا سلطانة<lf>-مع السلامة يا ارض احفظي ما عليكي <lf>البضاعه دي اللي ماندفعش تمنها هنقيدها ايه في الدفتر؟<lf>-قيد عندك .. \"بضاعة اتلفها الهوي\" url',\n",
       " '@user بس يا أشكال يا وسخه ... الحقد ملك عقلكم وقلوبكم',\n",
       " 'rt @user: حفظتك وصنتك .... وحبيتك بسر<lf>\"لكن عيُوني بالهوى سولفت بك\"<lf>يا حلو أيامي ... يا حلوى يا سكّر<lf>قلبي وروحي ... يالغلا كلها لك',\n",
       " 'rt @user: الهي تسيح جماجمكم كمان وكمان يا محبي الصيف يا مازوخيين  url',\n",
       " 'يا بشر يا ناس يا عالم احنا نعيش في القرن  في عصر المعلومات عصر التكنولوجيا! وعصر التطور الرهيب هذا!! وسهولة الوصول للمعلومة بضغطة زر فقط!! وفي بشر لا تعرف نظرية الكم؟؟<lf>بالله عليكم كل هذا التطور الي نعيشه من الاقمار الاصطناعية إلى ريموت التلفزيون يعتمد على نظرية الكم او الكمومية',\n",
       " '@user @user قل لي ماذا تفعل هذه العمائم في الكعبة يا سعودي يا معتدل يا من تكره الواعش وتنهي النقاش وتهرب url',\n",
       " 'اللهم اجمعنا مع من علقت قلوبنا به برحمتك <lf>يا عفو يا قدير يا قريب يا مجيب<lf>#غرد_لي_بالخير<lf>url',\n",
       " '@user كفو يا يمن يا اصل العرب ،، التاريخ يقول اليمن مقبرة الغزاه . ياويلهم ويل عملاء الفرس و الاخونج . اجلدوهم جلد . مالقو الا اليمن يخسون ماا يسلبونها من عروبتها و قبيلتها ',\n",
       " 'الحب كما قال الستموني :\" قالولي ليه تعشق قفـا؟! .. وتسيب قلوب فيها الدفا ..<lf>قولتلهم قلبـي الى انكفا .. والحب ملوش ف الفلسفه ..<lf> آآه يا أفـا .. آآه يا أفــا .. آآه يا أفـا..\"<lf>اجمد فلم ف المجره (الكيف)',\n",
       " 'سقطت يا ماكور<lf>سقطت يا عبد العظيم<lf>سقطت يا الفاتح<lf>سثطت يا استاذ احمد <lf>سقطت يا مجحوب<lf>سقطت يا صالح<lf>سقطت يا هشام<lf>سقطت يا عمو معاوية<lf>سقطت يا دكتور بابكر <lf>سقطت يا هزاع<lf>سقطت يا شهداء العيلفون<lf> يا شهداء سبتمبر <lf>يا شهداء ديسمبر يا شهدا  رمضان سقطت يا شهداء عنبر جودة سقطت يا شهداء دارفور',\n",
       " '@user يا صباح الحب يا نبضي وذاتي<lf> يا صـباح الـعطر من طلتك فاح<lf>يا وجودي انت يا روعة حياتي<lf> يا بـعـد عـمـري يا ورد الـصـباح..',\n",
       " 'rt @user: يا جماعة نحن بالظبط في الحته دي يا نواصل يا نرجع ونكون قطعنا مشوار عالفاضي<lf>#اعتصام_القيادة_العامة url',\n",
       " 'يا صيف يا صيف دهب يا صيف — يلااا بينااا عل اممااااا url',\n",
       " 'rt @user: @user احنا وانت يا كريمه يا بنت الاصول قشطات',\n",
       " 'rt @user: مرة زول قال : يا نعيش رجال يا نموت أحرار!!<lf>وبعدين كبرها ماليزيا عشان ما يموت!<lf>بعدين زعل عشان الاحرار ما استشاروهو!!<lf>اي بس هو ا…',\n",
       " 'اوه يا هلالي اوه يا معيوف  #الهلال_والاهلي',\n",
       " 'يا حسام يا عاشور يا حبيبى اعمل اي حاجة ياخى اشتم اي منظر بدل مترجع الكورة لورا',\n",
       " 'يا ظريف الطول إلحق يا ظريف...إلي قالوا عنها تريدك نزفت عالرصيف <lf>بقولوا دورك يا خيتا عنا خفيف...هدول إلي ما عرفوا تاريخ بلادنا ',\n",
       " '@user امين يا رب العالمين تسلم يا دكتور ويبارك فيك',\n",
       " '@user @user ههههههههههههه يا بنت الاية يا هبة اروبة',\n",
       " '@user انت يا اما غبي يا اما بتستغبى انا اقولك والله حياتي مادخلت معاهم ولا استلمت منهم شي',\n",
       " 'rt @user: سمعت كده ان السودانيين القمرات هيجوا يلعبوا عندنا ماتش الكونفدراليه .. يا مراحب يا اهل الدار يا مراحب ',\n",
       " '@user اقرل احذفه يا حفراوي يا معفن يا يطقطقون علي',\n",
       " 'بتغير علي بنت معينه يا وجدي يا شقي — النمرة غلط يا انون  url',\n",
       " 'rt @user: اهلاً أبريل..<lf>أملي فيك يا تجمعنا يا أنسى بشكل نهاااااائي',\n",
       " 'أحرقتني دمعةٍ من فوق خدّي<lf>دافعٍ من ليلة الفرقى ثمنها<lf>أحسب أنها دمعةٍ وحده تسدّي<lf>و أحسب أنها و أحسب أنها و أحسب أنها<lf>و أثرها إلاّ يا معشّي يا مغدّي<lf>كل دمعه برّكوها في صحنها url',\n",
       " 'rt @user: ساعه يا ونيس ،،،<lf>ماهي عيب يا سيد التريس <lf>كان غفيت ساعه يا ونيس <lf>ساعه يا عنيد <lf>ياللي جبت من برقه بعيد <lf>مانك تو متحمل الكيد <lf>خاي…',\n",
       " 'rt @user: يا إله العالمين يا رحمن.. هب لهم العفو والغفران.. اللهم اجعل مأواهم أعالي الجنان.. #حاتم_البريدي #صهيب_العواد',\n",
       " 'يا فريـد الطبـَع يا حلـو الوصـوُف .',\n",
       " 'الاهلى ده حياتنا شوفنا معاه المعجزات و النهاردة ان شاء الله هتبقى معجزة من معجزاتك يا اهلى قدها يا اهلى  #قدها__يا__اهلي',\n",
       " 'rt @user: #للخلف_درر_يا_زمالك<lf>- يلا جهزي نفسك يا زينب <lf>= ليه يا عبسميع <lf>-مركزنا مستنينا  url',\n",
       " 'rt @user: الله يحفظك يا ماجيكو يا فخر العرب.. علشان كده في نظرهم إرهـــابي !. url',\n",
       " '@user @user يا متورد يا خضعي لاسيادك<lf>زعلان ليش قاومناهم هههههه',\n",
       " 'rt @user: قلت مرحبا الساع يا متابعيني،،،، ومرحبا ملايين زود لكم بعد مني،،، وش حالكم يا عرب يا اللي عالي قدركم معي،،،، يا عساكم بخير و…',\n",
       " 'إيه يا حظ، إيه يا سفر، إيه يا فلوس، إيه ياجواز ، إيه يا ولاد الوسخه هو أنا شفاف؟!',\n",
       " '@user يا الله عليك يا قيس<lf>اين انتي ليلىٰ<lf>@user <lf>…<lf>يسعد صباحكم بالخير<lf>',\n",
       " '@user ولو متضخكش نضحكلك يا جيجي يا قمرز انتي ',\n",
       " 'يا إنت .. يا عمري أنا . url',\n",
       " '@user يا أمل المنتظرين يا حبيب قلوب العاشقين<lf>يا مهدي الزمان',\n",
       " 'عن الشعور اللي ما تقدر تحكّيه لأحد من ثقله على صدرك.<lf> يا ربّ الخِفّة، يا ربّ انت الرحمن الرحيم.',\n",
       " 'قالو مايكي كبرني  سنوات قدام , شوضعي مع المايكات انا يا اكبر يا اصغر  url',\n",
       " 'ارجعي يا اوني يا ملكة الذكاء ايش بنسوي بدونك  url',\n",
       " 'rt @user: حرام عليك يا بافاري يا ناري<lf>اليوم تعاقب برشلونة اللي كان عنده أجمل كورة فى المعمورة<lf> url',\n",
       " '@user @user يا متابع انت يا حوت يا برنس',\n",
       " '@user كسمك يا بنت المتناكة يا وسخة ما بتشبعيش ذل و اهانة',\n",
       " 'سفارة الإمارات يا زول سفارة الإمارات يا زول سفارة الإمارات يا زول سفارة الإمارات يا زول سفارة الإمارات يا زول #تسقط_بس',\n",
       " 'rt @user: #قروب_رواد_الاقصى <lf>#معركة_الكرامة<lf>وهتف المشاركون في الاعتصام \"من النقب طلع القرار.. يا شهادة يا انتصار، للأسير دين كبير.. الق…',\n",
       " 'rt @user: @user يا صغيرة عل الهم يا لوزة ',\n",
       " 'اللهم استجب لنا ياحي ياقيوم يا الله ياواحد يا احد يافرد ياصمد',\n",
       " 'rt @user: يا زين جوك يا المضيرب<lf>عساها أمطار خير ورحمه ويعم بنفعها البلاد والعباد url',\n",
       " '@user @user أعتذر لعقلك الصغير يا أهبل<lf>النقاش مع البهائم غير مجدي<lf>ردودك مضحكة يا شحاذ يا متشرد<lf>حقدك ع السعودية وحكامها سيقتلك ونتمنى ذلك<lf>اليمن لها أبناؤها العقلاء الأقوياء وليس التافهين من أمثالك ،،',\n",
       " 'يا اهلا وسهلا يا تلتميت اهلا وسهلا  url',\n",
       " 'في أشد اللحظات بؤسًا<lf>في أكثرها عتمة<lf>ستجد صوتًا دافئًا يهمس في أعماق وجدانك<lf>صوتا يشق العتمة بداخلك<lf>صوتا مملّحًا بالدموع<lf>صوت الرحيمة أمك يهمس في أذن السماء:<lf>\" يا رب ولدي .. يا رب ولدي \"',\n",
       " 'يا حبيبتي، يا أول فرحة تمسح دمعة عيني.',\n",
       " 'rt @user: بسم  الرّحمن \\u200cالرّحيم<lf>يا مقلّب القلوب والأبصار، يا مدبّر اللّيل والنّهار، يا محوّل الحول والأحوال، حوّل حالنا إلى أحسن ال…',\n",
       " 'rt @user: يا جدعان قلبي يا جدعان والله دي قلبي  url',\n",
       " '#youtubegiveusourmillionback<lf>يا خرا يا زق يا ***** f*** و الله نهايتكم عايدي اقسم بالله لو ما ترجعولنا حقنا اموتكم url',\n",
       " 'تضيع فرص بدون هدف يا سواريز يا كوتينهو ما هدا ',\n",
       " '@user @user مافي احد قال \" محفظة مليانة فلوس \" انا اتكلم على مبدا لو انها في في بيت ابوها عايشة في وضع معين الزوج يا يكمل يا اعلى من كدا ! يعني بتفهميني لو وحدة ابوها مو مقصر معاها ابدا في اي شي ترضى تاخد واحد يالله يسد احتياجات بيتو؟',\n",
       " 'يا ظلي ويا داري، يا أجمل أفكاري.',\n",
       " 'منهو مثلك ومثلي من مثل حبنا ،<lf>انت يا احلى حكايه وانت يا احلى جنون',\n",
       " 'تخيل انو مافي زول بفكر او فكر او حيفكر انو حيفكر فيك اساساً يا منبوذ يا وحيد و يا بائس يا انا التاني',\n",
       " '@user @user ان شاء الله يا غالي حبيبي يا محمد<lf>ودايما متجمعين علي عشق الكيان',\n",
       " ...]"
      ]
     },
     "execution_count": 35,
     "metadata": {},
     "output_type": "execute_result"
    }
   ],
   "source": [
    "lst"
   ]
  },
  {
   "cell_type": "code",
   "execution_count": 71,
   "metadata": {},
   "outputs": [],
   "source": [
    "from bert_serving.client import BertClient"
   ]
  },
  {
   "cell_type": "code",
   "execution_count": 72,
   "metadata": {},
   "outputs": [
    {
     "ename": "NameError",
     "evalue": "name 'lst' is not defined",
     "output_type": "error",
     "traceback": [
      "\u001b[0;31m---------------------------------------------------------------------------\u001b[0m",
      "\u001b[0;31mNameError\u001b[0m                                 Traceback (most recent call last)",
      "\u001b[0;32m<ipython-input-72-d4add5c2a6ed>\u001b[0m in \u001b[0;36m<module>\u001b[0;34m\u001b[0m\n\u001b[1;32m      2\u001b[0m \u001b[0mbc\u001b[0m \u001b[0;34m=\u001b[0m \u001b[0mBertClient\u001b[0m\u001b[0;34m(\u001b[0m\u001b[0;34m)\u001b[0m\u001b[0;34m\u001b[0m\u001b[0;34m\u001b[0m\u001b[0m\n\u001b[1;32m      3\u001b[0m \u001b[0;31m# get the embedding\u001b[0m\u001b[0;34m\u001b[0m\u001b[0;34m\u001b[0m\u001b[0;34m\u001b[0m\u001b[0m\n\u001b[0;32m----> 4\u001b[0;31m \u001b[0membedding\u001b[0m \u001b[0;34m=\u001b[0m \u001b[0mbc\u001b[0m\u001b[0;34m.\u001b[0m\u001b[0mencode\u001b[0m\u001b[0;34m(\u001b[0m\u001b[0mlst\u001b[0m\u001b[0;34m)\u001b[0m\u001b[0;34m\u001b[0m\u001b[0;34m\u001b[0m\u001b[0m\n\u001b[0m\u001b[1;32m      5\u001b[0m \u001b[0;31m# check the shape of embedding, it should be 1x768\u001b[0m\u001b[0;34m\u001b[0m\u001b[0;34m\u001b[0m\u001b[0;34m\u001b[0m\u001b[0m\n\u001b[1;32m      6\u001b[0m \u001b[0mprint\u001b[0m\u001b[0;34m(\u001b[0m\u001b[0membedding\u001b[0m\u001b[0;34m.\u001b[0m\u001b[0mshape\u001b[0m\u001b[0;34m)\u001b[0m\u001b[0;34m\u001b[0m\u001b[0;34m\u001b[0m\u001b[0m\n",
      "\u001b[0;31mNameError\u001b[0m: name 'lst' is not defined"
     ]
    }
   ],
   "source": [
    "# make a connection with the BERT server using it's ip address; do not give any ip if same computer\n",
    "bc = BertClient()\n",
    "# get the embedding\n",
    "embedding = bc.encode(lst)\n",
    "# check the shape of embedding, it should be 1x768\n",
    "print(embedding.shape)"
   ]
  },
  {
   "cell_type": "code",
   "execution_count": 38,
   "metadata": {},
   "outputs": [
    {
     "name": "stdout",
     "output_type": "stream",
     "text": [
      "(1000, 768)\n"
     ]
    }
   ],
   "source": [
    "dev = bc.encode(x_test)\n",
    "print(dev.shape)"
   ]
  },
  {
   "cell_type": "code",
   "execution_count": 41,
   "metadata": {},
   "outputs": [
    {
     "name": "stderr",
     "output_type": "stream",
     "text": [
      "/Users/zhijuncai/anaconda3/lib/python3.7/site-packages/sklearn/linear_model/logistic.py:432: FutureWarning: Default solver will be changed to 'lbfgs' in 0.22. Specify a solver to silence this warning.\n",
      "  FutureWarning)\n"
     ]
    }
   ],
   "source": [
    "from sklearn.linear_model import LogisticRegression\n",
    "model_bert = LogisticRegression()\n",
    "# train\n",
    "model_bert = model_bert.fit(embedding, y_train)\n",
    "# predict\n",
    "pred_bert = model_bert.predict(dev)"
   ]
  },
  {
   "cell_type": "code",
   "execution_count": 44,
   "metadata": {},
   "outputs": [
    {
     "name": "stdout",
     "output_type": "stream",
     "text": [
      "              precision    recall  f1-score   support\n",
      "\n",
      "           0       0.86      0.95      0.90       821\n",
      "           1       0.53      0.28      0.37       179\n",
      "\n",
      "    accuracy                           0.83      1000\n",
      "   macro avg       0.69      0.62      0.64      1000\n",
      "weighted avg       0.80      0.83      0.81      1000\n",
      "\n"
     ]
    }
   ],
   "source": [
    "from sklearn.metrics import accuracy_score\n",
    "print(metrics.classification_report(y_test, pred_bert))"
   ]
  },
  {
   "cell_type": "code",
   "execution_count": null,
   "metadata": {},
   "outputs": [],
   "source": []
  }
 ],
 "metadata": {
  "kernelspec": {
   "display_name": "Python 3",
   "language": "python",
   "name": "python3"
  },
  "language_info": {
   "codemirror_mode": {
    "name": "ipython",
    "version": 3
   },
   "file_extension": ".py",
   "mimetype": "text/x-python",
   "name": "python",
   "nbconvert_exporter": "python",
   "pygments_lexer": "ipython3",
   "version": "3.7.3"
  },
  "toc": {
   "base_numbering": 1,
   "nav_menu": {},
   "number_sections": true,
   "sideBar": true,
   "skip_h1_title": false,
   "title_cell": "Table of Contents",
   "title_sidebar": "Contents",
   "toc_cell": false,
   "toc_position": {
    "height": "calc(100% - 180px)",
    "left": "10px",
    "top": "150px",
    "width": "438px"
   },
   "toc_section_display": true,
   "toc_window_display": true
  }
 },
 "nbformat": 4,
 "nbformat_minor": 2
}
